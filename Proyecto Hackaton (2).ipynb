{
 "cells": [
  {
   "cell_type": "markdown",
   "metadata": {},
   "source": [
    "# Proyecto Hackaton"
   ]
  },
  {
   "cell_type": "markdown",
   "metadata": {},
   "source": [
    "##  Importar, limpiar y analizar los datos del dataset"
   ]
  },
  {
   "cell_type": "markdown",
   "metadata": {},
   "source": [
    "### Inicializacion"
   ]
  },
  {
   "cell_type": "code",
   "execution_count": 6,
   "metadata": {},
   "outputs": [],
   "source": [
    "# Importar librerias\n",
    "import pandas as pd\n",
    "import matplotlib.pyplot as plt\n",
    "import numpy as np"
   ]
  },
  {
   "cell_type": "code",
   "execution_count": 7,
   "metadata": {},
   "outputs": [],
   "source": [
    "# Cargar el archivo CSV\n",
    "data = pd.read_csv('Online_Retail.csv', encoding='ISO-8859-1')\n",
    "data_initial_size = data.shape[0]"
   ]
  },
  {
   "cell_type": "code",
   "execution_count": 8,
   "metadata": {},
   "outputs": [
    {
     "data": {
      "text/html": [
       "<div>\n",
       "<style scoped>\n",
       "    .dataframe tbody tr th:only-of-type {\n",
       "        vertical-align: middle;\n",
       "    }\n",
       "\n",
       "    .dataframe tbody tr th {\n",
       "        vertical-align: top;\n",
       "    }\n",
       "\n",
       "    .dataframe thead th {\n",
       "        text-align: right;\n",
       "    }\n",
       "</style>\n",
       "<table border=\"1\" class=\"dataframe\">\n",
       "  <thead>\n",
       "    <tr style=\"text-align: right;\">\n",
       "      <th></th>\n",
       "      <th>INVOICE_NO</th>\n",
       "      <th>STOCK_CODE</th>\n",
       "      <th>DESCRIPTION</th>\n",
       "      <th>QUANTITY</th>\n",
       "      <th>INVOICE_DATE</th>\n",
       "      <th>UNIT_PRICE</th>\n",
       "      <th>CUSTOMER_ID</th>\n",
       "      <th>REGION</th>\n",
       "    </tr>\n",
       "  </thead>\n",
       "  <tbody>\n",
       "    <tr>\n",
       "      <th>126483</th>\n",
       "      <td>547079</td>\n",
       "      <td>48194</td>\n",
       "      <td>DOORMAT HEARTS</td>\n",
       "      <td>2</td>\n",
       "      <td>20/03/2020 15:02</td>\n",
       "      <td>7.95</td>\n",
       "      <td>15408.0</td>\n",
       "      <td>United Kingdom</td>\n",
       "    </tr>\n",
       "    <tr>\n",
       "      <th>168952</th>\n",
       "      <td>551152</td>\n",
       "      <td>22637</td>\n",
       "      <td>PIGGY BANK RETROSPOT</td>\n",
       "      <td>1</td>\n",
       "      <td>26/04/2020 14:47</td>\n",
       "      <td>2.55</td>\n",
       "      <td>13230.0</td>\n",
       "      <td>United Kingdom</td>\n",
       "    </tr>\n",
       "    <tr>\n",
       "      <th>426132</th>\n",
       "      <td>573345</td>\n",
       "      <td>23157</td>\n",
       "      <td>SET OF 6 NATIVITY MAGNETS</td>\n",
       "      <td>4</td>\n",
       "      <td>30/10/2020 12:14</td>\n",
       "      <td>2.08</td>\n",
       "      <td>17609.0</td>\n",
       "      <td>United Kingdom</td>\n",
       "    </tr>\n",
       "    <tr>\n",
       "      <th>9487</th>\n",
       "      <td>537202</td>\n",
       "      <td>22150</td>\n",
       "      <td>3 STRIPEY MICE FELTCRAFT</td>\n",
       "      <td>2</td>\n",
       "      <td>05/12/2019 14:25</td>\n",
       "      <td>1.95</td>\n",
       "      <td>14506.0</td>\n",
       "      <td>United Kingdom</td>\n",
       "    </tr>\n",
       "    <tr>\n",
       "      <th>516487</th>\n",
       "      <td>C579912</td>\n",
       "      <td>84949</td>\n",
       "      <td>SILVER HANGING T-LIGHT HOLDER</td>\n",
       "      <td>-11</td>\n",
       "      <td>01/12/2020 08:54</td>\n",
       "      <td>1.45</td>\n",
       "      <td>17044.0</td>\n",
       "      <td>United Kingdom</td>\n",
       "    </tr>\n",
       "    <tr>\n",
       "      <th>423059</th>\n",
       "      <td>573135</td>\n",
       "      <td>23173</td>\n",
       "      <td>REGENCY TEAPOT ROSES</td>\n",
       "      <td>2</td>\n",
       "      <td>27/10/2020 17:00</td>\n",
       "      <td>9.95</td>\n",
       "      <td>12952.0</td>\n",
       "      <td>United Kingdom</td>\n",
       "    </tr>\n",
       "    <tr>\n",
       "      <th>46876</th>\n",
       "      <td>540365</td>\n",
       "      <td>21039</td>\n",
       "      <td>RED RETROSPOT SHOPPING BAG</td>\n",
       "      <td>6</td>\n",
       "      <td>06/01/2020 16:12</td>\n",
       "      <td>2.55</td>\n",
       "      <td>12413.0</td>\n",
       "      <td>France</td>\n",
       "    </tr>\n",
       "    <tr>\n",
       "      <th>378371</th>\n",
       "      <td>569650</td>\n",
       "      <td>22725</td>\n",
       "      <td>ALARM CLOCK BAKELIKE CHOCOLATE</td>\n",
       "      <td>50</td>\n",
       "      <td>05/10/2020 12:44</td>\n",
       "      <td>3.39</td>\n",
       "      <td>12415.0</td>\n",
       "      <td>Australia</td>\n",
       "    </tr>\n",
       "    <tr>\n",
       "      <th>60999</th>\n",
       "      <td>541423</td>\n",
       "      <td>20832</td>\n",
       "      <td>RED FLOCK LOVE HEART PHOTO FRAME</td>\n",
       "      <td>4</td>\n",
       "      <td>17/01/2020 17:54</td>\n",
       "      <td>0.79</td>\n",
       "      <td>NaN</td>\n",
       "      <td>United Kingdom</td>\n",
       "    </tr>\n",
       "    <tr>\n",
       "      <th>207760</th>\n",
       "      <td>555000</td>\n",
       "      <td>21216</td>\n",
       "      <td>SET 3 RETROSPOT TEACOFFEESUGAR</td>\n",
       "      <td>4</td>\n",
       "      <td>31/05/2020 08:03</td>\n",
       "      <td>4.95</td>\n",
       "      <td>18232.0</td>\n",
       "      <td>United Kingdom</td>\n",
       "    </tr>\n",
       "    <tr>\n",
       "      <th>206890</th>\n",
       "      <td>554959</td>\n",
       "      <td>22386</td>\n",
       "      <td>JUMBO BAG PINK POLKADOT</td>\n",
       "      <td>1</td>\n",
       "      <td>27/05/2020 15:18</td>\n",
       "      <td>4.13</td>\n",
       "      <td>NaN</td>\n",
       "      <td>United Kingdom</td>\n",
       "    </tr>\n",
       "    <tr>\n",
       "      <th>204401</th>\n",
       "      <td>554658</td>\n",
       "      <td>21231</td>\n",
       "      <td>SWEETHEART CERAMIC TRINKET BOX</td>\n",
       "      <td>12</td>\n",
       "      <td>25/05/2020 14:18</td>\n",
       "      <td>1.25</td>\n",
       "      <td>12839.0</td>\n",
       "      <td>United Kingdom</td>\n",
       "    </tr>\n",
       "    <tr>\n",
       "      <th>184046</th>\n",
       "      <td>552675</td>\n",
       "      <td>21902</td>\n",
       "      <td>KEY FOB  FRONT  DOOR</td>\n",
       "      <td>1</td>\n",
       "      <td>10/05/2020 15:07</td>\n",
       "      <td>1.63</td>\n",
       "      <td>NaN</td>\n",
       "      <td>United Kingdom</td>\n",
       "    </tr>\n",
       "    <tr>\n",
       "      <th>372719</th>\n",
       "      <td>569246</td>\n",
       "      <td>23301</td>\n",
       "      <td>GARDENERS KNEELING PAD KEEP CALM</td>\n",
       "      <td>7</td>\n",
       "      <td>03/10/2020 09:57</td>\n",
       "      <td>3.29</td>\n",
       "      <td>14096.0</td>\n",
       "      <td>United Kingdom</td>\n",
       "    </tr>\n",
       "    <tr>\n",
       "      <th>470853</th>\n",
       "      <td>576618</td>\n",
       "      <td>22944</td>\n",
       "      <td>CHRISTMAS METAL POSTCARD WITH BELLS</td>\n",
       "      <td>18</td>\n",
       "      <td>15/11/2020 17:00</td>\n",
       "      <td>0.97</td>\n",
       "      <td>NaN</td>\n",
       "      <td>United Kingdom</td>\n",
       "    </tr>\n",
       "    <tr>\n",
       "      <th>453435</th>\n",
       "      <td>575481</td>\n",
       "      <td>23176</td>\n",
       "      <td>ABC TREASURE BOOK BOX</td>\n",
       "      <td>2</td>\n",
       "      <td>09/11/2020 16:28</td>\n",
       "      <td>2.25</td>\n",
       "      <td>15679.0</td>\n",
       "      <td>United Kingdom</td>\n",
       "    </tr>\n",
       "    <tr>\n",
       "      <th>297124</th>\n",
       "      <td>562934</td>\n",
       "      <td>20979</td>\n",
       "      <td>36 PENCILS TUBE RED RETROSPOT</td>\n",
       "      <td>1</td>\n",
       "      <td>10/08/2020 16:56</td>\n",
       "      <td>2.46</td>\n",
       "      <td>NaN</td>\n",
       "      <td>United Kingdom</td>\n",
       "    </tr>\n",
       "    <tr>\n",
       "      <th>145235</th>\n",
       "      <td>548874</td>\n",
       "      <td>21671</td>\n",
       "      <td>RED SPOT CERAMIC DRAWER KNOB</td>\n",
       "      <td>12</td>\n",
       "      <td>04/04/2020 15:18</td>\n",
       "      <td>1.25</td>\n",
       "      <td>17716.0</td>\n",
       "      <td>United Kingdom</td>\n",
       "    </tr>\n",
       "    <tr>\n",
       "      <th>165465</th>\n",
       "      <td>550802</td>\n",
       "      <td>22383</td>\n",
       "      <td>LUNCH BAG SUKI DESIGN</td>\n",
       "      <td>10</td>\n",
       "      <td>20/04/2020 15:21</td>\n",
       "      <td>1.65</td>\n",
       "      <td>17120.0</td>\n",
       "      <td>United Kingdom</td>\n",
       "    </tr>\n",
       "    <tr>\n",
       "      <th>155234</th>\n",
       "      <td>549981</td>\n",
       "      <td>M</td>\n",
       "      <td>Manual</td>\n",
       "      <td>6</td>\n",
       "      <td>13/04/2020 15:49</td>\n",
       "      <td>0.39</td>\n",
       "      <td>16348.0</td>\n",
       "      <td>United Kingdom</td>\n",
       "    </tr>\n",
       "  </tbody>\n",
       "</table>\n",
       "</div>"
      ],
      "text/plain": [
       "       INVOICE_NO STOCK_CODE                          DESCRIPTION  QUANTITY  \\\n",
       "126483     547079      48194                       DOORMAT HEARTS         2   \n",
       "168952     551152      22637                PIGGY BANK RETROSPOT          1   \n",
       "426132     573345      23157           SET OF 6 NATIVITY MAGNETS          4   \n",
       "9487       537202      22150             3 STRIPEY MICE FELTCRAFT         2   \n",
       "516487    C579912      84949        SILVER HANGING T-LIGHT HOLDER       -11   \n",
       "423059     573135      23173                REGENCY TEAPOT ROSES          2   \n",
       "46876      540365      21039           RED RETROSPOT SHOPPING BAG         6   \n",
       "378371     569650      22725       ALARM CLOCK BAKELIKE CHOCOLATE        50   \n",
       "60999      541423      20832     RED FLOCK LOVE HEART PHOTO FRAME         4   \n",
       "207760     555000      21216       SET 3 RETROSPOT TEACOFFEESUGAR         4   \n",
       "206890     554959      22386              JUMBO BAG PINK POLKADOT         1   \n",
       "204401     554658      21231       SWEETHEART CERAMIC TRINKET BOX        12   \n",
       "184046     552675      21902                KEY FOB  FRONT  DOOR          1   \n",
       "372719     569246      23301    GARDENERS KNEELING PAD KEEP CALM          7   \n",
       "470853     576618      22944  CHRISTMAS METAL POSTCARD WITH BELLS        18   \n",
       "453435     575481      23176               ABC TREASURE BOOK BOX          2   \n",
       "297124     562934      20979        36 PENCILS TUBE RED RETROSPOT         1   \n",
       "145235     548874      21671         RED SPOT CERAMIC DRAWER KNOB        12   \n",
       "165465     550802      22383               LUNCH BAG SUKI DESIGN         10   \n",
       "155234     549981          M                               Manual         6   \n",
       "\n",
       "            INVOICE_DATE  UNIT_PRICE  CUSTOMER_ID          REGION  \n",
       "126483  20/03/2020 15:02        7.95      15408.0  United Kingdom  \n",
       "168952  26/04/2020 14:47        2.55      13230.0  United Kingdom  \n",
       "426132  30/10/2020 12:14        2.08      17609.0  United Kingdom  \n",
       "9487    05/12/2019 14:25        1.95      14506.0  United Kingdom  \n",
       "516487  01/12/2020 08:54        1.45      17044.0  United Kingdom  \n",
       "423059  27/10/2020 17:00        9.95      12952.0  United Kingdom  \n",
       "46876   06/01/2020 16:12        2.55      12413.0          France  \n",
       "378371  05/10/2020 12:44        3.39      12415.0       Australia  \n",
       "60999   17/01/2020 17:54        0.79          NaN  United Kingdom  \n",
       "207760  31/05/2020 08:03        4.95      18232.0  United Kingdom  \n",
       "206890  27/05/2020 15:18        4.13          NaN  United Kingdom  \n",
       "204401  25/05/2020 14:18        1.25      12839.0  United Kingdom  \n",
       "184046  10/05/2020 15:07        1.63          NaN  United Kingdom  \n",
       "372719  03/10/2020 09:57        3.29      14096.0  United Kingdom  \n",
       "470853  15/11/2020 17:00        0.97          NaN  United Kingdom  \n",
       "453435  09/11/2020 16:28        2.25      15679.0  United Kingdom  \n",
       "297124  10/08/2020 16:56        2.46          NaN  United Kingdom  \n",
       "145235  04/04/2020 15:18        1.25      17716.0  United Kingdom  \n",
       "165465  20/04/2020 15:21        1.65      17120.0  United Kingdom  \n",
       "155234  13/04/2020 15:49        0.39      16348.0  United Kingdom  "
      ]
     },
     "execution_count": 8,
     "metadata": {},
     "output_type": "execute_result"
    }
   ],
   "source": [
    "# Mostrar las primeras filas del DataFrame\n",
    "data.sample(20)"
   ]
  },
  {
   "cell_type": "code",
   "execution_count": 9,
   "metadata": {},
   "outputs": [
    {
     "name": "stdout",
     "output_type": "stream",
     "text": [
      "<class 'pandas.core.frame.DataFrame'>\n",
      "RangeIndex: 541909 entries, 0 to 541908\n",
      "Data columns (total 8 columns):\n",
      " #   Column        Non-Null Count   Dtype  \n",
      "---  ------        --------------   -----  \n",
      " 0   INVOICE_NO    541909 non-null  object \n",
      " 1   STOCK_CODE    541909 non-null  object \n",
      " 2   DESCRIPTION   540455 non-null  object \n",
      " 3   QUANTITY      541909 non-null  int64  \n",
      " 4   INVOICE_DATE  541909 non-null  object \n",
      " 5   UNIT_PRICE    541909 non-null  float64\n",
      " 6   CUSTOMER_ID   406829 non-null  float64\n",
      " 7   REGION        541909 non-null  object \n",
      "dtypes: float64(2), int64(1), object(5)\n",
      "memory usage: 33.1+ MB\n"
     ]
    }
   ],
   "source": [
    "# Obtener información general sobre el DataFrame\n",
    "data.info()"
   ]
  },
  {
   "cell_type": "markdown",
   "metadata": {},
   "source": [
    "### Detección de valores nulos"
   ]
  },
  {
   "cell_type": "code",
   "execution_count": 10,
   "metadata": {},
   "outputs": [
    {
     "name": "stdout",
     "output_type": "stream",
     "text": [
      "Valores nulos por columna:\n",
      "INVOICE_NO           0\n",
      "STOCK_CODE           0\n",
      "DESCRIPTION       1454\n",
      "QUANTITY             0\n",
      "INVOICE_DATE         0\n",
      "UNIT_PRICE           0\n",
      "CUSTOMER_ID     135080\n",
      "REGION               0\n",
      "dtype: int64\n"
     ]
    }
   ],
   "source": [
    "# Contar los valores nulos por columna\n",
    "null_counts = data.isnull().sum()\n",
    "print(\"Valores nulos por columna:\")\n",
    "print(null_counts)"
   ]
  },
  {
   "cell_type": "code",
   "execution_count": 11,
   "metadata": {},
   "outputs": [
    {
     "name": "stdout",
     "output_type": "stream",
     "text": [
      "Valores nulos después del procesamiento:\n",
      "INVOICE_NO      0\n",
      "STOCK_CODE      0\n",
      "DESCRIPTION     0\n",
      "QUANTITY        0\n",
      "INVOICE_DATE    0\n",
      "UNIT_PRICE      0\n",
      "CUSTOMER_ID     0\n",
      "REGION          0\n",
      "dtype: int64\n"
     ]
    },
    {
     "name": "stderr",
     "output_type": "stream",
     "text": [
      "C:\\Users\\paulo\\AppData\\Local\\Temp\\ipykernel_42184\\2583711567.py:5: FutureWarning: A value is trying to be set on a copy of a DataFrame or Series through chained assignment using an inplace method.\n",
      "The behavior will change in pandas 3.0. This inplace method will never work because the intermediate object on which we are setting values always behaves as a copy.\n",
      "\n",
      "For example, when doing 'df[col].method(value, inplace=True)', try using 'df.method({col: value}, inplace=True)' or df[col] = df[col].method(value) instead, to perform the operation inplace on the original object.\n",
      "\n",
      "\n",
      "  data['DESCRIPTION'].fillna('No description', inplace=True)\n"
     ]
    }
   ],
   "source": [
    "# Eliminar filas con CUSTOMER_ID nulo\n",
    "data = data.dropna(subset=['CUSTOMER_ID'])\n",
    "\n",
    "# Reemplazar valores nulos en DESCRIPTION por \"No description\"\n",
    "data['DESCRIPTION'].fillna('No description', inplace=True)\n",
    "\n",
    "# Verificar que no haya más valores nulos\n",
    "print(\"Valores nulos después del procesamiento:\")\n",
    "print(data.isnull().sum())"
   ]
  },
  {
   "cell_type": "code",
   "execution_count": 12,
   "metadata": {},
   "outputs": [
    {
     "name": "stdout",
     "output_type": "stream",
     "text": [
      "<class 'pandas.core.frame.DataFrame'>\n",
      "Index: 406829 entries, 0 to 541908\n",
      "Data columns (total 8 columns):\n",
      " #   Column        Non-Null Count   Dtype  \n",
      "---  ------        --------------   -----  \n",
      " 0   INVOICE_NO    406829 non-null  object \n",
      " 1   STOCK_CODE    406829 non-null  object \n",
      " 2   DESCRIPTION   406829 non-null  object \n",
      " 3   QUANTITY      406829 non-null  int64  \n",
      " 4   INVOICE_DATE  406829 non-null  object \n",
      " 5   UNIT_PRICE    406829 non-null  float64\n",
      " 6   CUSTOMER_ID   406829 non-null  float64\n",
      " 7   REGION        406829 non-null  object \n",
      "dtypes: float64(2), int64(1), object(5)\n",
      "memory usage: 27.9+ MB\n"
     ]
    }
   ],
   "source": [
    "# Mostrar la informacion del conjunto de datos limpio\n",
    "data.info()"
   ]
  },
  {
   "cell_type": "markdown",
   "metadata": {},
   "source": [
    "### Eliminar valores duplicados"
   ]
  },
  {
   "cell_type": "code",
   "execution_count": 13,
   "metadata": {},
   "outputs": [
    {
     "name": "stdout",
     "output_type": "stream",
     "text": [
      "Cantidad de registros duplicados: 5225\n"
     ]
    }
   ],
   "source": [
    "# Contar los registros duplicados en el conjunto de datos data\n",
    "duplicates_count = data.duplicated().sum()\n",
    "print(\"Cantidad de registros duplicados:\", duplicates_count)"
   ]
  },
  {
   "cell_type": "code",
   "execution_count": 14,
   "metadata": {},
   "outputs": [
    {
     "name": "stdout",
     "output_type": "stream",
     "text": [
      "<class 'pandas.core.frame.DataFrame'>\n",
      "Index: 401604 entries, 0 to 541908\n",
      "Data columns (total 8 columns):\n",
      " #   Column        Non-Null Count   Dtype  \n",
      "---  ------        --------------   -----  \n",
      " 0   INVOICE_NO    401604 non-null  object \n",
      " 1   STOCK_CODE    401604 non-null  object \n",
      " 2   DESCRIPTION   401604 non-null  object \n",
      " 3   QUANTITY      401604 non-null  int64  \n",
      " 4   INVOICE_DATE  401604 non-null  object \n",
      " 5   UNIT_PRICE    401604 non-null  float64\n",
      " 6   CUSTOMER_ID   401604 non-null  float64\n",
      " 7   REGION        401604 non-null  object \n",
      "dtypes: float64(2), int64(1), object(5)\n",
      "memory usage: 27.6+ MB\n"
     ]
    }
   ],
   "source": [
    "# Eliminar duplicados en el conjunto de datos data\n",
    "data.drop_duplicates(inplace=True)\n",
    "data.info()"
   ]
  },
  {
   "cell_type": "markdown",
   "metadata": {},
   "source": [
    "### Identificar y eliminar cantidades negativas"
   ]
  },
  {
   "cell_type": "code",
   "execution_count": 15,
   "metadata": {},
   "outputs": [
    {
     "name": "stdout",
     "output_type": "stream",
     "text": [
      "Cantidad de registros con cantidades negativas: 8872\n",
      "\n",
      "Ejemplos de registros con cantidades negativas:\n"
     ]
    },
    {
     "data": {
      "text/html": [
       "<div>\n",
       "<style scoped>\n",
       "    .dataframe tbody tr th:only-of-type {\n",
       "        vertical-align: middle;\n",
       "    }\n",
       "\n",
       "    .dataframe tbody tr th {\n",
       "        vertical-align: top;\n",
       "    }\n",
       "\n",
       "    .dataframe thead th {\n",
       "        text-align: right;\n",
       "    }\n",
       "</style>\n",
       "<table border=\"1\" class=\"dataframe\">\n",
       "  <thead>\n",
       "    <tr style=\"text-align: right;\">\n",
       "      <th></th>\n",
       "      <th>INVOICE_NO</th>\n",
       "      <th>STOCK_CODE</th>\n",
       "      <th>DESCRIPTION</th>\n",
       "      <th>QUANTITY</th>\n",
       "      <th>INVOICE_DATE</th>\n",
       "      <th>UNIT_PRICE</th>\n",
       "      <th>CUSTOMER_ID</th>\n",
       "      <th>REGION</th>\n",
       "    </tr>\n",
       "  </thead>\n",
       "  <tbody>\n",
       "    <tr>\n",
       "      <th>141</th>\n",
       "      <td>C536379</td>\n",
       "      <td>D</td>\n",
       "      <td>Discount</td>\n",
       "      <td>-1</td>\n",
       "      <td>01/12/2019 09:41</td>\n",
       "      <td>27.50</td>\n",
       "      <td>14527.0</td>\n",
       "      <td>United Kingdom</td>\n",
       "    </tr>\n",
       "    <tr>\n",
       "      <th>154</th>\n",
       "      <td>C536383</td>\n",
       "      <td>35004C</td>\n",
       "      <td>SET OF 3 COLOURED  FLYING DUCKS</td>\n",
       "      <td>-1</td>\n",
       "      <td>01/12/2019 09:49</td>\n",
       "      <td>4.65</td>\n",
       "      <td>15311.0</td>\n",
       "      <td>United Kingdom</td>\n",
       "    </tr>\n",
       "    <tr>\n",
       "      <th>235</th>\n",
       "      <td>C536391</td>\n",
       "      <td>22556</td>\n",
       "      <td>PLASTERS IN TIN CIRCUS PARADE</td>\n",
       "      <td>-12</td>\n",
       "      <td>01/12/2019 10:24</td>\n",
       "      <td>1.65</td>\n",
       "      <td>17548.0</td>\n",
       "      <td>United Kingdom</td>\n",
       "    </tr>\n",
       "    <tr>\n",
       "      <th>236</th>\n",
       "      <td>C536391</td>\n",
       "      <td>21984</td>\n",
       "      <td>PACK OF 12 PINK PAISLEY TISSUES</td>\n",
       "      <td>-24</td>\n",
       "      <td>01/12/2019 10:24</td>\n",
       "      <td>0.29</td>\n",
       "      <td>17548.0</td>\n",
       "      <td>United Kingdom</td>\n",
       "    </tr>\n",
       "    <tr>\n",
       "      <th>237</th>\n",
       "      <td>C536391</td>\n",
       "      <td>21983</td>\n",
       "      <td>PACK OF 12 BLUE PAISLEY TISSUES</td>\n",
       "      <td>-24</td>\n",
       "      <td>01/12/2019 10:24</td>\n",
       "      <td>0.29</td>\n",
       "      <td>17548.0</td>\n",
       "      <td>United Kingdom</td>\n",
       "    </tr>\n",
       "    <tr>\n",
       "      <th>238</th>\n",
       "      <td>C536391</td>\n",
       "      <td>21980</td>\n",
       "      <td>PACK OF 12 RED RETROSPOT TISSUES</td>\n",
       "      <td>-24</td>\n",
       "      <td>01/12/2019 10:24</td>\n",
       "      <td>0.29</td>\n",
       "      <td>17548.0</td>\n",
       "      <td>United Kingdom</td>\n",
       "    </tr>\n",
       "    <tr>\n",
       "      <th>239</th>\n",
       "      <td>C536391</td>\n",
       "      <td>21484</td>\n",
       "      <td>CHICK GREY HOT WATER BOTTLE</td>\n",
       "      <td>-12</td>\n",
       "      <td>01/12/2019 10:24</td>\n",
       "      <td>3.45</td>\n",
       "      <td>17548.0</td>\n",
       "      <td>United Kingdom</td>\n",
       "    </tr>\n",
       "    <tr>\n",
       "      <th>240</th>\n",
       "      <td>C536391</td>\n",
       "      <td>22557</td>\n",
       "      <td>PLASTERS IN TIN VINTAGE PAISLEY</td>\n",
       "      <td>-12</td>\n",
       "      <td>01/12/2019 10:24</td>\n",
       "      <td>1.65</td>\n",
       "      <td>17548.0</td>\n",
       "      <td>United Kingdom</td>\n",
       "    </tr>\n",
       "    <tr>\n",
       "      <th>241</th>\n",
       "      <td>C536391</td>\n",
       "      <td>22553</td>\n",
       "      <td>PLASTERS IN TIN SKULLS</td>\n",
       "      <td>-24</td>\n",
       "      <td>01/12/2019 10:24</td>\n",
       "      <td>1.65</td>\n",
       "      <td>17548.0</td>\n",
       "      <td>United Kingdom</td>\n",
       "    </tr>\n",
       "    <tr>\n",
       "      <th>939</th>\n",
       "      <td>C536506</td>\n",
       "      <td>22960</td>\n",
       "      <td>JAM MAKING SET WITH JARS</td>\n",
       "      <td>-6</td>\n",
       "      <td>01/12/2019 12:38</td>\n",
       "      <td>4.25</td>\n",
       "      <td>17897.0</td>\n",
       "      <td>United Kingdom</td>\n",
       "    </tr>\n",
       "  </tbody>\n",
       "</table>\n",
       "</div>"
      ],
      "text/plain": [
       "    INVOICE_NO STOCK_CODE                        DESCRIPTION  QUANTITY  \\\n",
       "141    C536379          D                           Discount        -1   \n",
       "154    C536383     35004C    SET OF 3 COLOURED  FLYING DUCKS        -1   \n",
       "235    C536391      22556     PLASTERS IN TIN CIRCUS PARADE        -12   \n",
       "236    C536391      21984   PACK OF 12 PINK PAISLEY TISSUES        -24   \n",
       "237    C536391      21983   PACK OF 12 BLUE PAISLEY TISSUES        -24   \n",
       "238    C536391      21980  PACK OF 12 RED RETROSPOT TISSUES        -24   \n",
       "239    C536391      21484        CHICK GREY HOT WATER BOTTLE       -12   \n",
       "240    C536391      22557   PLASTERS IN TIN VINTAGE PAISLEY        -12   \n",
       "241    C536391      22553             PLASTERS IN TIN SKULLS       -24   \n",
       "939    C536506      22960           JAM MAKING SET WITH JARS        -6   \n",
       "\n",
       "         INVOICE_DATE  UNIT_PRICE  CUSTOMER_ID          REGION  \n",
       "141  01/12/2019 09:41       27.50      14527.0  United Kingdom  \n",
       "154  01/12/2019 09:49        4.65      15311.0  United Kingdom  \n",
       "235  01/12/2019 10:24        1.65      17548.0  United Kingdom  \n",
       "236  01/12/2019 10:24        0.29      17548.0  United Kingdom  \n",
       "237  01/12/2019 10:24        0.29      17548.0  United Kingdom  \n",
       "238  01/12/2019 10:24        0.29      17548.0  United Kingdom  \n",
       "239  01/12/2019 10:24        3.45      17548.0  United Kingdom  \n",
       "240  01/12/2019 10:24        1.65      17548.0  United Kingdom  \n",
       "241  01/12/2019 10:24        1.65      17548.0  United Kingdom  \n",
       "939  01/12/2019 12:38        4.25      17897.0  United Kingdom  "
      ]
     },
     "execution_count": 15,
     "metadata": {},
     "output_type": "execute_result"
    }
   ],
   "source": [
    "# Verificar qué columnas tienen cantidades negativas\n",
    "negative_quantities = data[data['QUANTITY'] < 0]\n",
    "\n",
    "# Contar las cantidades negativas por columna\n",
    "negative_quantities_count = negative_quantities['QUANTITY'].count()\n",
    "\n",
    "print(\"Cantidad de registros con cantidades negativas:\", negative_quantities_count)\n",
    "print(\"\\nEjemplos de registros con cantidades negativas:\")\n",
    "negative_quantities.head(10)"
   ]
  },
  {
   "cell_type": "code",
   "execution_count": 16,
   "metadata": {},
   "outputs": [
    {
     "name": "stdout",
     "output_type": "stream",
     "text": [
      "<class 'pandas.core.frame.DataFrame'>\n",
      "Index: 392732 entries, 0 to 541908\n",
      "Data columns (total 8 columns):\n",
      " #   Column        Non-Null Count   Dtype  \n",
      "---  ------        --------------   -----  \n",
      " 0   INVOICE_NO    392732 non-null  object \n",
      " 1   STOCK_CODE    392732 non-null  object \n",
      " 2   DESCRIPTION   392732 non-null  object \n",
      " 3   QUANTITY      392732 non-null  int64  \n",
      " 4   INVOICE_DATE  392732 non-null  object \n",
      " 5   UNIT_PRICE    392732 non-null  float64\n",
      " 6   CUSTOMER_ID   392732 non-null  float64\n",
      " 7   REGION        392732 non-null  object \n",
      "dtypes: float64(2), int64(1), object(5)\n",
      "memory usage: 27.0+ MB\n"
     ]
    }
   ],
   "source": [
    "# Eliminar filas con cantidades negativas\n",
    "data = data[data['QUANTITY'] >= 0]\n",
    "data.info()"
   ]
  },
  {
   "cell_type": "markdown",
   "metadata": {},
   "source": [
    "### Cambiar los nombres de las columnas a minusculas"
   ]
  },
  {
   "cell_type": "code",
   "execution_count": 17,
   "metadata": {},
   "outputs": [
    {
     "name": "stdout",
     "output_type": "stream",
     "text": [
      "<class 'pandas.core.frame.DataFrame'>\n",
      "Index: 392732 entries, 0 to 541908\n",
      "Data columns (total 8 columns):\n",
      " #   Column        Non-Null Count   Dtype  \n",
      "---  ------        --------------   -----  \n",
      " 0   invoice_no    392732 non-null  object \n",
      " 1   stock_code    392732 non-null  object \n",
      " 2   description   392732 non-null  object \n",
      " 3   quantity      392732 non-null  int64  \n",
      " 4   invoice_date  392732 non-null  object \n",
      " 5   unit_price    392732 non-null  float64\n",
      " 6   customer_id   392732 non-null  float64\n",
      " 7   region        392732 non-null  object \n",
      "dtypes: float64(2), int64(1), object(5)\n",
      "memory usage: 27.0+ MB\n"
     ]
    }
   ],
   "source": [
    "# Convertir los nombres de las columnas a minúsculas\n",
    "data.columns = data.columns.str.lower()\n",
    "data.info()"
   ]
  },
  {
   "cell_type": "markdown",
   "metadata": {},
   "source": [
    "### Convertir tipos de datos de las columnas"
   ]
  },
  {
   "cell_type": "code",
   "execution_count": 18,
   "metadata": {},
   "outputs": [
    {
     "data": {
      "text/plain": [
       "invoice_no              object\n",
       "stock_code              object\n",
       "description             object\n",
       "quantity                 int64\n",
       "invoice_date    datetime64[ns]\n",
       "unit_price             float64\n",
       "customer_id             object\n",
       "region                  object\n",
       "dtype: object"
      ]
     },
     "execution_count": 18,
     "metadata": {},
     "output_type": "execute_result"
    }
   ],
   "source": [
    "# Convertir CUSTOMER_ID a tipo objeto (cadena de caracteres)\n",
    "data['customer_id'] = data['customer_id'].astype('str')\n",
    "\n",
    "# Convertir INVOICE_DATE a tipo datetime\n",
    "data['invoice_date'] = pd.to_datetime(data['invoice_date'], format='%d/%m/%Y %H:%M')\n",
    "\n",
    "# Mostrar los tipos de datos actualizados\n",
    "data.dtypes"
   ]
  },
  {
   "cell_type": "markdown",
   "metadata": {},
   "source": [
    "### Agregar la variable Monto"
   ]
  },
  {
   "cell_type": "code",
   "execution_count": 19,
   "metadata": {},
   "outputs": [
    {
     "data": {
      "text/html": [
       "<div>\n",
       "<style scoped>\n",
       "    .dataframe tbody tr th:only-of-type {\n",
       "        vertical-align: middle;\n",
       "    }\n",
       "\n",
       "    .dataframe tbody tr th {\n",
       "        vertical-align: top;\n",
       "    }\n",
       "\n",
       "    .dataframe thead th {\n",
       "        text-align: right;\n",
       "    }\n",
       "</style>\n",
       "<table border=\"1\" class=\"dataframe\">\n",
       "  <thead>\n",
       "    <tr style=\"text-align: right;\">\n",
       "      <th></th>\n",
       "      <th>invoice_no</th>\n",
       "      <th>stock_code</th>\n",
       "      <th>description</th>\n",
       "      <th>quantity</th>\n",
       "      <th>invoice_date</th>\n",
       "      <th>unit_price</th>\n",
       "      <th>customer_id</th>\n",
       "      <th>region</th>\n",
       "      <th>amount</th>\n",
       "    </tr>\n",
       "  </thead>\n",
       "  <tbody>\n",
       "    <tr>\n",
       "      <th>0</th>\n",
       "      <td>536365</td>\n",
       "      <td>85123A</td>\n",
       "      <td>WHITE HANGING HEART T-LIGHT HOLDER</td>\n",
       "      <td>6</td>\n",
       "      <td>2019-12-01 08:26:00</td>\n",
       "      <td>2.55</td>\n",
       "      <td>17850.0</td>\n",
       "      <td>United Kingdom</td>\n",
       "      <td>15.30</td>\n",
       "    </tr>\n",
       "    <tr>\n",
       "      <th>1</th>\n",
       "      <td>536365</td>\n",
       "      <td>71053</td>\n",
       "      <td>WHITE METAL LANTERN</td>\n",
       "      <td>6</td>\n",
       "      <td>2019-12-01 08:26:00</td>\n",
       "      <td>3.39</td>\n",
       "      <td>17850.0</td>\n",
       "      <td>United Kingdom</td>\n",
       "      <td>20.34</td>\n",
       "    </tr>\n",
       "    <tr>\n",
       "      <th>2</th>\n",
       "      <td>536365</td>\n",
       "      <td>84406B</td>\n",
       "      <td>CREAM CUPID HEARTS COAT HANGER</td>\n",
       "      <td>8</td>\n",
       "      <td>2019-12-01 08:26:00</td>\n",
       "      <td>2.75</td>\n",
       "      <td>17850.0</td>\n",
       "      <td>United Kingdom</td>\n",
       "      <td>22.00</td>\n",
       "    </tr>\n",
       "    <tr>\n",
       "      <th>3</th>\n",
       "      <td>536365</td>\n",
       "      <td>84029G</td>\n",
       "      <td>KNITTED UNION FLAG HOT WATER BOTTLE</td>\n",
       "      <td>6</td>\n",
       "      <td>2019-12-01 08:26:00</td>\n",
       "      <td>3.39</td>\n",
       "      <td>17850.0</td>\n",
       "      <td>United Kingdom</td>\n",
       "      <td>20.34</td>\n",
       "    </tr>\n",
       "    <tr>\n",
       "      <th>4</th>\n",
       "      <td>536365</td>\n",
       "      <td>84029E</td>\n",
       "      <td>RED WOOLLY HOTTIE WHITE HEART.</td>\n",
       "      <td>6</td>\n",
       "      <td>2019-12-01 08:26:00</td>\n",
       "      <td>3.39</td>\n",
       "      <td>17850.0</td>\n",
       "      <td>United Kingdom</td>\n",
       "      <td>20.34</td>\n",
       "    </tr>\n",
       "  </tbody>\n",
       "</table>\n",
       "</div>"
      ],
      "text/plain": [
       "  invoice_no stock_code                          description  quantity  \\\n",
       "0     536365     85123A   WHITE HANGING HEART T-LIGHT HOLDER         6   \n",
       "1     536365      71053                  WHITE METAL LANTERN         6   \n",
       "2     536365     84406B       CREAM CUPID HEARTS COAT HANGER         8   \n",
       "3     536365     84029G  KNITTED UNION FLAG HOT WATER BOTTLE         6   \n",
       "4     536365     84029E       RED WOOLLY HOTTIE WHITE HEART.         6   \n",
       "\n",
       "         invoice_date  unit_price customer_id          region  amount  \n",
       "0 2019-12-01 08:26:00        2.55     17850.0  United Kingdom   15.30  \n",
       "1 2019-12-01 08:26:00        3.39     17850.0  United Kingdom   20.34  \n",
       "2 2019-12-01 08:26:00        2.75     17850.0  United Kingdom   22.00  \n",
       "3 2019-12-01 08:26:00        3.39     17850.0  United Kingdom   20.34  \n",
       "4 2019-12-01 08:26:00        3.39     17850.0  United Kingdom   20.34  "
      ]
     },
     "execution_count": 19,
     "metadata": {},
     "output_type": "execute_result"
    }
   ],
   "source": [
    "# Calcular la columna 'amount' como cantidad * precio unitario\n",
    "data['amount'] = data['quantity'] * data['unit_price']\n",
    "data.head()"
   ]
  },
  {
   "cell_type": "markdown",
   "metadata": {},
   "source": [
    "### Eliminar variables no necesarias para el desarrollo del modelo"
   ]
  },
  {
   "cell_type": "code",
   "execution_count": 20,
   "metadata": {},
   "outputs": [
    {
     "data": {
      "text/html": [
       "<div>\n",
       "<style scoped>\n",
       "    .dataframe tbody tr th:only-of-type {\n",
       "        vertical-align: middle;\n",
       "    }\n",
       "\n",
       "    .dataframe tbody tr th {\n",
       "        vertical-align: top;\n",
       "    }\n",
       "\n",
       "    .dataframe thead th {\n",
       "        text-align: right;\n",
       "    }\n",
       "</style>\n",
       "<table border=\"1\" class=\"dataframe\">\n",
       "  <thead>\n",
       "    <tr style=\"text-align: right;\">\n",
       "      <th></th>\n",
       "      <th>invoice_no</th>\n",
       "      <th>quantity</th>\n",
       "      <th>invoice_date</th>\n",
       "      <th>customer_id</th>\n",
       "      <th>region</th>\n",
       "      <th>amount</th>\n",
       "    </tr>\n",
       "  </thead>\n",
       "  <tbody>\n",
       "    <tr>\n",
       "      <th>0</th>\n",
       "      <td>536365</td>\n",
       "      <td>6</td>\n",
       "      <td>2019-12-01 08:26:00</td>\n",
       "      <td>17850.0</td>\n",
       "      <td>United Kingdom</td>\n",
       "      <td>15.30</td>\n",
       "    </tr>\n",
       "    <tr>\n",
       "      <th>1</th>\n",
       "      <td>536365</td>\n",
       "      <td>6</td>\n",
       "      <td>2019-12-01 08:26:00</td>\n",
       "      <td>17850.0</td>\n",
       "      <td>United Kingdom</td>\n",
       "      <td>20.34</td>\n",
       "    </tr>\n",
       "    <tr>\n",
       "      <th>2</th>\n",
       "      <td>536365</td>\n",
       "      <td>8</td>\n",
       "      <td>2019-12-01 08:26:00</td>\n",
       "      <td>17850.0</td>\n",
       "      <td>United Kingdom</td>\n",
       "      <td>22.00</td>\n",
       "    </tr>\n",
       "    <tr>\n",
       "      <th>3</th>\n",
       "      <td>536365</td>\n",
       "      <td>6</td>\n",
       "      <td>2019-12-01 08:26:00</td>\n",
       "      <td>17850.0</td>\n",
       "      <td>United Kingdom</td>\n",
       "      <td>20.34</td>\n",
       "    </tr>\n",
       "    <tr>\n",
       "      <th>4</th>\n",
       "      <td>536365</td>\n",
       "      <td>6</td>\n",
       "      <td>2019-12-01 08:26:00</td>\n",
       "      <td>17850.0</td>\n",
       "      <td>United Kingdom</td>\n",
       "      <td>20.34</td>\n",
       "    </tr>\n",
       "  </tbody>\n",
       "</table>\n",
       "</div>"
      ],
      "text/plain": [
       "  invoice_no  quantity        invoice_date customer_id          region  amount\n",
       "0     536365         6 2019-12-01 08:26:00     17850.0  United Kingdom   15.30\n",
       "1     536365         6 2019-12-01 08:26:00     17850.0  United Kingdom   20.34\n",
       "2     536365         8 2019-12-01 08:26:00     17850.0  United Kingdom   22.00\n",
       "3     536365         6 2019-12-01 08:26:00     17850.0  United Kingdom   20.34\n",
       "4     536365         6 2019-12-01 08:26:00     17850.0  United Kingdom   20.34"
      ]
     },
     "execution_count": 20,
     "metadata": {},
     "output_type": "execute_result"
    }
   ],
   "source": [
    "# Eliminar las columnas STOCK_CODE, DESCRIPTION y UNIT_PRICE\n",
    "data.drop(['stock_code', 'description', 'unit_price'], axis=1, inplace=True)\n",
    "data.head()"
   ]
  },
  {
   "cell_type": "code",
   "execution_count": 35,
   "metadata": {},
   "outputs": [
    {
     "name": "stdout",
     "output_type": "stream",
     "text": [
      "Se conserva el 72.47 % de los datos iniciales\n"
     ]
    }
   ],
   "source": [
    "#Cantidad de datos que se utilizarán para la creación del modelo en comparación con el dataset original\n",
    "print('Se conserva el',round(data.shape[0] /data_initial_size*100,2),'% de los datos iniciales')"
   ]
  },
  {
   "cell_type": "markdown",
   "metadata": {},
   "source": [
    "## Analisis Exploratorio de Datos (EDA)"
   ]
  },
  {
   "cell_type": "markdown",
   "metadata": {},
   "source": [
    "### Resumen Estadistico Variables Numericas"
   ]
  },
  {
   "cell_type": "code",
   "execution_count": 21,
   "metadata": {},
   "outputs": [
    {
     "name": "stdout",
     "output_type": "stream",
     "text": [
      "Resumen estadístico básico:\n"
     ]
    },
    {
     "data": {
      "text/html": [
       "<div>\n",
       "<style scoped>\n",
       "    .dataframe tbody tr th:only-of-type {\n",
       "        vertical-align: middle;\n",
       "    }\n",
       "\n",
       "    .dataframe tbody tr th {\n",
       "        vertical-align: top;\n",
       "    }\n",
       "\n",
       "    .dataframe thead th {\n",
       "        text-align: right;\n",
       "    }\n",
       "</style>\n",
       "<table border=\"1\" class=\"dataframe\">\n",
       "  <thead>\n",
       "    <tr style=\"text-align: right;\">\n",
       "      <th></th>\n",
       "      <th>count</th>\n",
       "      <th>mean</th>\n",
       "      <th>min</th>\n",
       "      <th>25%</th>\n",
       "      <th>50%</th>\n",
       "      <th>75%</th>\n",
       "      <th>max</th>\n",
       "      <th>std</th>\n",
       "    </tr>\n",
       "  </thead>\n",
       "  <tbody>\n",
       "    <tr>\n",
       "      <th>quantity</th>\n",
       "      <td>392732.0</td>\n",
       "      <td>13.153718</td>\n",
       "      <td>1.0</td>\n",
       "      <td>2.0</td>\n",
       "      <td>6.0</td>\n",
       "      <td>12.0</td>\n",
       "      <td>80995.0</td>\n",
       "      <td>181.58842</td>\n",
       "    </tr>\n",
       "    <tr>\n",
       "      <th>invoice_date</th>\n",
       "      <td>392732</td>\n",
       "      <td>2020-07-10 15:12:03.132059136</td>\n",
       "      <td>2019-12-01 08:26:00</td>\n",
       "      <td>2020-04-07 11:12:00</td>\n",
       "      <td>2020-07-31 12:02:00</td>\n",
       "      <td>2020-10-20 12:53:00</td>\n",
       "      <td>2020-12-09 12:50:00</td>\n",
       "      <td>NaN</td>\n",
       "    </tr>\n",
       "    <tr>\n",
       "      <th>amount</th>\n",
       "      <td>392732.0</td>\n",
       "      <td>22.629195</td>\n",
       "      <td>0.0</td>\n",
       "      <td>4.95</td>\n",
       "      <td>12.39</td>\n",
       "      <td>19.8</td>\n",
       "      <td>168469.6</td>\n",
       "      <td>311.083465</td>\n",
       "    </tr>\n",
       "  </tbody>\n",
       "</table>\n",
       "</div>"
      ],
      "text/plain": [
       "                 count                           mean                  min  \\\n",
       "quantity      392732.0                      13.153718                  1.0   \n",
       "invoice_date    392732  2020-07-10 15:12:03.132059136  2019-12-01 08:26:00   \n",
       "amount        392732.0                      22.629195                  0.0   \n",
       "\n",
       "                              25%                  50%                  75%  \\\n",
       "quantity                      2.0                  6.0                 12.0   \n",
       "invoice_date  2020-04-07 11:12:00  2020-07-31 12:02:00  2020-10-20 12:53:00   \n",
       "amount                       4.95                12.39                 19.8   \n",
       "\n",
       "                              max         std  \n",
       "quantity                  80995.0   181.58842  \n",
       "invoice_date  2020-12-09 12:50:00         NaN  \n",
       "amount                   168469.6  311.083465  "
      ]
     },
     "execution_count": 21,
     "metadata": {},
     "output_type": "execute_result"
    }
   ],
   "source": [
    "# Resumen estadístico básico de las variables numéricas\n",
    "summary_stats = data.describe().T\n",
    "\n",
    "# Mostrar el resumen estadístico básico\n",
    "print(\"Resumen estadístico básico:\")\n",
    "summary_stats"
   ]
  },
  {
   "cell_type": "markdown",
   "metadata": {},
   "source": [
    "### Analisis Número de Facturas por País"
   ]
  },
  {
   "cell_type": "code",
   "execution_count": 22,
   "metadata": {},
   "outputs": [
    {
     "name": "stdout",
     "output_type": "stream",
     "text": [
      "Número de facturas por país (ordenado por mayor número de facturas):\n"
     ]
    },
    {
     "data": {
      "text/html": [
       "<div>\n",
       "<style scoped>\n",
       "    .dataframe tbody tr th:only-of-type {\n",
       "        vertical-align: middle;\n",
       "    }\n",
       "\n",
       "    .dataframe tbody tr th {\n",
       "        vertical-align: top;\n",
       "    }\n",
       "\n",
       "    .dataframe thead th {\n",
       "        text-align: right;\n",
       "    }\n",
       "</style>\n",
       "<table border=\"1\" class=\"dataframe\">\n",
       "  <thead>\n",
       "    <tr style=\"text-align: right;\">\n",
       "      <th></th>\n",
       "      <th>Region</th>\n",
       "      <th>Numero de Facturas</th>\n",
       "    </tr>\n",
       "  </thead>\n",
       "  <tbody>\n",
       "    <tr>\n",
       "      <th>35</th>\n",
       "      <td>United Kingdom</td>\n",
       "      <td>16649</td>\n",
       "    </tr>\n",
       "    <tr>\n",
       "      <th>14</th>\n",
       "      <td>Germany</td>\n",
       "      <td>457</td>\n",
       "    </tr>\n",
       "    <tr>\n",
       "      <th>13</th>\n",
       "      <td>France</td>\n",
       "      <td>389</td>\n",
       "    </tr>\n",
       "    <tr>\n",
       "      <th>10</th>\n",
       "      <td>EIRE</td>\n",
       "      <td>260</td>\n",
       "    </tr>\n",
       "    <tr>\n",
       "      <th>3</th>\n",
       "      <td>Belgium</td>\n",
       "      <td>98</td>\n",
       "    </tr>\n",
       "    <tr>\n",
       "      <th>23</th>\n",
       "      <td>Netherlands</td>\n",
       "      <td>95</td>\n",
       "    </tr>\n",
       "    <tr>\n",
       "      <th>30</th>\n",
       "      <td>Spain</td>\n",
       "      <td>90</td>\n",
       "    </tr>\n",
       "    <tr>\n",
       "      <th>26</th>\n",
       "      <td>Portugal</td>\n",
       "      <td>57</td>\n",
       "    </tr>\n",
       "    <tr>\n",
       "      <th>0</th>\n",
       "      <td>Australia</td>\n",
       "      <td>57</td>\n",
       "    </tr>\n",
       "    <tr>\n",
       "      <th>32</th>\n",
       "      <td>Switzerland</td>\n",
       "      <td>51</td>\n",
       "    </tr>\n",
       "    <tr>\n",
       "      <th>12</th>\n",
       "      <td>Finland</td>\n",
       "      <td>41</td>\n",
       "    </tr>\n",
       "    <tr>\n",
       "      <th>18</th>\n",
       "      <td>Italy</td>\n",
       "      <td>38</td>\n",
       "    </tr>\n",
       "    <tr>\n",
       "      <th>31</th>\n",
       "      <td>Sweden</td>\n",
       "      <td>36</td>\n",
       "    </tr>\n",
       "    <tr>\n",
       "      <th>24</th>\n",
       "      <td>Norway</td>\n",
       "      <td>36</td>\n",
       "    </tr>\n",
       "    <tr>\n",
       "      <th>6</th>\n",
       "      <td>Channel Islands</td>\n",
       "      <td>26</td>\n",
       "    </tr>\n",
       "    <tr>\n",
       "      <th>19</th>\n",
       "      <td>Japan</td>\n",
       "      <td>19</td>\n",
       "    </tr>\n",
       "    <tr>\n",
       "      <th>25</th>\n",
       "      <td>Poland</td>\n",
       "      <td>19</td>\n",
       "    </tr>\n",
       "    <tr>\n",
       "      <th>9</th>\n",
       "      <td>Denmark</td>\n",
       "      <td>18</td>\n",
       "    </tr>\n",
       "    <tr>\n",
       "      <th>1</th>\n",
       "      <td>Austria</td>\n",
       "      <td>17</td>\n",
       "    </tr>\n",
       "    <tr>\n",
       "      <th>7</th>\n",
       "      <td>Cyprus</td>\n",
       "      <td>16</td>\n",
       "    </tr>\n",
       "    <tr>\n",
       "      <th>36</th>\n",
       "      <td>Unspecified</td>\n",
       "      <td>8</td>\n",
       "    </tr>\n",
       "    <tr>\n",
       "      <th>16</th>\n",
       "      <td>Iceland</td>\n",
       "      <td>7</td>\n",
       "    </tr>\n",
       "    <tr>\n",
       "      <th>29</th>\n",
       "      <td>Singapore</td>\n",
       "      <td>7</td>\n",
       "    </tr>\n",
       "    <tr>\n",
       "      <th>5</th>\n",
       "      <td>Canada</td>\n",
       "      <td>6</td>\n",
       "    </tr>\n",
       "    <tr>\n",
       "      <th>15</th>\n",
       "      <td>Greece</td>\n",
       "      <td>5</td>\n",
       "    </tr>\n",
       "    <tr>\n",
       "      <th>22</th>\n",
       "      <td>Malta</td>\n",
       "      <td>5</td>\n",
       "    </tr>\n",
       "    <tr>\n",
       "      <th>17</th>\n",
       "      <td>Israel</td>\n",
       "      <td>5</td>\n",
       "    </tr>\n",
       "    <tr>\n",
       "      <th>33</th>\n",
       "      <td>USA</td>\n",
       "      <td>5</td>\n",
       "    </tr>\n",
       "    <tr>\n",
       "      <th>21</th>\n",
       "      <td>Lithuania</td>\n",
       "      <td>4</td>\n",
       "    </tr>\n",
       "    <tr>\n",
       "      <th>11</th>\n",
       "      <td>European Community</td>\n",
       "      <td>4</td>\n",
       "    </tr>\n",
       "    <tr>\n",
       "      <th>34</th>\n",
       "      <td>United Arab Emirates</td>\n",
       "      <td>3</td>\n",
       "    </tr>\n",
       "    <tr>\n",
       "      <th>8</th>\n",
       "      <td>Czech Republic</td>\n",
       "      <td>2</td>\n",
       "    </tr>\n",
       "    <tr>\n",
       "      <th>2</th>\n",
       "      <td>Bahrain</td>\n",
       "      <td>2</td>\n",
       "    </tr>\n",
       "    <tr>\n",
       "      <th>4</th>\n",
       "      <td>Brazil</td>\n",
       "      <td>1</td>\n",
       "    </tr>\n",
       "    <tr>\n",
       "      <th>20</th>\n",
       "      <td>Lebanon</td>\n",
       "      <td>1</td>\n",
       "    </tr>\n",
       "    <tr>\n",
       "      <th>28</th>\n",
       "      <td>Saudi Arabia</td>\n",
       "      <td>1</td>\n",
       "    </tr>\n",
       "    <tr>\n",
       "      <th>27</th>\n",
       "      <td>RSA</td>\n",
       "      <td>1</td>\n",
       "    </tr>\n",
       "  </tbody>\n",
       "</table>\n",
       "</div>"
      ],
      "text/plain": [
       "                  Region  Numero de Facturas\n",
       "35        United Kingdom               16649\n",
       "14               Germany                 457\n",
       "13                France                 389\n",
       "10                  EIRE                 260\n",
       "3                Belgium                  98\n",
       "23           Netherlands                  95\n",
       "30                 Spain                  90\n",
       "26              Portugal                  57\n",
       "0              Australia                  57\n",
       "32           Switzerland                  51\n",
       "12               Finland                  41\n",
       "18                 Italy                  38\n",
       "31                Sweden                  36\n",
       "24                Norway                  36\n",
       "6        Channel Islands                  26\n",
       "19                 Japan                  19\n",
       "25                Poland                  19\n",
       "9                Denmark                  18\n",
       "1                Austria                  17\n",
       "7                 Cyprus                  16\n",
       "36           Unspecified                   8\n",
       "16               Iceland                   7\n",
       "29             Singapore                   7\n",
       "5                 Canada                   6\n",
       "15                Greece                   5\n",
       "22                 Malta                   5\n",
       "17                Israel                   5\n",
       "33                   USA                   5\n",
       "21             Lithuania                   4\n",
       "11    European Community                   4\n",
       "34  United Arab Emirates                   3\n",
       "8         Czech Republic                   2\n",
       "2                Bahrain                   2\n",
       "4                 Brazil                   1\n",
       "20               Lebanon                   1\n",
       "28          Saudi Arabia                   1\n",
       "27                   RSA                   1"
      ]
     },
     "execution_count": 22,
     "metadata": {},
     "output_type": "execute_result"
    }
   ],
   "source": [
    "# Conteo de facturas por país (region)\n",
    "facturas_por_pais = data.groupby('region')['invoice_no'].nunique().reset_index()\n",
    "facturas_por_pais.columns = ['Region', 'Numero de Facturas']\n",
    "\n",
    "# Ordenar por mayor número de facturas\n",
    "facturas_por_pais = facturas_por_pais.sort_values(by='Numero de Facturas', ascending=False)\n",
    "\n",
    "# Mostrar tabla de número de facturas por país ordenado\n",
    "print(\"Número de facturas por país (ordenado por mayor número de facturas):\")\n",
    "facturas_por_pais"
   ]
  },
  {
   "cell_type": "markdown",
   "metadata": {},
   "source": [
    "### Analisis Monto Total por País"
   ]
  },
  {
   "cell_type": "code",
   "execution_count": 23,
   "metadata": {},
   "outputs": [
    {
     "name": "stdout",
     "output_type": "stream",
     "text": [
      "Monto total por país:\n"
     ]
    },
    {
     "data": {
      "text/html": [
       "<div>\n",
       "<style scoped>\n",
       "    .dataframe tbody tr th:only-of-type {\n",
       "        vertical-align: middle;\n",
       "    }\n",
       "\n",
       "    .dataframe tbody tr th {\n",
       "        vertical-align: top;\n",
       "    }\n",
       "\n",
       "    .dataframe thead th {\n",
       "        text-align: right;\n",
       "    }\n",
       "</style>\n",
       "<table border=\"1\" class=\"dataframe\">\n",
       "  <thead>\n",
       "    <tr style=\"text-align: right;\">\n",
       "      <th></th>\n",
       "      <th>País</th>\n",
       "      <th>Monto Total</th>\n",
       "    </tr>\n",
       "  </thead>\n",
       "  <tbody>\n",
       "    <tr>\n",
       "      <th>35</th>\n",
       "      <td>United Kingdom</td>\n",
       "      <td>7285024.644</td>\n",
       "    </tr>\n",
       "    <tr>\n",
       "      <th>23</th>\n",
       "      <td>Netherlands</td>\n",
       "      <td>285446.340</td>\n",
       "    </tr>\n",
       "    <tr>\n",
       "      <th>10</th>\n",
       "      <td>EIRE</td>\n",
       "      <td>265262.460</td>\n",
       "    </tr>\n",
       "    <tr>\n",
       "      <th>14</th>\n",
       "      <td>Germany</td>\n",
       "      <td>228678.400</td>\n",
       "    </tr>\n",
       "    <tr>\n",
       "      <th>13</th>\n",
       "      <td>France</td>\n",
       "      <td>208934.310</td>\n",
       "    </tr>\n",
       "    <tr>\n",
       "      <th>0</th>\n",
       "      <td>Australia</td>\n",
       "      <td>138453.810</td>\n",
       "    </tr>\n",
       "    <tr>\n",
       "      <th>30</th>\n",
       "      <td>Spain</td>\n",
       "      <td>61558.560</td>\n",
       "    </tr>\n",
       "    <tr>\n",
       "      <th>32</th>\n",
       "      <td>Switzerland</td>\n",
       "      <td>56443.950</td>\n",
       "    </tr>\n",
       "    <tr>\n",
       "      <th>3</th>\n",
       "      <td>Belgium</td>\n",
       "      <td>41196.340</td>\n",
       "    </tr>\n",
       "    <tr>\n",
       "      <th>31</th>\n",
       "      <td>Sweden</td>\n",
       "      <td>38367.830</td>\n",
       "    </tr>\n",
       "    <tr>\n",
       "      <th>19</th>\n",
       "      <td>Japan</td>\n",
       "      <td>37416.370</td>\n",
       "    </tr>\n",
       "    <tr>\n",
       "      <th>24</th>\n",
       "      <td>Norway</td>\n",
       "      <td>36165.440</td>\n",
       "    </tr>\n",
       "    <tr>\n",
       "      <th>26</th>\n",
       "      <td>Portugal</td>\n",
       "      <td>33375.840</td>\n",
       "    </tr>\n",
       "    <tr>\n",
       "      <th>12</th>\n",
       "      <td>Finland</td>\n",
       "      <td>22546.080</td>\n",
       "    </tr>\n",
       "    <tr>\n",
       "      <th>29</th>\n",
       "      <td>Singapore</td>\n",
       "      <td>21279.290</td>\n",
       "    </tr>\n",
       "    <tr>\n",
       "      <th>6</th>\n",
       "      <td>Channel Islands</td>\n",
       "      <td>20440.540</td>\n",
       "    </tr>\n",
       "    <tr>\n",
       "      <th>9</th>\n",
       "      <td>Denmark</td>\n",
       "      <td>18955.340</td>\n",
       "    </tr>\n",
       "    <tr>\n",
       "      <th>18</th>\n",
       "      <td>Italy</td>\n",
       "      <td>17483.240</td>\n",
       "    </tr>\n",
       "    <tr>\n",
       "      <th>7</th>\n",
       "      <td>Cyprus</td>\n",
       "      <td>13502.850</td>\n",
       "    </tr>\n",
       "    <tr>\n",
       "      <th>1</th>\n",
       "      <td>Austria</td>\n",
       "      <td>10198.680</td>\n",
       "    </tr>\n",
       "    <tr>\n",
       "      <th>25</th>\n",
       "      <td>Poland</td>\n",
       "      <td>7334.650</td>\n",
       "    </tr>\n",
       "    <tr>\n",
       "      <th>17</th>\n",
       "      <td>Israel</td>\n",
       "      <td>7215.840</td>\n",
       "    </tr>\n",
       "    <tr>\n",
       "      <th>15</th>\n",
       "      <td>Greece</td>\n",
       "      <td>4760.520</td>\n",
       "    </tr>\n",
       "    <tr>\n",
       "      <th>16</th>\n",
       "      <td>Iceland</td>\n",
       "      <td>4310.000</td>\n",
       "    </tr>\n",
       "    <tr>\n",
       "      <th>5</th>\n",
       "      <td>Canada</td>\n",
       "      <td>3666.380</td>\n",
       "    </tr>\n",
       "    <tr>\n",
       "      <th>33</th>\n",
       "      <td>USA</td>\n",
       "      <td>3580.390</td>\n",
       "    </tr>\n",
       "    <tr>\n",
       "      <th>22</th>\n",
       "      <td>Malta</td>\n",
       "      <td>2725.590</td>\n",
       "    </tr>\n",
       "    <tr>\n",
       "      <th>36</th>\n",
       "      <td>Unspecified</td>\n",
       "      <td>2660.770</td>\n",
       "    </tr>\n",
       "    <tr>\n",
       "      <th>34</th>\n",
       "      <td>United Arab Emirates</td>\n",
       "      <td>1902.280</td>\n",
       "    </tr>\n",
       "    <tr>\n",
       "      <th>20</th>\n",
       "      <td>Lebanon</td>\n",
       "      <td>1693.880</td>\n",
       "    </tr>\n",
       "    <tr>\n",
       "      <th>21</th>\n",
       "      <td>Lithuania</td>\n",
       "      <td>1661.060</td>\n",
       "    </tr>\n",
       "    <tr>\n",
       "      <th>11</th>\n",
       "      <td>European Community</td>\n",
       "      <td>1300.250</td>\n",
       "    </tr>\n",
       "    <tr>\n",
       "      <th>4</th>\n",
       "      <td>Brazil</td>\n",
       "      <td>1143.600</td>\n",
       "    </tr>\n",
       "    <tr>\n",
       "      <th>27</th>\n",
       "      <td>RSA</td>\n",
       "      <td>1002.310</td>\n",
       "    </tr>\n",
       "    <tr>\n",
       "      <th>8</th>\n",
       "      <td>Czech Republic</td>\n",
       "      <td>826.740</td>\n",
       "    </tr>\n",
       "    <tr>\n",
       "      <th>2</th>\n",
       "      <td>Bahrain</td>\n",
       "      <td>548.400</td>\n",
       "    </tr>\n",
       "    <tr>\n",
       "      <th>28</th>\n",
       "      <td>Saudi Arabia</td>\n",
       "      <td>145.920</td>\n",
       "    </tr>\n",
       "  </tbody>\n",
       "</table>\n",
       "</div>"
      ],
      "text/plain": [
       "                    País  Monto Total\n",
       "35        United Kingdom  7285024.644\n",
       "23           Netherlands   285446.340\n",
       "10                  EIRE   265262.460\n",
       "14               Germany   228678.400\n",
       "13                France   208934.310\n",
       "0              Australia   138453.810\n",
       "30                 Spain    61558.560\n",
       "32           Switzerland    56443.950\n",
       "3                Belgium    41196.340\n",
       "31                Sweden    38367.830\n",
       "19                 Japan    37416.370\n",
       "24                Norway    36165.440\n",
       "26              Portugal    33375.840\n",
       "12               Finland    22546.080\n",
       "29             Singapore    21279.290\n",
       "6        Channel Islands    20440.540\n",
       "9                Denmark    18955.340\n",
       "18                 Italy    17483.240\n",
       "7                 Cyprus    13502.850\n",
       "1                Austria    10198.680\n",
       "25                Poland     7334.650\n",
       "17                Israel     7215.840\n",
       "15                Greece     4760.520\n",
       "16               Iceland     4310.000\n",
       "5                 Canada     3666.380\n",
       "33                   USA     3580.390\n",
       "22                 Malta     2725.590\n",
       "36           Unspecified     2660.770\n",
       "34  United Arab Emirates     1902.280\n",
       "20               Lebanon     1693.880\n",
       "21             Lithuania     1661.060\n",
       "11    European Community     1300.250\n",
       "4                 Brazil     1143.600\n",
       "27                   RSA     1002.310\n",
       "8         Czech Republic      826.740\n",
       "2                Bahrain      548.400\n",
       "28          Saudi Arabia      145.920"
      ]
     },
     "execution_count": 23,
     "metadata": {},
     "output_type": "execute_result"
    }
   ],
   "source": [
    "# Agrupar por país y calcular el monto total por país\n",
    "monto_total_por_pais = data.groupby('region')['amount'].sum().reset_index()\n",
    "monto_total_por_pais.columns = ['País', 'Monto Total']\n",
    "\n",
    "# Ordenar por monto total descendente\n",
    "monto_total_por_pais = monto_total_por_pais.sort_values(by='Monto Total', ascending=False)\n",
    "\n",
    "# Mostrar tabla de monto total por país\n",
    "print(\"Monto total por país:\")\n",
    "monto_total_por_pais"
   ]
  },
  {
   "cell_type": "markdown",
   "metadata": {},
   "source": [
    "### Analisis Numero de Facturas por mes"
   ]
  },
  {
   "cell_type": "code",
   "execution_count": 24,
   "metadata": {},
   "outputs": [
    {
     "name": "stdout",
     "output_type": "stream",
     "text": [
      "Número de facturas generadas por mes:\n"
     ]
    },
    {
     "data": {
      "text/html": [
       "<div>\n",
       "<style scoped>\n",
       "    .dataframe tbody tr th:only-of-type {\n",
       "        vertical-align: middle;\n",
       "    }\n",
       "\n",
       "    .dataframe tbody tr th {\n",
       "        vertical-align: top;\n",
       "    }\n",
       "\n",
       "    .dataframe thead th {\n",
       "        text-align: right;\n",
       "    }\n",
       "</style>\n",
       "<table border=\"1\" class=\"dataframe\">\n",
       "  <thead>\n",
       "    <tr style=\"text-align: right;\">\n",
       "      <th></th>\n",
       "      <th>Mes</th>\n",
       "      <th>Número de Facturas</th>\n",
       "    </tr>\n",
       "  </thead>\n",
       "  <tbody>\n",
       "    <tr>\n",
       "      <th>0</th>\n",
       "      <td>1</td>\n",
       "      <td>987</td>\n",
       "    </tr>\n",
       "    <tr>\n",
       "      <th>1</th>\n",
       "      <td>2</td>\n",
       "      <td>998</td>\n",
       "    </tr>\n",
       "    <tr>\n",
       "      <th>2</th>\n",
       "      <td>3</td>\n",
       "      <td>1321</td>\n",
       "    </tr>\n",
       "    <tr>\n",
       "      <th>3</th>\n",
       "      <td>4</td>\n",
       "      <td>1149</td>\n",
       "    </tr>\n",
       "    <tr>\n",
       "      <th>4</th>\n",
       "      <td>5</td>\n",
       "      <td>1555</td>\n",
       "    </tr>\n",
       "    <tr>\n",
       "      <th>5</th>\n",
       "      <td>6</td>\n",
       "      <td>1393</td>\n",
       "    </tr>\n",
       "    <tr>\n",
       "      <th>6</th>\n",
       "      <td>7</td>\n",
       "      <td>1331</td>\n",
       "    </tr>\n",
       "    <tr>\n",
       "      <th>7</th>\n",
       "      <td>8</td>\n",
       "      <td>1281</td>\n",
       "    </tr>\n",
       "    <tr>\n",
       "      <th>8</th>\n",
       "      <td>9</td>\n",
       "      <td>1756</td>\n",
       "    </tr>\n",
       "    <tr>\n",
       "      <th>9</th>\n",
       "      <td>10</td>\n",
       "      <td>1929</td>\n",
       "    </tr>\n",
       "    <tr>\n",
       "      <th>10</th>\n",
       "      <td>11</td>\n",
       "      <td>2658</td>\n",
       "    </tr>\n",
       "    <tr>\n",
       "      <th>11</th>\n",
       "      <td>12</td>\n",
       "      <td>2178</td>\n",
       "    </tr>\n",
       "  </tbody>\n",
       "</table>\n",
       "</div>"
      ],
      "text/plain": [
       "    Mes  Número de Facturas\n",
       "0     1                 987\n",
       "1     2                 998\n",
       "2     3                1321\n",
       "3     4                1149\n",
       "4     5                1555\n",
       "5     6                1393\n",
       "6     7                1331\n",
       "7     8                1281\n",
       "8     9                1756\n",
       "9    10                1929\n",
       "10   11                2658\n",
       "11   12                2178"
      ]
     },
     "execution_count": 24,
     "metadata": {},
     "output_type": "execute_result"
    }
   ],
   "source": [
    "# Crear una nueva columna 'Month' para el mes de cada factura\n",
    "data['Month'] = data['invoice_date'].dt.month\n",
    "\n",
    "# Conteo de facturas por mes\n",
    "facturas_por_mes = data.groupby('Month')['invoice_no'].nunique().reset_index()\n",
    "facturas_por_mes.columns = ['Mes', 'Número de Facturas']\n",
    "\n",
    "# Mostrar tabla de número de facturas por mes\n",
    "print(\"Número de facturas generadas por mes:\")\n",
    "facturas_por_mes"
   ]
  },
  {
   "cell_type": "markdown",
   "metadata": {},
   "source": [
    "### Analisis de la Cantidad de Clientes Nuevos por mes"
   ]
  },
  {
   "cell_type": "code",
   "execution_count": 25,
   "metadata": {},
   "outputs": [
    {
     "name": "stdout",
     "output_type": "stream",
     "text": [
      "Cantidad de clientes nuevos por mes:\n"
     ]
    },
    {
     "data": {
      "text/html": [
       "<div>\n",
       "<style scoped>\n",
       "    .dataframe tbody tr th:only-of-type {\n",
       "        vertical-align: middle;\n",
       "    }\n",
       "\n",
       "    .dataframe tbody tr th {\n",
       "        vertical-align: top;\n",
       "    }\n",
       "\n",
       "    .dataframe thead th {\n",
       "        text-align: right;\n",
       "    }\n",
       "</style>\n",
       "<table border=\"1\" class=\"dataframe\">\n",
       "  <thead>\n",
       "    <tr style=\"text-align: right;\">\n",
       "      <th></th>\n",
       "      <th>Mes</th>\n",
       "      <th>Clientes Nuevos</th>\n",
       "    </tr>\n",
       "  </thead>\n",
       "  <tbody>\n",
       "    <tr>\n",
       "      <th>0</th>\n",
       "      <td>1</td>\n",
       "      <td>417</td>\n",
       "    </tr>\n",
       "    <tr>\n",
       "      <th>1</th>\n",
       "      <td>2</td>\n",
       "      <td>380</td>\n",
       "    </tr>\n",
       "    <tr>\n",
       "      <th>2</th>\n",
       "      <td>3</td>\n",
       "      <td>452</td>\n",
       "    </tr>\n",
       "    <tr>\n",
       "      <th>3</th>\n",
       "      <td>4</td>\n",
       "      <td>300</td>\n",
       "    </tr>\n",
       "    <tr>\n",
       "      <th>4</th>\n",
       "      <td>5</td>\n",
       "      <td>284</td>\n",
       "    </tr>\n",
       "    <tr>\n",
       "      <th>5</th>\n",
       "      <td>6</td>\n",
       "      <td>242</td>\n",
       "    </tr>\n",
       "    <tr>\n",
       "      <th>6</th>\n",
       "      <td>7</td>\n",
       "      <td>188</td>\n",
       "    </tr>\n",
       "    <tr>\n",
       "      <th>7</th>\n",
       "      <td>8</td>\n",
       "      <td>169</td>\n",
       "    </tr>\n",
       "    <tr>\n",
       "      <th>8</th>\n",
       "      <td>9</td>\n",
       "      <td>299</td>\n",
       "    </tr>\n",
       "    <tr>\n",
       "      <th>9</th>\n",
       "      <td>10</td>\n",
       "      <td>358</td>\n",
       "    </tr>\n",
       "    <tr>\n",
       "      <th>10</th>\n",
       "      <td>11</td>\n",
       "      <td>324</td>\n",
       "    </tr>\n",
       "    <tr>\n",
       "      <th>11</th>\n",
       "      <td>12</td>\n",
       "      <td>926</td>\n",
       "    </tr>\n",
       "  </tbody>\n",
       "</table>\n",
       "</div>"
      ],
      "text/plain": [
       "    Mes  Clientes Nuevos\n",
       "0     1              417\n",
       "1     2              380\n",
       "2     3              452\n",
       "3     4              300\n",
       "4     5              284\n",
       "5     6              242\n",
       "6     7              188\n",
       "7     8              169\n",
       "8     9              299\n",
       "9    10              358\n",
       "10   11              324\n",
       "11   12              926"
      ]
     },
     "execution_count": 25,
     "metadata": {},
     "output_type": "execute_result"
    }
   ],
   "source": [
    "# Ordenar los datos por fecha de factura\n",
    "data = data.sort_values(by='invoice_date')\n",
    "\n",
    "# Encontrar la primera compra de cada cliente\n",
    "primer_compra_por_cliente = data.groupby('customer_id')['invoice_date'].min().reset_index()\n",
    "\n",
    "# Crear una nueva columna 'month_first_purchase' para el mes de la primera compra de cada cliente\n",
    "primer_compra_por_cliente['month_first_purchase'] = primer_compra_por_cliente['invoice_date'].dt.month\n",
    "\n",
    "# Contar la cantidad de clientes nuevos por mes\n",
    "clientes_nuevos_por_mes = primer_compra_por_cliente.groupby('month_first_purchase').size().reset_index()\n",
    "clientes_nuevos_por_mes.columns = ['Mes', 'Clientes Nuevos']\n",
    "\n",
    "# Mostrar tabla de cantidad de clientes nuevos por mes\n",
    "print(\"Cantidad de clientes nuevos por mes:\")\n",
    "clientes_nuevos_por_mes"
   ]
  },
  {
   "cell_type": "markdown",
   "metadata": {},
   "source": [
    "### Analisis del monto total de ventas por mes"
   ]
  },
  {
   "cell_type": "code",
   "execution_count": 26,
   "metadata": {},
   "outputs": [
    {
     "name": "stdout",
     "output_type": "stream",
     "text": [
      "Monto total de ventas por mes:\n"
     ]
    },
    {
     "data": {
      "text/html": [
       "<div>\n",
       "<style scoped>\n",
       "    .dataframe tbody tr th:only-of-type {\n",
       "        vertical-align: middle;\n",
       "    }\n",
       "\n",
       "    .dataframe tbody tr th {\n",
       "        vertical-align: top;\n",
       "    }\n",
       "\n",
       "    .dataframe thead th {\n",
       "        text-align: right;\n",
       "    }\n",
       "</style>\n",
       "<table border=\"1\" class=\"dataframe\">\n",
       "  <thead>\n",
       "    <tr style=\"text-align: right;\">\n",
       "      <th></th>\n",
       "      <th>Mes</th>\n",
       "      <th>Monto Total de Ventas</th>\n",
       "    </tr>\n",
       "  </thead>\n",
       "  <tbody>\n",
       "    <tr>\n",
       "      <th>0</th>\n",
       "      <td>1</td>\n",
       "      <td>568101.310</td>\n",
       "    </tr>\n",
       "    <tr>\n",
       "      <th>1</th>\n",
       "      <td>2</td>\n",
       "      <td>446084.920</td>\n",
       "    </tr>\n",
       "    <tr>\n",
       "      <th>2</th>\n",
       "      <td>3</td>\n",
       "      <td>594081.760</td>\n",
       "    </tr>\n",
       "    <tr>\n",
       "      <th>3</th>\n",
       "      <td>4</td>\n",
       "      <td>468374.331</td>\n",
       "    </tr>\n",
       "    <tr>\n",
       "      <th>4</th>\n",
       "      <td>5</td>\n",
       "      <td>677355.150</td>\n",
       "    </tr>\n",
       "    <tr>\n",
       "      <th>5</th>\n",
       "      <td>6</td>\n",
       "      <td>660046.050</td>\n",
       "    </tr>\n",
       "    <tr>\n",
       "      <th>6</th>\n",
       "      <td>7</td>\n",
       "      <td>598962.901</td>\n",
       "    </tr>\n",
       "    <tr>\n",
       "      <th>7</th>\n",
       "      <td>8</td>\n",
       "      <td>644051.040</td>\n",
       "    </tr>\n",
       "    <tr>\n",
       "      <th>8</th>\n",
       "      <td>9</td>\n",
       "      <td>950690.202</td>\n",
       "    </tr>\n",
       "    <tr>\n",
       "      <th>9</th>\n",
       "      <td>10</td>\n",
       "      <td>1035642.450</td>\n",
       "    </tr>\n",
       "    <tr>\n",
       "      <th>10</th>\n",
       "      <td>11</td>\n",
       "      <td>1156205.610</td>\n",
       "    </tr>\n",
       "    <tr>\n",
       "      <th>11</th>\n",
       "      <td>12</td>\n",
       "      <td>1087613.170</td>\n",
       "    </tr>\n",
       "  </tbody>\n",
       "</table>\n",
       "</div>"
      ],
      "text/plain": [
       "    Mes  Monto Total de Ventas\n",
       "0     1             568101.310\n",
       "1     2             446084.920\n",
       "2     3             594081.760\n",
       "3     4             468374.331\n",
       "4     5             677355.150\n",
       "5     6             660046.050\n",
       "6     7             598962.901\n",
       "7     8             644051.040\n",
       "8     9             950690.202\n",
       "9    10            1035642.450\n",
       "10   11            1156205.610\n",
       "11   12            1087613.170"
      ]
     },
     "execution_count": 26,
     "metadata": {},
     "output_type": "execute_result"
    }
   ],
   "source": [
    "# Calcular el monto total de ventas por mes\n",
    "ventas_por_mes = data.groupby('Month')['amount'].sum().reset_index()\n",
    "ventas_por_mes.columns = ['Mes', 'Monto Total de Ventas']\n",
    "\n",
    "# Mostrar tabla de monto total de ventas por mes\n",
    "print(\"Monto total de ventas por mes:\")\n",
    "ventas_por_mes"
   ]
  },
  {
   "cell_type": "markdown",
   "metadata": {},
   "source": [
    "### Analisis de Clientes que mas han gastado"
   ]
  },
  {
   "cell_type": "code",
   "execution_count": 27,
   "metadata": {},
   "outputs": [
    {
     "name": "stdout",
     "output_type": "stream",
     "text": [
      "Clientes que más han gastado:\n"
     ]
    },
    {
     "data": {
      "text/html": [
       "<div>\n",
       "<style scoped>\n",
       "    .dataframe tbody tr th:only-of-type {\n",
       "        vertical-align: middle;\n",
       "    }\n",
       "\n",
       "    .dataframe tbody tr th {\n",
       "        vertical-align: top;\n",
       "    }\n",
       "\n",
       "    .dataframe thead th {\n",
       "        text-align: right;\n",
       "    }\n",
       "</style>\n",
       "<table border=\"1\" class=\"dataframe\">\n",
       "  <thead>\n",
       "    <tr style=\"text-align: right;\">\n",
       "      <th></th>\n",
       "      <th>customer_id</th>\n",
       "      <th>amount</th>\n",
       "    </tr>\n",
       "  </thead>\n",
       "  <tbody>\n",
       "    <tr>\n",
       "      <th>1690</th>\n",
       "      <td>14646.0</td>\n",
       "      <td>280206.02</td>\n",
       "    </tr>\n",
       "    <tr>\n",
       "      <th>4202</th>\n",
       "      <td>18102.0</td>\n",
       "      <td>259657.30</td>\n",
       "    </tr>\n",
       "    <tr>\n",
       "      <th>3729</th>\n",
       "      <td>17450.0</td>\n",
       "      <td>194390.79</td>\n",
       "    </tr>\n",
       "    <tr>\n",
       "      <th>3009</th>\n",
       "      <td>16446.0</td>\n",
       "      <td>168472.50</td>\n",
       "    </tr>\n",
       "    <tr>\n",
       "      <th>1880</th>\n",
       "      <td>14911.0</td>\n",
       "      <td>143711.17</td>\n",
       "    </tr>\n",
       "    <tr>\n",
       "      <th>55</th>\n",
       "      <td>12415.0</td>\n",
       "      <td>124914.53</td>\n",
       "    </tr>\n",
       "    <tr>\n",
       "      <th>1334</th>\n",
       "      <td>14156.0</td>\n",
       "      <td>117210.08</td>\n",
       "    </tr>\n",
       "    <tr>\n",
       "      <th>3772</th>\n",
       "      <td>17511.0</td>\n",
       "      <td>91062.38</td>\n",
       "    </tr>\n",
       "    <tr>\n",
       "      <th>2703</th>\n",
       "      <td>16029.0</td>\n",
       "      <td>80850.84</td>\n",
       "    </tr>\n",
       "    <tr>\n",
       "      <th>0</th>\n",
       "      <td>12346.0</td>\n",
       "      <td>77183.60</td>\n",
       "    </tr>\n",
       "  </tbody>\n",
       "</table>\n",
       "</div>"
      ],
      "text/plain": [
       "     customer_id     amount\n",
       "1690     14646.0  280206.02\n",
       "4202     18102.0  259657.30\n",
       "3729     17450.0  194390.79\n",
       "3009     16446.0  168472.50\n",
       "1880     14911.0  143711.17\n",
       "55       12415.0  124914.53\n",
       "1334     14156.0  117210.08\n",
       "3772     17511.0   91062.38\n",
       "2703     16029.0   80850.84\n",
       "0        12346.0   77183.60"
      ]
     },
     "execution_count": 27,
     "metadata": {},
     "output_type": "execute_result"
    }
   ],
   "source": [
    "# Calcular el total gastado por cada cliente\n",
    "total_gastado_por_cliente = data.groupby('customer_id')['amount'].sum().reset_index()\n",
    "\n",
    "# Ordenar los clientes por el monto total gastado de mayor a menor\n",
    "clientes_mas_gastadores = total_gastado_por_cliente.sort_values(by='amount', ascending=False)\n",
    "\n",
    "# Mostrar los 10 clientes que más han gastado\n",
    "print(\"Clientes que más han gastado:\")\n",
    "clientes_mas_gastadores.head(10)"
   ]
  },
  {
   "cell_type": "markdown",
   "metadata": {},
   "source": [
    "### Analisis de clientes que mas compras han realizado"
   ]
  },
  {
   "cell_type": "code",
   "execution_count": 28,
   "metadata": {},
   "outputs": [
    {
     "name": "stdout",
     "output_type": "stream",
     "text": [
      "Clientes que más compras han realizado:\n"
     ]
    },
    {
     "data": {
      "text/html": [
       "<div>\n",
       "<style scoped>\n",
       "    .dataframe tbody tr th:only-of-type {\n",
       "        vertical-align: middle;\n",
       "    }\n",
       "\n",
       "    .dataframe tbody tr th {\n",
       "        vertical-align: top;\n",
       "    }\n",
       "\n",
       "    .dataframe thead th {\n",
       "        text-align: right;\n",
       "    }\n",
       "</style>\n",
       "<table border=\"1\" class=\"dataframe\">\n",
       "  <thead>\n",
       "    <tr style=\"text-align: right;\">\n",
       "      <th></th>\n",
       "      <th>customer_id</th>\n",
       "      <th>invoice_no</th>\n",
       "    </tr>\n",
       "  </thead>\n",
       "  <tbody>\n",
       "    <tr>\n",
       "      <th>326</th>\n",
       "      <td>12748.0</td>\n",
       "      <td>210</td>\n",
       "    </tr>\n",
       "    <tr>\n",
       "      <th>1880</th>\n",
       "      <td>14911.0</td>\n",
       "      <td>201</td>\n",
       "    </tr>\n",
       "    <tr>\n",
       "      <th>4011</th>\n",
       "      <td>17841.0</td>\n",
       "      <td>124</td>\n",
       "    </tr>\n",
       "    <tr>\n",
       "      <th>562</th>\n",
       "      <td>13089.0</td>\n",
       "      <td>97</td>\n",
       "    </tr>\n",
       "    <tr>\n",
       "      <th>1662</th>\n",
       "      <td>14606.0</td>\n",
       "      <td>93</td>\n",
       "    </tr>\n",
       "    <tr>\n",
       "      <th>2177</th>\n",
       "      <td>15311.0</td>\n",
       "      <td>91</td>\n",
       "    </tr>\n",
       "    <tr>\n",
       "      <th>481</th>\n",
       "      <td>12971.0</td>\n",
       "      <td>86</td>\n",
       "    </tr>\n",
       "    <tr>\n",
       "      <th>1690</th>\n",
       "      <td>14646.0</td>\n",
       "      <td>74</td>\n",
       "    </tr>\n",
       "    <tr>\n",
       "      <th>2703</th>\n",
       "      <td>16029.0</td>\n",
       "      <td>63</td>\n",
       "    </tr>\n",
       "    <tr>\n",
       "      <th>796</th>\n",
       "      <td>13408.0</td>\n",
       "      <td>62</td>\n",
       "    </tr>\n",
       "  </tbody>\n",
       "</table>\n",
       "</div>"
      ],
      "text/plain": [
       "     customer_id  invoice_no\n",
       "326      12748.0         210\n",
       "1880     14911.0         201\n",
       "4011     17841.0         124\n",
       "562      13089.0          97\n",
       "1662     14606.0          93\n",
       "2177     15311.0          91\n",
       "481      12971.0          86\n",
       "1690     14646.0          74\n",
       "2703     16029.0          63\n",
       "796      13408.0          62"
      ]
     },
     "execution_count": 28,
     "metadata": {},
     "output_type": "execute_result"
    }
   ],
   "source": [
    "# Calcular el número de compras por cliente\n",
    "compras_por_cliente = data.groupby('customer_id')['invoice_no'].nunique().reset_index()\n",
    "\n",
    "# Ordenar los clientes por el número de compras de mayor a menor\n",
    "clientes_mas_compras = compras_por_cliente.sort_values(by='invoice_no', ascending=False)\n",
    "\n",
    "# Mostrar los 10 clientes que más compras han realizado\n",
    "print(\"Clientes que más compras han realizado:\")\n",
    "clientes_mas_compras.head(10)"
   ]
  },
  {
   "cell_type": "code",
   "execution_count": 29,
   "metadata": {},
   "outputs": [
    {
     "name": "stdout",
     "output_type": "stream",
     "text": [
      "<class 'pandas.core.frame.DataFrame'>\n",
      "Index: 4339 entries, 326 to 4296\n",
      "Data columns (total 2 columns):\n",
      " #   Column       Non-Null Count  Dtype \n",
      "---  ------       --------------  ----- \n",
      " 0   customer_id  4339 non-null   object\n",
      " 1   invoice_no   4339 non-null   int64 \n",
      "dtypes: int64(1), object(1)\n",
      "memory usage: 101.7+ KB\n"
     ]
    }
   ],
   "source": [
    "clientes_mas_compras.info()"
   ]
  },
  {
   "cell_type": "code",
   "execution_count": 30,
   "metadata": {},
   "outputs": [
    {
     "data": {
      "image/png": "[encoded data removed]",
      "text/plain": [
       "<Figure size 1200x800 with 1 Axes>"
      ]
     },
     "metadata": {},
     "output_type": "display_data"
    }
   ],
   "source": [
    "plt.figure(figsize=(12, 8))\n",
    "plt.scatter(clientes_mas_compras.index, clientes_mas_compras['invoice_no'], alpha=0.5)\n",
    "plt.title('Dispersión de Clientes y Conteo de Compras')\n",
    "plt.xlabel('ID del Cliente')\n",
    "plt.ylabel('Conteo de Compras')\n",
    "plt.grid(True)\n",
    "plt.show()"
   ]
  },
  {
   "cell_type": "code",
   "execution_count": 31,
   "metadata": {},
   "outputs": [
    {
     "name": "stdout",
     "output_type": "stream",
     "text": [
      "[ 9. 13. 30.]\n"
     ]
    }
   ],
   "source": [
    "print(np.percentile(clientes_mas_compras['invoice_no'],[90,95,99]))"
   ]
  },
  {
   "cell_type": "markdown",
   "metadata": {},
   "source": [
    "No más del 1% de clientes tiene más de 30 compras y menos del 5% tiene más de 13 compras. Es decir que todos aquellos puntos que vemos en el gráfico por encima de 30 pedidos, son datos con anomalías."
   ]
  },
  {
   "cell_type": "markdown",
   "metadata": {},
   "source": [
    "### Analisis de comportamiento de clientes a lo largo del tiempo"
   ]
  },
  {
   "cell_type": "code",
   "execution_count": 32,
   "metadata": {},
   "outputs": [
    {
     "data": {
      "text/html": [
       "<div>\n",
       "<style scoped>\n",
       "    .dataframe tbody tr th:only-of-type {\n",
       "        vertical-align: middle;\n",
       "    }\n",
       "\n",
       "    .dataframe tbody tr th {\n",
       "        vertical-align: top;\n",
       "    }\n",
       "\n",
       "    .dataframe thead th {\n",
       "        text-align: right;\n",
       "    }\n",
       "</style>\n",
       "<table border=\"1\" class=\"dataframe\">\n",
       "  <thead>\n",
       "    <tr style=\"text-align: right;\">\n",
       "      <th></th>\n",
       "      <th>invoice_no</th>\n",
       "      <th>quantity</th>\n",
       "      <th>invoice_date</th>\n",
       "      <th>customer_id</th>\n",
       "      <th>region</th>\n",
       "      <th>amount</th>\n",
       "      <th>Month</th>\n",
       "    </tr>\n",
       "  </thead>\n",
       "  <tbody>\n",
       "    <tr>\n",
       "      <th>0</th>\n",
       "      <td>536365</td>\n",
       "      <td>6</td>\n",
       "      <td>2019-12-01 08:26:00</td>\n",
       "      <td>17850.0</td>\n",
       "      <td>United Kingdom</td>\n",
       "      <td>15.30</td>\n",
       "      <td>12</td>\n",
       "    </tr>\n",
       "    <tr>\n",
       "      <th>1</th>\n",
       "      <td>536365</td>\n",
       "      <td>6</td>\n",
       "      <td>2019-12-01 08:26:00</td>\n",
       "      <td>17850.0</td>\n",
       "      <td>United Kingdom</td>\n",
       "      <td>20.34</td>\n",
       "      <td>12</td>\n",
       "    </tr>\n",
       "    <tr>\n",
       "      <th>2</th>\n",
       "      <td>536365</td>\n",
       "      <td>8</td>\n",
       "      <td>2019-12-01 08:26:00</td>\n",
       "      <td>17850.0</td>\n",
       "      <td>United Kingdom</td>\n",
       "      <td>22.00</td>\n",
       "      <td>12</td>\n",
       "    </tr>\n",
       "    <tr>\n",
       "      <th>3</th>\n",
       "      <td>536365</td>\n",
       "      <td>6</td>\n",
       "      <td>2019-12-01 08:26:00</td>\n",
       "      <td>17850.0</td>\n",
       "      <td>United Kingdom</td>\n",
       "      <td>20.34</td>\n",
       "      <td>12</td>\n",
       "    </tr>\n",
       "    <tr>\n",
       "      <th>4</th>\n",
       "      <td>536365</td>\n",
       "      <td>6</td>\n",
       "      <td>2019-12-01 08:26:00</td>\n",
       "      <td>17850.0</td>\n",
       "      <td>United Kingdom</td>\n",
       "      <td>20.34</td>\n",
       "      <td>12</td>\n",
       "    </tr>\n",
       "    <tr>\n",
       "      <th>5</th>\n",
       "      <td>536365</td>\n",
       "      <td>2</td>\n",
       "      <td>2019-12-01 08:26:00</td>\n",
       "      <td>17850.0</td>\n",
       "      <td>United Kingdom</td>\n",
       "      <td>15.30</td>\n",
       "      <td>12</td>\n",
       "    </tr>\n",
       "    <tr>\n",
       "      <th>6</th>\n",
       "      <td>536365</td>\n",
       "      <td>6</td>\n",
       "      <td>2019-12-01 08:26:00</td>\n",
       "      <td>17850.0</td>\n",
       "      <td>United Kingdom</td>\n",
       "      <td>25.50</td>\n",
       "      <td>12</td>\n",
       "    </tr>\n",
       "    <tr>\n",
       "      <th>7</th>\n",
       "      <td>536366</td>\n",
       "      <td>6</td>\n",
       "      <td>2019-12-01 08:28:00</td>\n",
       "      <td>17850.0</td>\n",
       "      <td>United Kingdom</td>\n",
       "      <td>11.10</td>\n",
       "      <td>12</td>\n",
       "    </tr>\n",
       "    <tr>\n",
       "      <th>8</th>\n",
       "      <td>536366</td>\n",
       "      <td>6</td>\n",
       "      <td>2019-12-01 08:28:00</td>\n",
       "      <td>17850.0</td>\n",
       "      <td>United Kingdom</td>\n",
       "      <td>11.10</td>\n",
       "      <td>12</td>\n",
       "    </tr>\n",
       "    <tr>\n",
       "      <th>24</th>\n",
       "      <td>536368</td>\n",
       "      <td>3</td>\n",
       "      <td>2019-12-01 08:34:00</td>\n",
       "      <td>13047.0</td>\n",
       "      <td>United Kingdom</td>\n",
       "      <td>14.85</td>\n",
       "      <td>12</td>\n",
       "    </tr>\n",
       "    <tr>\n",
       "      <th>22</th>\n",
       "      <td>536368</td>\n",
       "      <td>3</td>\n",
       "      <td>2019-12-01 08:34:00</td>\n",
       "      <td>13047.0</td>\n",
       "      <td>United Kingdom</td>\n",
       "      <td>14.85</td>\n",
       "      <td>12</td>\n",
       "    </tr>\n",
       "    <tr>\n",
       "      <th>21</th>\n",
       "      <td>536368</td>\n",
       "      <td>6</td>\n",
       "      <td>2019-12-01 08:34:00</td>\n",
       "      <td>13047.0</td>\n",
       "      <td>United Kingdom</td>\n",
       "      <td>25.50</td>\n",
       "      <td>12</td>\n",
       "    </tr>\n",
       "    <tr>\n",
       "      <th>20</th>\n",
       "      <td>536367</td>\n",
       "      <td>4</td>\n",
       "      <td>2019-12-01 08:34:00</td>\n",
       "      <td>13047.0</td>\n",
       "      <td>United Kingdom</td>\n",
       "      <td>31.80</td>\n",
       "      <td>12</td>\n",
       "    </tr>\n",
       "    <tr>\n",
       "      <th>19</th>\n",
       "      <td>536367</td>\n",
       "      <td>4</td>\n",
       "      <td>2019-12-01 08:34:00</td>\n",
       "      <td>13047.0</td>\n",
       "      <td>United Kingdom</td>\n",
       "      <td>31.80</td>\n",
       "      <td>12</td>\n",
       "    </tr>\n",
       "    <tr>\n",
       "      <th>18</th>\n",
       "      <td>536367</td>\n",
       "      <td>3</td>\n",
       "      <td>2019-12-01 08:34:00</td>\n",
       "      <td>13047.0</td>\n",
       "      <td>United Kingdom</td>\n",
       "      <td>17.85</td>\n",
       "      <td>12</td>\n",
       "    </tr>\n",
       "    <tr>\n",
       "      <th>17</th>\n",
       "      <td>536367</td>\n",
       "      <td>3</td>\n",
       "      <td>2019-12-01 08:34:00</td>\n",
       "      <td>13047.0</td>\n",
       "      <td>United Kingdom</td>\n",
       "      <td>17.85</td>\n",
       "      <td>12</td>\n",
       "    </tr>\n",
       "    <tr>\n",
       "      <th>23</th>\n",
       "      <td>536368</td>\n",
       "      <td>3</td>\n",
       "      <td>2019-12-01 08:34:00</td>\n",
       "      <td>13047.0</td>\n",
       "      <td>United Kingdom</td>\n",
       "      <td>14.85</td>\n",
       "      <td>12</td>\n",
       "    </tr>\n",
       "    <tr>\n",
       "      <th>15</th>\n",
       "      <td>536367</td>\n",
       "      <td>3</td>\n",
       "      <td>2019-12-01 08:34:00</td>\n",
       "      <td>13047.0</td>\n",
       "      <td>United Kingdom</td>\n",
       "      <td>14.85</td>\n",
       "      <td>12</td>\n",
       "    </tr>\n",
       "    <tr>\n",
       "      <th>14</th>\n",
       "      <td>536367</td>\n",
       "      <td>6</td>\n",
       "      <td>2019-12-01 08:34:00</td>\n",
       "      <td>13047.0</td>\n",
       "      <td>United Kingdom</td>\n",
       "      <td>25.50</td>\n",
       "      <td>12</td>\n",
       "    </tr>\n",
       "    <tr>\n",
       "      <th>13</th>\n",
       "      <td>536367</td>\n",
       "      <td>6</td>\n",
       "      <td>2019-12-01 08:34:00</td>\n",
       "      <td>13047.0</td>\n",
       "      <td>United Kingdom</td>\n",
       "      <td>9.90</td>\n",
       "      <td>12</td>\n",
       "    </tr>\n",
       "  </tbody>\n",
       "</table>\n",
       "</div>"
      ],
      "text/plain": [
       "   invoice_no  quantity        invoice_date customer_id          region  \\\n",
       "0      536365         6 2019-12-01 08:26:00     17850.0  United Kingdom   \n",
       "1      536365         6 2019-12-01 08:26:00     17850.0  United Kingdom   \n",
       "2      536365         8 2019-12-01 08:26:00     17850.0  United Kingdom   \n",
       "3      536365         6 2019-12-01 08:26:00     17850.0  United Kingdom   \n",
       "4      536365         6 2019-12-01 08:26:00     17850.0  United Kingdom   \n",
       "5      536365         2 2019-12-01 08:26:00     17850.0  United Kingdom   \n",
       "6      536365         6 2019-12-01 08:26:00     17850.0  United Kingdom   \n",
       "7      536366         6 2019-12-01 08:28:00     17850.0  United Kingdom   \n",
       "8      536366         6 2019-12-01 08:28:00     17850.0  United Kingdom   \n",
       "24     536368         3 2019-12-01 08:34:00     13047.0  United Kingdom   \n",
       "22     536368         3 2019-12-01 08:34:00     13047.0  United Kingdom   \n",
       "21     536368         6 2019-12-01 08:34:00     13047.0  United Kingdom   \n",
       "20     536367         4 2019-12-01 08:34:00     13047.0  United Kingdom   \n",
       "19     536367         4 2019-12-01 08:34:00     13047.0  United Kingdom   \n",
       "18     536367         3 2019-12-01 08:34:00     13047.0  United Kingdom   \n",
       "17     536367         3 2019-12-01 08:34:00     13047.0  United Kingdom   \n",
       "23     536368         3 2019-12-01 08:34:00     13047.0  United Kingdom   \n",
       "15     536367         3 2019-12-01 08:34:00     13047.0  United Kingdom   \n",
       "14     536367         6 2019-12-01 08:34:00     13047.0  United Kingdom   \n",
       "13     536367         6 2019-12-01 08:34:00     13047.0  United Kingdom   \n",
       "\n",
       "    amount  Month  \n",
       "0    15.30     12  \n",
       "1    20.34     12  \n",
       "2    22.00     12  \n",
       "3    20.34     12  \n",
       "4    20.34     12  \n",
       "5    15.30     12  \n",
       "6    25.50     12  \n",
       "7    11.10     12  \n",
       "8    11.10     12  \n",
       "24   14.85     12  \n",
       "22   14.85     12  \n",
       "21   25.50     12  \n",
       "20   31.80     12  \n",
       "19   31.80     12  \n",
       "18   17.85     12  \n",
       "17   17.85     12  \n",
       "23   14.85     12  \n",
       "15   14.85     12  \n",
       "14   25.50     12  \n",
       "13    9.90     12  "
      ]
     },
     "execution_count": 32,
     "metadata": {},
     "output_type": "execute_result"
    }
   ],
   "source": [
    "data.head(20)"
   ]
  },
  {
   "cell_type": "code",
   "execution_count": 33,
   "metadata": {},
   "outputs": [
    {
     "name": "stdout",
     "output_type": "stream",
     "text": [
      "<class 'pandas.core.frame.DataFrame'>\n",
      "Index: 392732 entries, 0 to 541908\n",
      "Data columns (total 7 columns):\n",
      " #   Column        Non-Null Count   Dtype         \n",
      "---  ------        --------------   -----         \n",
      " 0   invoice_no    392732 non-null  object        \n",
      " 1   quantity      392732 non-null  int64         \n",
      " 2   invoice_date  392732 non-null  datetime64[ns]\n",
      " 3   customer_id   392732 non-null  object        \n",
      " 4   region        392732 non-null  object        \n",
      " 5   amount        392732 non-null  float64       \n",
      " 6   Month         392732 non-null  int32         \n",
      "dtypes: datetime64[ns](1), float64(1), int32(1), int64(1), object(3)\n",
      "memory usage: 22.5+ MB\n"
     ]
    }
   ],
   "source": [
    "data.info()"
   ]
  },
  {
   "cell_type": "code",
   "execution_count": 34,
   "metadata": {},
   "outputs": [
    {
     "ename": "TypeError",
     "evalue": "Cannot cast DatetimeArray to dtype datetime64[W]",
     "output_type": "error",
     "traceback": [
      "\u001b[1;31m---------------------------------------------------------------------------\u001b[0m",
      "\u001b[1;31mTypeError\u001b[0m                                 Traceback (most recent call last)",
      "Cell \u001b[1;32mIn[34], line 3\u001b[0m\n\u001b[0;32m      1\u001b[0m \u001b[38;5;66;03m# Agregamos columnas de fecha para facilitar el agrupamiento\u001b[39;00m\n\u001b[0;32m      2\u001b[0m data[\u001b[38;5;124m'\u001b[39m\u001b[38;5;124mdate\u001b[39m\u001b[38;5;124m'\u001b[39m] \u001b[38;5;241m=\u001b[39m data[\u001b[38;5;124m'\u001b[39m\u001b[38;5;124minvoice_date\u001b[39m\u001b[38;5;124m'\u001b[39m]\u001b[38;5;241m.\u001b[39mdt\u001b[38;5;241m.\u001b[39mdate\n\u001b[1;32m----> 3\u001b[0m data[\u001b[38;5;124m'\u001b[39m\u001b[38;5;124mweek\u001b[39m\u001b[38;5;124m'\u001b[39m] \u001b[38;5;241m=\u001b[39m \u001b[43mdata\u001b[49m\u001b[43m[\u001b[49m\u001b[38;5;124;43m'\u001b[39;49m\u001b[38;5;124;43minvoice_date\u001b[39;49m\u001b[38;5;124;43m'\u001b[39;49m\u001b[43m]\u001b[49m\u001b[38;5;241;43m.\u001b[39;49m\u001b[43mastype\u001b[49m\u001b[43m(\u001b[49m\u001b[38;5;124;43m'\u001b[39;49m\u001b[38;5;124;43mdatetime64[W]\u001b[39;49m\u001b[38;5;124;43m'\u001b[39;49m\u001b[43m)\u001b[49m\n\u001b[0;32m      4\u001b[0m data[\u001b[38;5;124m'\u001b[39m\u001b[38;5;124mmonth\u001b[39m\u001b[38;5;124m'\u001b[39m] \u001b[38;5;241m=\u001b[39m data[\u001b[38;5;124m'\u001b[39m\u001b[38;5;124minvoice_date\u001b[39m\u001b[38;5;124m'\u001b[39m]\u001b[38;5;241m.\u001b[39mastype(\u001b[38;5;124m'\u001b[39m\u001b[38;5;124mdatetime64[M]\u001b[39m\u001b[38;5;124m'\u001b[39m)\n",
      "File \u001b[1;32mc:\\Users\\paulo\\AppData\\Local\\Programs\\Python\\Python311\\Lib\\site-packages\\pandas\\core\\generic.py:6643\u001b[0m, in \u001b[0;36mNDFrame.astype\u001b[1;34m(self, dtype, copy, errors)\u001b[0m\n\u001b[0;32m   6637\u001b[0m     results \u001b[38;5;241m=\u001b[39m [\n\u001b[0;32m   6638\u001b[0m         ser\u001b[38;5;241m.\u001b[39mastype(dtype, copy\u001b[38;5;241m=\u001b[39mcopy, errors\u001b[38;5;241m=\u001b[39merrors) \u001b[38;5;28;01mfor\u001b[39;00m _, ser \u001b[38;5;129;01min\u001b[39;00m \u001b[38;5;28mself\u001b[39m\u001b[38;5;241m.\u001b[39mitems()\n\u001b[0;32m   6639\u001b[0m     ]\n\u001b[0;32m   6641\u001b[0m \u001b[38;5;28;01melse\u001b[39;00m:\n\u001b[0;32m   6642\u001b[0m     \u001b[38;5;66;03m# else, only a single dtype is given\u001b[39;00m\n\u001b[1;32m-> 6643\u001b[0m     new_data \u001b[38;5;241m=\u001b[39m \u001b[38;5;28;43mself\u001b[39;49m\u001b[38;5;241;43m.\u001b[39;49m\u001b[43m_mgr\u001b[49m\u001b[38;5;241;43m.\u001b[39;49m\u001b[43mastype\u001b[49m\u001b[43m(\u001b[49m\u001b[43mdtype\u001b[49m\u001b[38;5;241;43m=\u001b[39;49m\u001b[43mdtype\u001b[49m\u001b[43m,\u001b[49m\u001b[43m \u001b[49m\u001b[43mcopy\u001b[49m\u001b[38;5;241;43m=\u001b[39;49m\u001b[43mcopy\u001b[49m\u001b[43m,\u001b[49m\u001b[43m \u001b[49m\u001b[43merrors\u001b[49m\u001b[38;5;241;43m=\u001b[39;49m\u001b[43merrors\u001b[49m\u001b[43m)\u001b[49m\n\u001b[0;32m   6644\u001b[0m     res \u001b[38;5;241m=\u001b[39m \u001b[38;5;28mself\u001b[39m\u001b[38;5;241m.\u001b[39m_constructor_from_mgr(new_data, axes\u001b[38;5;241m=\u001b[39mnew_data\u001b[38;5;241m.\u001b[39maxes)\n\u001b[0;32m   6645\u001b[0m     \u001b[38;5;28;01mreturn\u001b[39;00m res\u001b[38;5;241m.\u001b[39m__finalize__(\u001b[38;5;28mself\u001b[39m, method\u001b[38;5;241m=\u001b[39m\u001b[38;5;124m\"\u001b[39m\u001b[38;5;124mastype\u001b[39m\u001b[38;5;124m\"\u001b[39m)\n",
      "File \u001b[1;32mc:\\Users\\paulo\\AppData\\Local\\Programs\\Python\\Python311\\Lib\\site-packages\\pandas\\core\\internals\\managers.py:430\u001b[0m, in \u001b[0;36mBaseBlockManager.astype\u001b[1;34m(self, dtype, copy, errors)\u001b[0m\n\u001b[0;32m    427\u001b[0m \u001b[38;5;28;01melif\u001b[39;00m using_copy_on_write():\n\u001b[0;32m    428\u001b[0m     copy \u001b[38;5;241m=\u001b[39m \u001b[38;5;28;01mFalse\u001b[39;00m\n\u001b[1;32m--> 430\u001b[0m \u001b[38;5;28;01mreturn\u001b[39;00m \u001b[38;5;28;43mself\u001b[39;49m\u001b[38;5;241;43m.\u001b[39;49m\u001b[43mapply\u001b[49m\u001b[43m(\u001b[49m\n\u001b[0;32m    431\u001b[0m \u001b[43m    \u001b[49m\u001b[38;5;124;43m\"\u001b[39;49m\u001b[38;5;124;43mastype\u001b[39;49m\u001b[38;5;124;43m\"\u001b[39;49m\u001b[43m,\u001b[49m\n\u001b[0;32m    432\u001b[0m \u001b[43m    \u001b[49m\u001b[43mdtype\u001b[49m\u001b[38;5;241;43m=\u001b[39;49m\u001b[43mdtype\u001b[49m\u001b[43m,\u001b[49m\n\u001b[0;32m    433\u001b[0m \u001b[43m    \u001b[49m\u001b[43mcopy\u001b[49m\u001b[38;5;241;43m=\u001b[39;49m\u001b[43mcopy\u001b[49m\u001b[43m,\u001b[49m\n\u001b[0;32m    434\u001b[0m \u001b[43m    \u001b[49m\u001b[43merrors\u001b[49m\u001b[38;5;241;43m=\u001b[39;49m\u001b[43merrors\u001b[49m\u001b[43m,\u001b[49m\n\u001b[0;32m    435\u001b[0m \u001b[43m    \u001b[49m\u001b[43musing_cow\u001b[49m\u001b[38;5;241;43m=\u001b[39;49m\u001b[43musing_copy_on_write\u001b[49m\u001b[43m(\u001b[49m\u001b[43m)\u001b[49m\u001b[43m,\u001b[49m\n\u001b[0;32m    436\u001b[0m \u001b[43m\u001b[49m\u001b[43m)\u001b[49m\n",
      "File \u001b[1;32mc:\\Users\\paulo\\AppData\\Local\\Programs\\Python\\Python311\\Lib\\site-packages\\pandas\\core\\internals\\managers.py:363\u001b[0m, in \u001b[0;36mBaseBlockManager.apply\u001b[1;34m(self, f, align_keys, **kwargs)\u001b[0m\n\u001b[0;32m    361\u001b[0m         applied \u001b[38;5;241m=\u001b[39m b\u001b[38;5;241m.\u001b[39mapply(f, \u001b[38;5;241m*\u001b[39m\u001b[38;5;241m*\u001b[39mkwargs)\n\u001b[0;32m    362\u001b[0m     \u001b[38;5;28;01melse\u001b[39;00m:\n\u001b[1;32m--> 363\u001b[0m         applied \u001b[38;5;241m=\u001b[39m \u001b[38;5;28;43mgetattr\u001b[39;49m\u001b[43m(\u001b[49m\u001b[43mb\u001b[49m\u001b[43m,\u001b[49m\u001b[43m \u001b[49m\u001b[43mf\u001b[49m\u001b[43m)\u001b[49m\u001b[43m(\u001b[49m\u001b[38;5;241;43m*\u001b[39;49m\u001b[38;5;241;43m*\u001b[39;49m\u001b[43mkwargs\u001b[49m\u001b[43m)\u001b[49m\n\u001b[0;32m    364\u001b[0m     result_blocks \u001b[38;5;241m=\u001b[39m extend_blocks(applied, result_blocks)\n\u001b[0;32m    366\u001b[0m out \u001b[38;5;241m=\u001b[39m \u001b[38;5;28mtype\u001b[39m(\u001b[38;5;28mself\u001b[39m)\u001b[38;5;241m.\u001b[39mfrom_blocks(result_blocks, \u001b[38;5;28mself\u001b[39m\u001b[38;5;241m.\u001b[39maxes)\n",
      "File \u001b[1;32mc:\\Users\\paulo\\AppData\\Local\\Programs\\Python\\Python311\\Lib\\site-packages\\pandas\\core\\internals\\blocks.py:758\u001b[0m, in \u001b[0;36mBlock.astype\u001b[1;34m(self, dtype, copy, errors, using_cow, squeeze)\u001b[0m\n\u001b[0;32m    755\u001b[0m         \u001b[38;5;28;01mraise\u001b[39;00m \u001b[38;5;167;01mValueError\u001b[39;00m(\u001b[38;5;124m\"\u001b[39m\u001b[38;5;124mCan not squeeze with more than one column.\u001b[39m\u001b[38;5;124m\"\u001b[39m)\n\u001b[0;32m    756\u001b[0m     values \u001b[38;5;241m=\u001b[39m values[\u001b[38;5;241m0\u001b[39m, :]  \u001b[38;5;66;03m# type: ignore[call-overload]\u001b[39;00m\n\u001b[1;32m--> 758\u001b[0m new_values \u001b[38;5;241m=\u001b[39m \u001b[43mastype_array_safe\u001b[49m\u001b[43m(\u001b[49m\u001b[43mvalues\u001b[49m\u001b[43m,\u001b[49m\u001b[43m \u001b[49m\u001b[43mdtype\u001b[49m\u001b[43m,\u001b[49m\u001b[43m \u001b[49m\u001b[43mcopy\u001b[49m\u001b[38;5;241;43m=\u001b[39;49m\u001b[43mcopy\u001b[49m\u001b[43m,\u001b[49m\u001b[43m \u001b[49m\u001b[43merrors\u001b[49m\u001b[38;5;241;43m=\u001b[39;49m\u001b[43merrors\u001b[49m\u001b[43m)\u001b[49m\n\u001b[0;32m    760\u001b[0m new_values \u001b[38;5;241m=\u001b[39m maybe_coerce_values(new_values)\n\u001b[0;32m    762\u001b[0m refs \u001b[38;5;241m=\u001b[39m \u001b[38;5;28;01mNone\u001b[39;00m\n",
      "File \u001b[1;32mc:\\Users\\paulo\\AppData\\Local\\Programs\\Python\\Python311\\Lib\\site-packages\\pandas\\core\\dtypes\\astype.py:237\u001b[0m, in \u001b[0;36mastype_array_safe\u001b[1;34m(values, dtype, copy, errors)\u001b[0m\n\u001b[0;32m    234\u001b[0m     dtype \u001b[38;5;241m=\u001b[39m dtype\u001b[38;5;241m.\u001b[39mnumpy_dtype\n\u001b[0;32m    236\u001b[0m \u001b[38;5;28;01mtry\u001b[39;00m:\n\u001b[1;32m--> 237\u001b[0m     new_values \u001b[38;5;241m=\u001b[39m \u001b[43mastype_array\u001b[49m\u001b[43m(\u001b[49m\u001b[43mvalues\u001b[49m\u001b[43m,\u001b[49m\u001b[43m \u001b[49m\u001b[43mdtype\u001b[49m\u001b[43m,\u001b[49m\u001b[43m \u001b[49m\u001b[43mcopy\u001b[49m\u001b[38;5;241;43m=\u001b[39;49m\u001b[43mcopy\u001b[49m\u001b[43m)\u001b[49m\n\u001b[0;32m    238\u001b[0m \u001b[38;5;28;01mexcept\u001b[39;00m (\u001b[38;5;167;01mValueError\u001b[39;00m, \u001b[38;5;167;01mTypeError\u001b[39;00m):\n\u001b[0;32m    239\u001b[0m     \u001b[38;5;66;03m# e.g. _astype_nansafe can fail on object-dtype of strings\u001b[39;00m\n\u001b[0;32m    240\u001b[0m     \u001b[38;5;66;03m#  trying to convert to float\u001b[39;00m\n\u001b[0;32m    241\u001b[0m     \u001b[38;5;28;01mif\u001b[39;00m errors \u001b[38;5;241m==\u001b[39m \u001b[38;5;124m\"\u001b[39m\u001b[38;5;124mignore\u001b[39m\u001b[38;5;124m\"\u001b[39m:\n",
      "File \u001b[1;32mc:\\Users\\paulo\\AppData\\Local\\Programs\\Python\\Python311\\Lib\\site-packages\\pandas\\core\\dtypes\\astype.py:179\u001b[0m, in \u001b[0;36mastype_array\u001b[1;34m(values, dtype, copy)\u001b[0m\n\u001b[0;32m    175\u001b[0m     \u001b[38;5;28;01mreturn\u001b[39;00m values\n\u001b[0;32m    177\u001b[0m \u001b[38;5;28;01mif\u001b[39;00m \u001b[38;5;129;01mnot\u001b[39;00m \u001b[38;5;28misinstance\u001b[39m(values, np\u001b[38;5;241m.\u001b[39mndarray):\n\u001b[0;32m    178\u001b[0m     \u001b[38;5;66;03m# i.e. ExtensionArray\u001b[39;00m\n\u001b[1;32m--> 179\u001b[0m     values \u001b[38;5;241m=\u001b[39m \u001b[43mvalues\u001b[49m\u001b[38;5;241;43m.\u001b[39;49m\u001b[43mastype\u001b[49m\u001b[43m(\u001b[49m\u001b[43mdtype\u001b[49m\u001b[43m,\u001b[49m\u001b[43m \u001b[49m\u001b[43mcopy\u001b[49m\u001b[38;5;241;43m=\u001b[39;49m\u001b[43mcopy\u001b[49m\u001b[43m)\u001b[49m\n\u001b[0;32m    181\u001b[0m \u001b[38;5;28;01melse\u001b[39;00m:\n\u001b[0;32m    182\u001b[0m     values \u001b[38;5;241m=\u001b[39m _astype_nansafe(values, dtype, copy\u001b[38;5;241m=\u001b[39mcopy)\n",
      "File \u001b[1;32mc:\\Users\\paulo\\AppData\\Local\\Programs\\Python\\Python311\\Lib\\site-packages\\pandas\\core\\arrays\\datetimes.py:739\u001b[0m, in \u001b[0;36mDatetimeArray.astype\u001b[1;34m(self, dtype, copy)\u001b[0m\n\u001b[0;32m    737\u001b[0m \u001b[38;5;28;01melif\u001b[39;00m \u001b[38;5;28misinstance\u001b[39m(dtype, PeriodDtype):\n\u001b[0;32m    738\u001b[0m     \u001b[38;5;28;01mreturn\u001b[39;00m \u001b[38;5;28mself\u001b[39m\u001b[38;5;241m.\u001b[39mto_period(freq\u001b[38;5;241m=\u001b[39mdtype\u001b[38;5;241m.\u001b[39mfreq)\n\u001b[1;32m--> 739\u001b[0m \u001b[38;5;28;01mreturn\u001b[39;00m \u001b[43mdtl\u001b[49m\u001b[38;5;241;43m.\u001b[39;49m\u001b[43mDatetimeLikeArrayMixin\u001b[49m\u001b[38;5;241;43m.\u001b[39;49m\u001b[43mastype\u001b[49m\u001b[43m(\u001b[49m\u001b[38;5;28;43mself\u001b[39;49m\u001b[43m,\u001b[49m\u001b[43m \u001b[49m\u001b[43mdtype\u001b[49m\u001b[43m,\u001b[49m\u001b[43m \u001b[49m\u001b[43mcopy\u001b[49m\u001b[43m)\u001b[49m\n",
      "File \u001b[1;32mc:\\Users\\paulo\\AppData\\Local\\Programs\\Python\\Python311\\Lib\\site-packages\\pandas\\core\\arrays\\datetimelike.py:494\u001b[0m, in \u001b[0;36mDatetimeLikeArrayMixin.astype\u001b[1;34m(self, dtype, copy)\u001b[0m\n\u001b[0;32m    490\u001b[0m \u001b[38;5;28;01melif\u001b[39;00m (dtype\u001b[38;5;241m.\u001b[39mkind \u001b[38;5;129;01min\u001b[39;00m \u001b[38;5;124m\"\u001b[39m\u001b[38;5;124mmM\u001b[39m\u001b[38;5;124m\"\u001b[39m \u001b[38;5;129;01mand\u001b[39;00m \u001b[38;5;28mself\u001b[39m\u001b[38;5;241m.\u001b[39mdtype \u001b[38;5;241m!=\u001b[39m dtype) \u001b[38;5;129;01mor\u001b[39;00m dtype\u001b[38;5;241m.\u001b[39mkind \u001b[38;5;241m==\u001b[39m \u001b[38;5;124m\"\u001b[39m\u001b[38;5;124mf\u001b[39m\u001b[38;5;124m\"\u001b[39m:\n\u001b[0;32m    491\u001b[0m     \u001b[38;5;66;03m# disallow conversion between datetime/timedelta,\u001b[39;00m\n\u001b[0;32m    492\u001b[0m     \u001b[38;5;66;03m# and conversions for any datetimelike to float\u001b[39;00m\n\u001b[0;32m    493\u001b[0m     msg \u001b[38;5;241m=\u001b[39m \u001b[38;5;124mf\u001b[39m\u001b[38;5;124m\"\u001b[39m\u001b[38;5;124mCannot cast \u001b[39m\u001b[38;5;132;01m{\u001b[39;00m\u001b[38;5;28mtype\u001b[39m(\u001b[38;5;28mself\u001b[39m)\u001b[38;5;241m.\u001b[39m\u001b[38;5;18m__name__\u001b[39m\u001b[38;5;132;01m}\u001b[39;00m\u001b[38;5;124m to dtype \u001b[39m\u001b[38;5;132;01m{\u001b[39;00mdtype\u001b[38;5;132;01m}\u001b[39;00m\u001b[38;5;124m\"\u001b[39m\n\u001b[1;32m--> 494\u001b[0m     \u001b[38;5;28;01mraise\u001b[39;00m \u001b[38;5;167;01mTypeError\u001b[39;00m(msg)\n\u001b[0;32m    495\u001b[0m \u001b[38;5;28;01melse\u001b[39;00m:\n\u001b[0;32m    496\u001b[0m     \u001b[38;5;28;01mreturn\u001b[39;00m np\u001b[38;5;241m.\u001b[39masarray(\u001b[38;5;28mself\u001b[39m, dtype\u001b[38;5;241m=\u001b[39mdtype)\n",
      "\u001b[1;31mTypeError\u001b[0m: Cannot cast DatetimeArray to dtype datetime64[W]"
     ]
    }
   ],
   "source": [
    "# Agregamos columnas de fecha para facilitar el agrupamiento\n",
    "data['date'] = data['invoice_date'].dt.date\n",
    "data['week'] = data['invoice_date'].astype('datetime64[W]')\n",
    "data['month'] = data['invoice_date'].astype('datetime64[M]')"
   ]
  },
  {
   "cell_type": "code",
   "execution_count": null,
   "metadata": {},
   "outputs": [
    {
     "data": {
      "text/html": [
       "<div>\n",
       "<style scoped>\n",
       "    .dataframe tbody tr th:only-of-type {\n",
       "        vertical-align: middle;\n",
       "    }\n",
       "\n",
       "    .dataframe tbody tr th {\n",
       "        vertical-align: top;\n",
       "    }\n",
       "\n",
       "    .dataframe thead th {\n",
       "        text-align: right;\n",
       "    }\n",
       "</style>\n",
       "<table border=\"1\" class=\"dataframe\">\n",
       "  <thead>\n",
       "    <tr style=\"text-align: right;\">\n",
       "      <th></th>\n",
       "      <th>invoice_no</th>\n",
       "      <th>quantity</th>\n",
       "      <th>invoice_date</th>\n",
       "      <th>customer_id</th>\n",
       "      <th>region</th>\n",
       "      <th>amount</th>\n",
       "      <th>Month</th>\n",
       "      <th>date</th>\n",
       "      <th>week</th>\n",
       "      <th>month</th>\n",
       "    </tr>\n",
       "  </thead>\n",
       "  <tbody>\n",
       "    <tr>\n",
       "      <th>0</th>\n",
       "      <td>536365</td>\n",
       "      <td>6</td>\n",
       "      <td>2019-12-01 08:26:00</td>\n",
       "      <td>17850.0</td>\n",
       "      <td>United Kingdom</td>\n",
       "      <td>15.30</td>\n",
       "      <td>12</td>\n",
       "      <td>2019-12-01</td>\n",
       "      <td>2019-11-28</td>\n",
       "      <td>2019-12-01</td>\n",
       "    </tr>\n",
       "    <tr>\n",
       "      <th>1</th>\n",
       "      <td>536365</td>\n",
       "      <td>6</td>\n",
       "      <td>2019-12-01 08:26:00</td>\n",
       "      <td>17850.0</td>\n",
       "      <td>United Kingdom</td>\n",
       "      <td>20.34</td>\n",
       "      <td>12</td>\n",
       "      <td>2019-12-01</td>\n",
       "      <td>2019-11-28</td>\n",
       "      <td>2019-12-01</td>\n",
       "    </tr>\n",
       "    <tr>\n",
       "      <th>2</th>\n",
       "      <td>536365</td>\n",
       "      <td>8</td>\n",
       "      <td>2019-12-01 08:26:00</td>\n",
       "      <td>17850.0</td>\n",
       "      <td>United Kingdom</td>\n",
       "      <td>22.00</td>\n",
       "      <td>12</td>\n",
       "      <td>2019-12-01</td>\n",
       "      <td>2019-11-28</td>\n",
       "      <td>2019-12-01</td>\n",
       "    </tr>\n",
       "    <tr>\n",
       "      <th>3</th>\n",
       "      <td>536365</td>\n",
       "      <td>6</td>\n",
       "      <td>2019-12-01 08:26:00</td>\n",
       "      <td>17850.0</td>\n",
       "      <td>United Kingdom</td>\n",
       "      <td>20.34</td>\n",
       "      <td>12</td>\n",
       "      <td>2019-12-01</td>\n",
       "      <td>2019-11-28</td>\n",
       "      <td>2019-12-01</td>\n",
       "    </tr>\n",
       "    <tr>\n",
       "      <th>4</th>\n",
       "      <td>536365</td>\n",
       "      <td>6</td>\n",
       "      <td>2019-12-01 08:26:00</td>\n",
       "      <td>17850.0</td>\n",
       "      <td>United Kingdom</td>\n",
       "      <td>20.34</td>\n",
       "      <td>12</td>\n",
       "      <td>2019-12-01</td>\n",
       "      <td>2019-11-28</td>\n",
       "      <td>2019-12-01</td>\n",
       "    </tr>\n",
       "    <tr>\n",
       "      <th>...</th>\n",
       "      <td>...</td>\n",
       "      <td>...</td>\n",
       "      <td>...</td>\n",
       "      <td>...</td>\n",
       "      <td>...</td>\n",
       "      <td>...</td>\n",
       "      <td>...</td>\n",
       "      <td>...</td>\n",
       "      <td>...</td>\n",
       "      <td>...</td>\n",
       "    </tr>\n",
       "    <tr>\n",
       "      <th>541896</th>\n",
       "      <td>581587</td>\n",
       "      <td>12</td>\n",
       "      <td>2020-12-09 12:50:00</td>\n",
       "      <td>12680.0</td>\n",
       "      <td>France</td>\n",
       "      <td>19.80</td>\n",
       "      <td>12</td>\n",
       "      <td>2020-12-09</td>\n",
       "      <td>2020-12-03</td>\n",
       "      <td>2020-12-01</td>\n",
       "    </tr>\n",
       "    <tr>\n",
       "      <th>541895</th>\n",
       "      <td>581587</td>\n",
       "      <td>12</td>\n",
       "      <td>2020-12-09 12:50:00</td>\n",
       "      <td>12680.0</td>\n",
       "      <td>France</td>\n",
       "      <td>19.80</td>\n",
       "      <td>12</td>\n",
       "      <td>2020-12-09</td>\n",
       "      <td>2020-12-03</td>\n",
       "      <td>2020-12-01</td>\n",
       "    </tr>\n",
       "    <tr>\n",
       "      <th>541907</th>\n",
       "      <td>581587</td>\n",
       "      <td>4</td>\n",
       "      <td>2020-12-09 12:50:00</td>\n",
       "      <td>12680.0</td>\n",
       "      <td>France</td>\n",
       "      <td>16.60</td>\n",
       "      <td>12</td>\n",
       "      <td>2020-12-09</td>\n",
       "      <td>2020-12-03</td>\n",
       "      <td>2020-12-01</td>\n",
       "    </tr>\n",
       "    <tr>\n",
       "      <th>541900</th>\n",
       "      <td>581587</td>\n",
       "      <td>4</td>\n",
       "      <td>2020-12-09 12:50:00</td>\n",
       "      <td>12680.0</td>\n",
       "      <td>France</td>\n",
       "      <td>15.00</td>\n",
       "      <td>12</td>\n",
       "      <td>2020-12-09</td>\n",
       "      <td>2020-12-03</td>\n",
       "      <td>2020-12-01</td>\n",
       "    </tr>\n",
       "    <tr>\n",
       "      <th>541908</th>\n",
       "      <td>581587</td>\n",
       "      <td>3</td>\n",
       "      <td>2020-12-09 12:50:00</td>\n",
       "      <td>12680.0</td>\n",
       "      <td>France</td>\n",
       "      <td>14.85</td>\n",
       "      <td>12</td>\n",
       "      <td>2020-12-09</td>\n",
       "      <td>2020-12-03</td>\n",
       "      <td>2020-12-01</td>\n",
       "    </tr>\n",
       "  </tbody>\n",
       "</table>\n",
       "<p>392732 rows × 10 columns</p>\n",
       "</div>"
      ],
      "text/plain": [
       "       invoice_no  quantity        invoice_date customer_id          region  \\\n",
       "0          536365         6 2019-12-01 08:26:00     17850.0  United Kingdom   \n",
       "1          536365         6 2019-12-01 08:26:00     17850.0  United Kingdom   \n",
       "2          536365         8 2019-12-01 08:26:00     17850.0  United Kingdom   \n",
       "3          536365         6 2019-12-01 08:26:00     17850.0  United Kingdom   \n",
       "4          536365         6 2019-12-01 08:26:00     17850.0  United Kingdom   \n",
       "...           ...       ...                 ...         ...             ...   \n",
       "541896     581587        12 2020-12-09 12:50:00     12680.0          France   \n",
       "541895     581587        12 2020-12-09 12:50:00     12680.0          France   \n",
       "541907     581587         4 2020-12-09 12:50:00     12680.0          France   \n",
       "541900     581587         4 2020-12-09 12:50:00     12680.0          France   \n",
       "541908     581587         3 2020-12-09 12:50:00     12680.0          France   \n",
       "\n",
       "        amount  Month        date       week      month  \n",
       "0        15.30     12  2019-12-01 2019-11-28 2019-12-01  \n",
       "1        20.34     12  2019-12-01 2019-11-28 2019-12-01  \n",
       "2        22.00     12  2019-12-01 2019-11-28 2019-12-01  \n",
       "3        20.34     12  2019-12-01 2019-11-28 2019-12-01  \n",
       "4        20.34     12  2019-12-01 2019-11-28 2019-12-01  \n",
       "...        ...    ...         ...        ...        ...  \n",
       "541896   19.80     12  2020-12-09 2020-12-03 2020-12-01  \n",
       "541895   19.80     12  2020-12-09 2020-12-03 2020-12-01  \n",
       "541907   16.60     12  2020-12-09 2020-12-03 2020-12-01  \n",
       "541900   15.00     12  2020-12-09 2020-12-03 2020-12-01  \n",
       "541908   14.85     12  2020-12-09 2020-12-03 2020-12-01  \n",
       "\n",
       "[392732 rows x 10 columns]"
      ]
     },
     "execution_count": 30,
     "metadata": {},
     "output_type": "execute_result"
    }
   ],
   "source": [
    "data"
   ]
  },
  {
   "cell_type": "code",
   "execution_count": null,
   "metadata": {},
   "outputs": [
    {
     "name": "stdout",
     "output_type": "stream",
     "text": [
      "<class 'pandas.core.frame.DataFrame'>\n",
      "Int64Index: 392732 entries, 0 to 541908\n",
      "Data columns (total 10 columns):\n",
      " #   Column        Non-Null Count   Dtype         \n",
      "---  ------        --------------   -----         \n",
      " 0   invoice_no    392732 non-null  object        \n",
      " 1   quantity      392732 non-null  int64         \n",
      " 2   invoice_date  392732 non-null  datetime64[ns]\n",
      " 3   customer_id   392732 non-null  object        \n",
      " 4   region        392732 non-null  object        \n",
      " 5   amount        392732 non-null  float64       \n",
      " 6   Month         392732 non-null  int64         \n",
      " 7   date          392732 non-null  object        \n",
      " 8   week          392732 non-null  datetime64[ns]\n",
      " 9   month         392732 non-null  datetime64[ns]\n",
      "dtypes: datetime64[ns](3), float64(1), int64(2), object(4)\n",
      "memory usage: 33.0+ MB\n"
     ]
    }
   ],
   "source": [
    "data.info()"
   ]
  },
  {
   "cell_type": "code",
   "execution_count": null,
   "metadata": {},
   "outputs": [],
   "source": [
    "users_per_week = data.groupby('week')['customer_id'].nunique()"
   ]
  },
  {
   "cell_type": "code",
   "execution_count": null,
   "metadata": {},
   "outputs": [
    {
     "data": {
      "image/png": "[encoded data removed]",
      "text/plain": [
       "<Figure size 1000x600 with 1 Axes>"
      ]
     },
     "metadata": {},
     "output_type": "display_data"
    }
   ],
   "source": [
    "#Trazamos el gráfico\n",
    "\n",
    "# Gráfico de línea de usuarios únicos por semana\n",
    "plt.figure(figsize=(10, 6))\n",
    "plt.plot(users_per_week, linestyle='-', color='b')\n",
    "plt.title('Cantidad de Usuarios a lo largo del tiempo, por semana')\n",
    "plt.xlabel('Fecha')\n",
    "plt.ylabel('Cantidad de Usuarios')\n",
    "plt.grid(True)\n",
    "plt.xticks(rotation=45)\n",
    "plt.tight_layout()\n",
    "\n",
    "# Mostrar el gráfico\n",
    "plt.show()"
   ]
  },
  {
   "cell_type": "markdown",
   "metadata": {},
   "source": [
    "El comportamiento es muy fluctuante, con tendencia a incrementar para finales de año, como bien sabemos, es la temporada en el que la gente modifica su comportamiento de compras."
   ]
  },
  {
   "cell_type": "markdown",
   "metadata": {},
   "source": [
    "### Analisis de comportamiento de facturas a lo largo del tiempo"
   ]
  },
  {
   "cell_type": "code",
   "execution_count": null,
   "metadata": {},
   "outputs": [],
   "source": [
    "# Supongamos que 'data' es tu dataframe original\n",
    "data['date'] = pd.to_datetime(data['date'])\n",
    "\n",
    "# Contar el número de pedidos por día\n",
    "invoices_per_day = data.groupby('date')['invoice_no'].nunique()\n",
    "\n",
    "# Contar el número de pedidos por semana\n",
    "invoices_per_week = data.groupby('week')['invoice_no'].nunique()\n",
    "\n",
    "\n",
    "# Contar el número de pedidos por mes\n",
    "invoices_per_month = data.groupby('month')['invoice_no'].nunique()"
   ]
  },
  {
   "cell_type": "code",
   "execution_count": null,
   "metadata": {},
   "outputs": [
    {
     "data": {
      "text/plain": [
       "date\n",
       "2019-12-01    121\n",
       "2019-12-02    137\n",
       "2019-12-03     57\n",
       "2019-12-05     87\n",
       "2019-12-06     94\n",
       "             ... \n",
       "2020-12-05    116\n",
       "2020-12-06    110\n",
       "2020-12-07    104\n",
       "2020-12-08    113\n",
       "2020-12-09     41\n",
       "Name: invoice_no, Length: 305, dtype: int64"
      ]
     },
     "execution_count": 35,
     "metadata": {},
     "output_type": "execute_result"
    }
   ],
   "source": [
    "invoices_per_day"
   ]
  },
  {
   "cell_type": "code",
   "execution_count": null,
   "metadata": {},
   "outputs": [
    {
     "name": "stdout",
     "output_type": "stream",
     "text": [
      "Promedio de pedidos por día:\n",
      " 60.773770491803276\n",
      "\n",
      "Promedio de pedidos por semana:\n",
      " 349.7358490566038\n",
      "\n",
      "Promedio de pedidos por mes:\n",
      " 1425.8461538461538\n"
     ]
    }
   ],
   "source": [
    "print(\"Promedio de pedidos por día:\\n\", invoices_per_day.mean())\n",
    "print(\"\\nPromedio de pedidos por semana:\\n\", invoices_per_week.mean())\n",
    "print(\"\\nPromedio de pedidos por mes:\\n\", invoices_per_month.mean())\n"
   ]
  },
  {
   "cell_type": "code",
   "execution_count": null,
   "metadata": {},
   "outputs": [
    {
     "data": {
      "image/png": "[encoded data removed]",
      "text/plain": [
       "<Figure size 1000x600 with 1 Axes>"
      ]
     },
     "metadata": {},
     "output_type": "display_data"
    }
   ],
   "source": [
    "#Trazamos el gráfico\n",
    "\n",
    "# Gráfico de línea de facturas únicas por día (compras)\n",
    "plt.figure(figsize=(10, 6))\n",
    "plt.plot(invoices_per_day, linestyle='-', color='b')\n",
    "plt.title('Cantidad de facturas a lo largo del tiempo, por día')\n",
    "plt.xlabel('Fecha')\n",
    "plt.ylabel('Cantidad de Facturas')\n",
    "plt.grid(True)\n",
    "plt.xticks(rotation=45)\n",
    "plt.tight_layout()\n",
    "\n",
    "# Mostrar el gráfico\n",
    "plt.show()"
   ]
  },
  {
   "cell_type": "markdown",
   "metadata": {},
   "source": [
    "Nuevamente observamos el comportamiento alcista a finales e inicios de año. "
   ]
  },
  {
   "cell_type": "code",
   "execution_count": null,
   "metadata": {},
   "outputs": [
    {
     "name": "stdout",
     "output_type": "stream",
     "text": [
      "Porcentaje de usuarios que no vuelven a comprar: 1.66%\n",
      "Factor de stickiness: 98.34%\n"
     ]
    }
   ],
   "source": [
    "# Contar el número de compras por usuario\n",
    "purchase_counts = data.groupby('customer_id').size().reset_index(name='purchase_count')\n",
    "\n",
    "# Calcular el número de usuarios con una única compra y con más de una compra\n",
    "one_time_buyers = purchase_counts[purchase_counts['purchase_count'] == 1].shape[0]\n",
    "repeat_buyers = purchase_counts[purchase_counts['purchase_count'] > 1].shape[0]\n",
    "total_buyers = one_time_buyers + repeat_buyers\n",
    "\n",
    "# Calcular el porcentaje de usuarios que no vuelven a comprar\n",
    "percentage_one_time_buyers = (one_time_buyers / total_buyers) * 100\n",
    "\n",
    "# Calcular el factor de stickiness\n",
    "stickiness_factor = (repeat_buyers / total_buyers) * 100\n",
    "\n",
    "# Resultados\n",
    "print(f\"Porcentaje de usuarios que no vuelven a comprar: {percentage_one_time_buyers:.2f}%\")\n",
    "print(f\"Factor de stickiness: {stickiness_factor:.2f}%\")"
   ]
  },
  {
   "cell_type": "markdown",
   "metadata": {},
   "source": [
    "No es necesario que hagamos un estudio de tasa de retención, ya que como observamos, tenemos un muy buen factor stickines.\n",
    "Y como sabemos, el 90% de los clientes han hecho al menos 9 compras."
   ]
  },
  {
   "cell_type": "markdown",
   "metadata": {},
   "source": [
    "#### ¿Cuál es el tamaño promedio de compra?"
   ]
  },
  {
   "cell_type": "code",
   "execution_count": null,
   "metadata": {},
   "outputs": [
    {
     "name": "stdout",
     "output_type": "stream",
     "text": [
      "Tamaño promedio de compra: 479.4566731765214\n"
     ]
    }
   ],
   "source": [
    "# Agrupar por invoice_no y sumar el amount para cada invoice\n",
    "grouped_invoices = data.groupby('invoice_no').agg({'amount': 'sum'})\n",
    "\n",
    "# Calcular el tamaño promedio de compra\n",
    "average_purchase_size = grouped_invoices['amount'].mean()\n",
    "\n",
    "print(f'Tamaño promedio de compra: {average_purchase_size}')"
   ]
  },
  {
   "cell_type": "markdown",
   "metadata": {},
   "source": [
    "### Ahora, calcularemos el LTV."
   ]
  },
  {
   "cell_type": "code",
   "execution_count": null,
   "metadata": {},
   "outputs": [
    {
     "name": "stdout",
     "output_type": "stream",
     "text": [
      "<class 'pandas.core.frame.DataFrame'>\n",
      "Int64Index: 392732 entries, 0 to 541908\n",
      "Data columns (total 10 columns):\n",
      " #   Column        Non-Null Count   Dtype         \n",
      "---  ------        --------------   -----         \n",
      " 0   invoice_no    392732 non-null  object        \n",
      " 1   quantity      392732 non-null  int64         \n",
      " 2   invoice_date  392732 non-null  datetime64[ns]\n",
      " 3   customer_id   392732 non-null  object        \n",
      " 4   region        392732 non-null  object        \n",
      " 5   amount        392732 non-null  float64       \n",
      " 6   Month         392732 non-null  int64         \n",
      " 7   date          392732 non-null  datetime64[ns]\n",
      " 8   week          392732 non-null  datetime64[ns]\n",
      " 9   month         392732 non-null  datetime64[ns]\n",
      "dtypes: datetime64[ns](4), float64(1), int64(2), object(3)\n",
      "memory usage: 33.0+ MB\n"
     ]
    }
   ],
   "source": [
    "data.info()"
   ]
  },
  {
   "cell_type": "code",
   "execution_count": null,
   "metadata": {},
   "outputs": [
    {
     "name": "stdout",
     "output_type": "stream",
     "text": [
      "  customer_id first_order first_order_month\n",
      "0     12346.0  2020-01-18        2020-01-01\n",
      "1     12347.0  2019-12-07        2019-12-01\n",
      "2     12348.0  2019-12-16        2019-12-01\n",
      "3     12349.0  2020-11-21        2020-11-01\n",
      "4     12350.0  2020-02-02        2020-02-01\n"
     ]
    }
   ],
   "source": [
    "#Ahora recuperaremos el mes de la primera compra de cada cliente\n",
    "\n",
    "# Identificar la primera compra de cada usuario\n",
    "first_orders = data.groupby('customer_id')['date'].min().reset_index()\n",
    "first_orders.columns = ['customer_id', 'first_order']\n",
    "\n",
    "# Extraer el mes y el año de la primera compra\n",
    "first_orders['first_order_month'] = first_orders['first_order'].astype('datetime64[M]')\n",
    "\n",
    "\n",
    "# Mostrar los primeros registros del DataFrame resultante\n",
    "print(first_orders.head())"
   ]
  },
  {
   "cell_type": "code",
   "execution_count": null,
   "metadata": {},
   "outputs": [
    {
     "data": {
      "text/html": [
       "<div>\n",
       "<style scoped>\n",
       "    .dataframe tbody tr th:only-of-type {\n",
       "        vertical-align: middle;\n",
       "    }\n",
       "\n",
       "    .dataframe tbody tr th {\n",
       "        vertical-align: top;\n",
       "    }\n",
       "\n",
       "    .dataframe thead th {\n",
       "        text-align: right;\n",
       "    }\n",
       "</style>\n",
       "<table border=\"1\" class=\"dataframe\">\n",
       "  <thead>\n",
       "    <tr style=\"text-align: right;\">\n",
       "      <th></th>\n",
       "      <th>first_order_month</th>\n",
       "      <th>n_buyers</th>\n",
       "    </tr>\n",
       "  </thead>\n",
       "  <tbody>\n",
       "    <tr>\n",
       "      <th>0</th>\n",
       "      <td>2019-12-01</td>\n",
       "      <td>885</td>\n",
       "    </tr>\n",
       "    <tr>\n",
       "      <th>1</th>\n",
       "      <td>2020-01-01</td>\n",
       "      <td>417</td>\n",
       "    </tr>\n",
       "    <tr>\n",
       "      <th>2</th>\n",
       "      <td>2020-02-01</td>\n",
       "      <td>380</td>\n",
       "    </tr>\n",
       "    <tr>\n",
       "      <th>3</th>\n",
       "      <td>2020-03-01</td>\n",
       "      <td>452</td>\n",
       "    </tr>\n",
       "    <tr>\n",
       "      <th>4</th>\n",
       "      <td>2020-04-01</td>\n",
       "      <td>300</td>\n",
       "    </tr>\n",
       "  </tbody>\n",
       "</table>\n",
       "</div>"
      ],
      "text/plain": [
       "  first_order_month  n_buyers\n",
       "0        2019-12-01       885\n",
       "1        2020-01-01       417\n",
       "2        2020-02-01       380\n",
       "3        2020-03-01       452\n",
       "4        2020-04-01       300"
      ]
     },
     "execution_count": 42,
     "metadata": {},
     "output_type": "execute_result"
    }
   ],
   "source": [
    "#Calcularemos el número de nuevos clientes (n_buyers) para cada mes:\n",
    "\n",
    "cohort_sizes = first_orders.groupby('first_order_month').agg({'customer_id': 'nunique'}).reset_index()\n",
    "cohort_sizes.columns = ['first_order_month', 'n_buyers']\n",
    "cohort_sizes.head()"
   ]
  },
  {
   "cell_type": "code",
   "execution_count": null,
   "metadata": {},
   "outputs": [
    {
     "data": {
      "text/html": [
       "<div>\n",
       "<style scoped>\n",
       "    .dataframe tbody tr th:only-of-type {\n",
       "        vertical-align: middle;\n",
       "    }\n",
       "\n",
       "    .dataframe tbody tr th {\n",
       "        vertical-align: top;\n",
       "    }\n",
       "\n",
       "    .dataframe thead th {\n",
       "        text-align: right;\n",
       "    }\n",
       "</style>\n",
       "<table border=\"1\" class=\"dataframe\">\n",
       "  <thead>\n",
       "    <tr style=\"text-align: right;\">\n",
       "      <th></th>\n",
       "      <th>invoice_no</th>\n",
       "      <th>quantity</th>\n",
       "      <th>invoice_date</th>\n",
       "      <th>customer_id</th>\n",
       "      <th>region</th>\n",
       "      <th>amount</th>\n",
       "      <th>Month</th>\n",
       "      <th>date</th>\n",
       "      <th>week</th>\n",
       "      <th>month</th>\n",
       "      <th>first_order</th>\n",
       "      <th>first_order_month</th>\n",
       "    </tr>\n",
       "  </thead>\n",
       "  <tbody>\n",
       "    <tr>\n",
       "      <th>101954</th>\n",
       "      <td>557213</td>\n",
       "      <td>4</td>\n",
       "      <td>2020-06-17 12:16:00</td>\n",
       "      <td>15021.0</td>\n",
       "      <td>United Kingdom</td>\n",
       "      <td>5.00</td>\n",
       "      <td>6</td>\n",
       "      <td>2020-06-17</td>\n",
       "      <td>2020-06-11</td>\n",
       "      <td>2020-06-01</td>\n",
       "      <td>2019-12-08</td>\n",
       "      <td>2019-12-01</td>\n",
       "    </tr>\n",
       "    <tr>\n",
       "      <th>308648</th>\n",
       "      <td>560233</td>\n",
       "      <td>2</td>\n",
       "      <td>2020-07-17 11:10:00</td>\n",
       "      <td>16813.0</td>\n",
       "      <td>United Kingdom</td>\n",
       "      <td>5.90</td>\n",
       "      <td>7</td>\n",
       "      <td>2020-07-17</td>\n",
       "      <td>2020-07-16</td>\n",
       "      <td>2020-07-01</td>\n",
       "      <td>2020-05-19</td>\n",
       "      <td>2020-05-01</td>\n",
       "    </tr>\n",
       "    <tr>\n",
       "      <th>103511</th>\n",
       "      <td>537773</td>\n",
       "      <td>1</td>\n",
       "      <td>2019-12-08 12:36:00</td>\n",
       "      <td>16016.0</td>\n",
       "      <td>United Kingdom</td>\n",
       "      <td>3.75</td>\n",
       "      <td>12</td>\n",
       "      <td>2019-12-08</td>\n",
       "      <td>2019-12-05</td>\n",
       "      <td>2019-12-01</td>\n",
       "      <td>2019-12-08</td>\n",
       "      <td>2019-12-01</td>\n",
       "    </tr>\n",
       "    <tr>\n",
       "      <th>342394</th>\n",
       "      <td>581494</td>\n",
       "      <td>6</td>\n",
       "      <td>2020-12-09 10:13:00</td>\n",
       "      <td>12518.0</td>\n",
       "      <td>Germany</td>\n",
       "      <td>17.70</td>\n",
       "      <td>12</td>\n",
       "      <td>2020-12-09</td>\n",
       "      <td>2020-12-03</td>\n",
       "      <td>2020-12-01</td>\n",
       "      <td>2020-08-21</td>\n",
       "      <td>2020-08-01</td>\n",
       "    </tr>\n",
       "    <tr>\n",
       "      <th>200753</th>\n",
       "      <td>541855</td>\n",
       "      <td>2</td>\n",
       "      <td>2020-01-23 14:59:00</td>\n",
       "      <td>13742.0</td>\n",
       "      <td>United Kingdom</td>\n",
       "      <td>2.50</td>\n",
       "      <td>1</td>\n",
       "      <td>2020-01-23</td>\n",
       "      <td>2020-01-23</td>\n",
       "      <td>2020-01-01</td>\n",
       "      <td>2020-01-23</td>\n",
       "      <td>2020-01-01</td>\n",
       "    </tr>\n",
       "    <tr>\n",
       "      <th>283093</th>\n",
       "      <td>549185</td>\n",
       "      <td>12</td>\n",
       "      <td>2020-04-07 09:35:00</td>\n",
       "      <td>18272.0</td>\n",
       "      <td>United Kingdom</td>\n",
       "      <td>24.96</td>\n",
       "      <td>4</td>\n",
       "      <td>2020-04-07</td>\n",
       "      <td>2020-04-02</td>\n",
       "      <td>2020-04-01</td>\n",
       "      <td>2020-04-07</td>\n",
       "      <td>2020-04-01</td>\n",
       "    </tr>\n",
       "    <tr>\n",
       "      <th>79501</th>\n",
       "      <td>558259</td>\n",
       "      <td>6</td>\n",
       "      <td>2020-06-28 08:19:00</td>\n",
       "      <td>15304.0</td>\n",
       "      <td>United Kingdom</td>\n",
       "      <td>17.70</td>\n",
       "      <td>6</td>\n",
       "      <td>2020-06-28</td>\n",
       "      <td>2020-06-25</td>\n",
       "      <td>2020-06-01</td>\n",
       "      <td>2019-12-06</td>\n",
       "      <td>2019-12-01</td>\n",
       "    </tr>\n",
       "    <tr>\n",
       "      <th>184032</th>\n",
       "      <td>577860</td>\n",
       "      <td>12</td>\n",
       "      <td>2020-11-22 11:25:00</td>\n",
       "      <td>16655.0</td>\n",
       "      <td>United Kingdom</td>\n",
       "      <td>10.20</td>\n",
       "      <td>11</td>\n",
       "      <td>2020-11-22</td>\n",
       "      <td>2020-11-19</td>\n",
       "      <td>2020-11-01</td>\n",
       "      <td>2020-01-12</td>\n",
       "      <td>2020-01-01</td>\n",
       "    </tr>\n",
       "    <tr>\n",
       "      <th>35968</th>\n",
       "      <td>548796</td>\n",
       "      <td>5</td>\n",
       "      <td>2020-04-04 12:42:00</td>\n",
       "      <td>15752.0</td>\n",
       "      <td>United Kingdom</td>\n",
       "      <td>10.40</td>\n",
       "      <td>4</td>\n",
       "      <td>2020-04-04</td>\n",
       "      <td>2020-04-02</td>\n",
       "      <td>2020-04-01</td>\n",
       "      <td>2019-12-02</td>\n",
       "      <td>2019-12-01</td>\n",
       "    </tr>\n",
       "    <tr>\n",
       "      <th>377362</th>\n",
       "      <td>572913</td>\n",
       "      <td>6</td>\n",
       "      <td>2020-10-26 16:21:00</td>\n",
       "      <td>15993.0</td>\n",
       "      <td>United Kingdom</td>\n",
       "      <td>9.90</td>\n",
       "      <td>10</td>\n",
       "      <td>2020-10-26</td>\n",
       "      <td>2020-10-22</td>\n",
       "      <td>2020-10-01</td>\n",
       "      <td>2020-10-26</td>\n",
       "      <td>2020-10-01</td>\n",
       "    </tr>\n",
       "    <tr>\n",
       "      <th>332278</th>\n",
       "      <td>568662</td>\n",
       "      <td>1</td>\n",
       "      <td>2020-09-28 12:36:00</td>\n",
       "      <td>16764.0</td>\n",
       "      <td>United Kingdom</td>\n",
       "      <td>0.55</td>\n",
       "      <td>9</td>\n",
       "      <td>2020-09-28</td>\n",
       "      <td>2020-09-24</td>\n",
       "      <td>2020-09-01</td>\n",
       "      <td>2020-07-19</td>\n",
       "      <td>2020-07-01</td>\n",
       "    </tr>\n",
       "    <tr>\n",
       "      <th>247334</th>\n",
       "      <td>545447</td>\n",
       "      <td>4</td>\n",
       "      <td>2020-03-02 16:34:00</td>\n",
       "      <td>17426.0</td>\n",
       "      <td>United Kingdom</td>\n",
       "      <td>15.00</td>\n",
       "      <td>3</td>\n",
       "      <td>2020-03-02</td>\n",
       "      <td>2020-02-27</td>\n",
       "      <td>2020-03-01</td>\n",
       "      <td>2020-03-02</td>\n",
       "      <td>2020-03-01</td>\n",
       "    </tr>\n",
       "    <tr>\n",
       "      <th>27620</th>\n",
       "      <td>571846</td>\n",
       "      <td>1</td>\n",
       "      <td>2020-10-19 12:35:00</td>\n",
       "      <td>17841.0</td>\n",
       "      <td>United Kingdom</td>\n",
       "      <td>0.85</td>\n",
       "      <td>10</td>\n",
       "      <td>2020-10-19</td>\n",
       "      <td>2020-10-15</td>\n",
       "      <td>2020-10-01</td>\n",
       "      <td>2019-12-01</td>\n",
       "      <td>2019-12-01</td>\n",
       "    </tr>\n",
       "    <tr>\n",
       "      <th>165504</th>\n",
       "      <td>550835</td>\n",
       "      <td>4</td>\n",
       "      <td>2020-04-21 10:52:00</td>\n",
       "      <td>15034.0</td>\n",
       "      <td>United Kingdom</td>\n",
       "      <td>5.00</td>\n",
       "      <td>4</td>\n",
       "      <td>2020-04-21</td>\n",
       "      <td>2020-04-16</td>\n",
       "      <td>2020-04-01</td>\n",
       "      <td>2019-12-21</td>\n",
       "      <td>2019-12-01</td>\n",
       "    </tr>\n",
       "    <tr>\n",
       "      <th>291961</th>\n",
       "      <td>580024</td>\n",
       "      <td>10</td>\n",
       "      <td>2020-12-01 11:51:00</td>\n",
       "      <td>15172.0</td>\n",
       "      <td>United Kingdom</td>\n",
       "      <td>12.50</td>\n",
       "      <td>12</td>\n",
       "      <td>2020-12-01</td>\n",
       "      <td>2020-11-26</td>\n",
       "      <td>2020-12-01</td>\n",
       "      <td>2020-04-17</td>\n",
       "      <td>2020-04-01</td>\n",
       "    </tr>\n",
       "    <tr>\n",
       "      <th>268252</th>\n",
       "      <td>547195</td>\n",
       "      <td>3</td>\n",
       "      <td>2020-03-21 12:42:00</td>\n",
       "      <td>17204.0</td>\n",
       "      <td>United Kingdom</td>\n",
       "      <td>16.35</td>\n",
       "      <td>3</td>\n",
       "      <td>2020-03-21</td>\n",
       "      <td>2020-03-19</td>\n",
       "      <td>2020-03-01</td>\n",
       "      <td>2020-03-21</td>\n",
       "      <td>2020-03-01</td>\n",
       "    </tr>\n",
       "    <tr>\n",
       "      <th>366963</th>\n",
       "      <td>579135</td>\n",
       "      <td>12</td>\n",
       "      <td>2020-11-28 12:44:00</td>\n",
       "      <td>18096.0</td>\n",
       "      <td>United Kingdom</td>\n",
       "      <td>15.00</td>\n",
       "      <td>11</td>\n",
       "      <td>2020-11-28</td>\n",
       "      <td>2020-11-26</td>\n",
       "      <td>2020-11-01</td>\n",
       "      <td>2020-10-07</td>\n",
       "      <td>2020-10-01</td>\n",
       "    </tr>\n",
       "    <tr>\n",
       "      <th>56856</th>\n",
       "      <td>551650</td>\n",
       "      <td>12</td>\n",
       "      <td>2020-05-03 12:02:00</td>\n",
       "      <td>13089.0</td>\n",
       "      <td>United Kingdom</td>\n",
       "      <td>15.00</td>\n",
       "      <td>5</td>\n",
       "      <td>2020-05-03</td>\n",
       "      <td>2020-04-30</td>\n",
       "      <td>2020-05-01</td>\n",
       "      <td>2019-12-05</td>\n",
       "      <td>2019-12-01</td>\n",
       "    </tr>\n",
       "    <tr>\n",
       "      <th>183022</th>\n",
       "      <td>568953</td>\n",
       "      <td>16</td>\n",
       "      <td>2020-09-29 15:31:00</td>\n",
       "      <td>12728.0</td>\n",
       "      <td>France</td>\n",
       "      <td>27.04</td>\n",
       "      <td>9</td>\n",
       "      <td>2020-09-29</td>\n",
       "      <td>2020-09-24</td>\n",
       "      <td>2020-09-01</td>\n",
       "      <td>2020-01-11</td>\n",
       "      <td>2020-01-01</td>\n",
       "    </tr>\n",
       "    <tr>\n",
       "      <th>216940</th>\n",
       "      <td>570252</td>\n",
       "      <td>8</td>\n",
       "      <td>2020-10-10 09:14:00</td>\n",
       "      <td>14665.0</td>\n",
       "      <td>United Kingdom</td>\n",
       "      <td>15.60</td>\n",
       "      <td>10</td>\n",
       "      <td>2020-10-10</td>\n",
       "      <td>2020-10-08</td>\n",
       "      <td>2020-10-01</td>\n",
       "      <td>2020-02-02</td>\n",
       "      <td>2020-02-01</td>\n",
       "    </tr>\n",
       "  </tbody>\n",
       "</table>\n",
       "</div>"
      ],
      "text/plain": [
       "       invoice_no  quantity        invoice_date customer_id          region  \\\n",
       "101954     557213         4 2020-06-17 12:16:00     15021.0  United Kingdom   \n",
       "308648     560233         2 2020-07-17 11:10:00     16813.0  United Kingdom   \n",
       "103511     537773         1 2019-12-08 12:36:00     16016.0  United Kingdom   \n",
       "342394     581494         6 2020-12-09 10:13:00     12518.0         Germany   \n",
       "200753     541855         2 2020-01-23 14:59:00     13742.0  United Kingdom   \n",
       "283093     549185        12 2020-04-07 09:35:00     18272.0  United Kingdom   \n",
       "79501      558259         6 2020-06-28 08:19:00     15304.0  United Kingdom   \n",
       "184032     577860        12 2020-11-22 11:25:00     16655.0  United Kingdom   \n",
       "35968      548796         5 2020-04-04 12:42:00     15752.0  United Kingdom   \n",
       "377362     572913         6 2020-10-26 16:21:00     15993.0  United Kingdom   \n",
       "332278     568662         1 2020-09-28 12:36:00     16764.0  United Kingdom   \n",
       "247334     545447         4 2020-03-02 16:34:00     17426.0  United Kingdom   \n",
       "27620      571846         1 2020-10-19 12:35:00     17841.0  United Kingdom   \n",
       "165504     550835         4 2020-04-21 10:52:00     15034.0  United Kingdom   \n",
       "291961     580024        10 2020-12-01 11:51:00     15172.0  United Kingdom   \n",
       "268252     547195         3 2020-03-21 12:42:00     17204.0  United Kingdom   \n",
       "366963     579135        12 2020-11-28 12:44:00     18096.0  United Kingdom   \n",
       "56856      551650        12 2020-05-03 12:02:00     13089.0  United Kingdom   \n",
       "183022     568953        16 2020-09-29 15:31:00     12728.0          France   \n",
       "216940     570252         8 2020-10-10 09:14:00     14665.0  United Kingdom   \n",
       "\n",
       "        amount  Month       date       week      month first_order  \\\n",
       "101954    5.00      6 2020-06-17 2020-06-11 2020-06-01  2019-12-08   \n",
       "308648    5.90      7 2020-07-17 2020-07-16 2020-07-01  2020-05-19   \n",
       "103511    3.75     12 2019-12-08 2019-12-05 2019-12-01  2019-12-08   \n",
       "342394   17.70     12 2020-12-09 2020-12-03 2020-12-01  2020-08-21   \n",
       "200753    2.50      1 2020-01-23 2020-01-23 2020-01-01  2020-01-23   \n",
       "283093   24.96      4 2020-04-07 2020-04-02 2020-04-01  2020-04-07   \n",
       "79501    17.70      6 2020-06-28 2020-06-25 2020-06-01  2019-12-06   \n",
       "184032   10.20     11 2020-11-22 2020-11-19 2020-11-01  2020-01-12   \n",
       "35968    10.40      4 2020-04-04 2020-04-02 2020-04-01  2019-12-02   \n",
       "377362    9.90     10 2020-10-26 2020-10-22 2020-10-01  2020-10-26   \n",
       "332278    0.55      9 2020-09-28 2020-09-24 2020-09-01  2020-07-19   \n",
       "247334   15.00      3 2020-03-02 2020-02-27 2020-03-01  2020-03-02   \n",
       "27620     0.85     10 2020-10-19 2020-10-15 2020-10-01  2019-12-01   \n",
       "165504    5.00      4 2020-04-21 2020-04-16 2020-04-01  2019-12-21   \n",
       "291961   12.50     12 2020-12-01 2020-11-26 2020-12-01  2020-04-17   \n",
       "268252   16.35      3 2020-03-21 2020-03-19 2020-03-01  2020-03-21   \n",
       "366963   15.00     11 2020-11-28 2020-11-26 2020-11-01  2020-10-07   \n",
       "56856    15.00      5 2020-05-03 2020-04-30 2020-05-01  2019-12-05   \n",
       "183022   27.04      9 2020-09-29 2020-09-24 2020-09-01  2020-01-11   \n",
       "216940   15.60     10 2020-10-10 2020-10-08 2020-10-01  2020-02-02   \n",
       "\n",
       "       first_order_month  \n",
       "101954        2019-12-01  \n",
       "308648        2020-05-01  \n",
       "103511        2019-12-01  \n",
       "342394        2020-08-01  \n",
       "200753        2020-01-01  \n",
       "283093        2020-04-01  \n",
       "79501         2019-12-01  \n",
       "184032        2020-01-01  \n",
       "35968         2019-12-01  \n",
       "377362        2020-10-01  \n",
       "332278        2020-07-01  \n",
       "247334        2020-03-01  \n",
       "27620         2019-12-01  \n",
       "165504        2019-12-01  \n",
       "291961        2020-04-01  \n",
       "268252        2020-03-01  \n",
       "366963        2020-10-01  \n",
       "56856         2019-12-01  \n",
       "183022        2020-01-01  \n",
       "216940        2020-02-01  "
      ]
     },
     "execution_count": 43,
     "metadata": {},
     "output_type": "execute_result"
    }
   ],
   "source": [
    "#Creemos cohortes. Vamos a agregar los meses de la primera compra de los clientes a la tabla de facturas\n",
    "\n",
    "data_complete = pd.merge(data,first_orders, on='customer_id')\n",
    "data_complete.sample(20)"
   ]
  },
  {
   "cell_type": "code",
   "execution_count": null,
   "metadata": {},
   "outputs": [
    {
     "data": {
      "text/html": [
       "<div>\n",
       "<style scoped>\n",
       "    .dataframe tbody tr th:only-of-type {\n",
       "        vertical-align: middle;\n",
       "    }\n",
       "\n",
       "    .dataframe tbody tr th {\n",
       "        vertical-align: top;\n",
       "    }\n",
       "\n",
       "    .dataframe thead th {\n",
       "        text-align: right;\n",
       "    }\n",
       "</style>\n",
       "<table border=\"1\" class=\"dataframe\">\n",
       "  <thead>\n",
       "    <tr style=\"text-align: right;\">\n",
       "      <th></th>\n",
       "      <th>first_order_month</th>\n",
       "      <th>month</th>\n",
       "      <th>amount</th>\n",
       "    </tr>\n",
       "  </thead>\n",
       "  <tbody>\n",
       "    <tr>\n",
       "      <th>0</th>\n",
       "      <td>2019-12-01</td>\n",
       "      <td>2019-12-01</td>\n",
       "      <td>570422.73</td>\n",
       "    </tr>\n",
       "    <tr>\n",
       "      <th>1</th>\n",
       "      <td>2019-12-01</td>\n",
       "      <td>2020-01-01</td>\n",
       "      <td>275734.47</td>\n",
       "    </tr>\n",
       "    <tr>\n",
       "      <th>2</th>\n",
       "      <td>2019-12-01</td>\n",
       "      <td>2020-02-01</td>\n",
       "      <td>233390.47</td>\n",
       "    </tr>\n",
       "    <tr>\n",
       "      <th>3</th>\n",
       "      <td>2019-12-01</td>\n",
       "      <td>2020-03-01</td>\n",
       "      <td>302367.44</td>\n",
       "    </tr>\n",
       "    <tr>\n",
       "      <th>4</th>\n",
       "      <td>2019-12-01</td>\n",
       "      <td>2020-04-01</td>\n",
       "      <td>204034.38</td>\n",
       "    </tr>\n",
       "  </tbody>\n",
       "</table>\n",
       "</div>"
      ],
      "text/plain": [
       "  first_order_month      month     amount\n",
       "0        2019-12-01 2019-12-01  570422.73\n",
       "1        2019-12-01 2020-01-01  275734.47\n",
       "2        2019-12-01 2020-02-01  233390.47\n",
       "3        2019-12-01 2020-03-01  302367.44\n",
       "4        2019-12-01 2020-04-01  204034.38"
      ]
     },
     "execution_count": 44,
     "metadata": {},
     "output_type": "execute_result"
    }
   ],
   "source": [
    "#Ahora vamos a agrupar la tabla de pedidos por mes de la primera compra y totalizar los ingresos. \n",
    "\n",
    "cohorts = data_complete.groupby(['first_order_month','month']).agg({'amount': 'sum'}).reset_index()\n",
    "cohorts.head()"
   ]
  },
  {
   "cell_type": "code",
   "execution_count": null,
   "metadata": {},
   "outputs": [
    {
     "data": {
      "text/html": [
       "<div>\n",
       "<style scoped>\n",
       "    .dataframe tbody tr th:only-of-type {\n",
       "        vertical-align: middle;\n",
       "    }\n",
       "\n",
       "    .dataframe tbody tr th {\n",
       "        vertical-align: top;\n",
       "    }\n",
       "\n",
       "    .dataframe thead th {\n",
       "        text-align: right;\n",
       "    }\n",
       "</style>\n",
       "<table border=\"1\" class=\"dataframe\">\n",
       "  <thead>\n",
       "    <tr style=\"text-align: right;\">\n",
       "      <th></th>\n",
       "      <th>first_order_month</th>\n",
       "      <th>n_buyers</th>\n",
       "      <th>month</th>\n",
       "      <th>amount</th>\n",
       "    </tr>\n",
       "  </thead>\n",
       "  <tbody>\n",
       "    <tr>\n",
       "      <th>0</th>\n",
       "      <td>2019-12-01</td>\n",
       "      <td>885</td>\n",
       "      <td>2019-12-01</td>\n",
       "      <td>570422.73</td>\n",
       "    </tr>\n",
       "    <tr>\n",
       "      <th>1</th>\n",
       "      <td>2019-12-01</td>\n",
       "      <td>885</td>\n",
       "      <td>2020-01-01</td>\n",
       "      <td>275734.47</td>\n",
       "    </tr>\n",
       "    <tr>\n",
       "      <th>2</th>\n",
       "      <td>2019-12-01</td>\n",
       "      <td>885</td>\n",
       "      <td>2020-02-01</td>\n",
       "      <td>233390.47</td>\n",
       "    </tr>\n",
       "    <tr>\n",
       "      <th>3</th>\n",
       "      <td>2019-12-01</td>\n",
       "      <td>885</td>\n",
       "      <td>2020-03-01</td>\n",
       "      <td>302367.44</td>\n",
       "    </tr>\n",
       "    <tr>\n",
       "      <th>4</th>\n",
       "      <td>2019-12-01</td>\n",
       "      <td>885</td>\n",
       "      <td>2020-04-01</td>\n",
       "      <td>204034.38</td>\n",
       "    </tr>\n",
       "  </tbody>\n",
       "</table>\n",
       "</div>"
      ],
      "text/plain": [
       "  first_order_month  n_buyers      month     amount\n",
       "0        2019-12-01       885 2019-12-01  570422.73\n",
       "1        2019-12-01       885 2020-01-01  275734.47\n",
       "2        2019-12-01       885 2020-02-01  233390.47\n",
       "3        2019-12-01       885 2020-03-01  302367.44\n",
       "4        2019-12-01       885 2020-04-01  204034.38"
      ]
     },
     "execution_count": 45,
     "metadata": {},
     "output_type": "execute_result"
    }
   ],
   "source": [
    "#Agreguemos datos sobre cuántos usuarios realizaron sus primeras compras en cada mes \n",
    "\n",
    "report = pd.merge(cohort_sizes, cohorts, on='first_order_month')\n",
    "report.head()"
   ]
  },
  {
   "cell_type": "code",
   "execution_count": null,
   "metadata": {},
   "outputs": [
    {
     "data": {
      "text/html": [
       "<div>\n",
       "<style scoped>\n",
       "    .dataframe tbody tr th:only-of-type {\n",
       "        vertical-align: middle;\n",
       "    }\n",
       "\n",
       "    .dataframe tbody tr th {\n",
       "        vertical-align: top;\n",
       "    }\n",
       "\n",
       "    .dataframe thead th {\n",
       "        text-align: right;\n",
       "    }\n",
       "</style>\n",
       "<table border=\"1\" class=\"dataframe\">\n",
       "  <thead>\n",
       "    <tr style=\"text-align: right;\">\n",
       "      <th></th>\n",
       "      <th>first_order_month</th>\n",
       "      <th>n_buyers</th>\n",
       "      <th>month</th>\n",
       "      <th>amount</th>\n",
       "      <th>age</th>\n",
       "    </tr>\n",
       "  </thead>\n",
       "  <tbody>\n",
       "    <tr>\n",
       "      <th>0</th>\n",
       "      <td>2019-12-01</td>\n",
       "      <td>885</td>\n",
       "      <td>2019-12-01</td>\n",
       "      <td>570422.73</td>\n",
       "      <td>0</td>\n",
       "    </tr>\n",
       "    <tr>\n",
       "      <th>1</th>\n",
       "      <td>2019-12-01</td>\n",
       "      <td>885</td>\n",
       "      <td>2020-01-01</td>\n",
       "      <td>275734.47</td>\n",
       "      <td>1</td>\n",
       "    </tr>\n",
       "    <tr>\n",
       "      <th>2</th>\n",
       "      <td>2019-12-01</td>\n",
       "      <td>885</td>\n",
       "      <td>2020-02-01</td>\n",
       "      <td>233390.47</td>\n",
       "      <td>2</td>\n",
       "    </tr>\n",
       "    <tr>\n",
       "      <th>3</th>\n",
       "      <td>2019-12-01</td>\n",
       "      <td>885</td>\n",
       "      <td>2020-03-01</td>\n",
       "      <td>302367.44</td>\n",
       "      <td>3</td>\n",
       "    </tr>\n",
       "    <tr>\n",
       "      <th>4</th>\n",
       "      <td>2019-12-01</td>\n",
       "      <td>885</td>\n",
       "      <td>2020-04-01</td>\n",
       "      <td>204034.38</td>\n",
       "      <td>4</td>\n",
       "    </tr>\n",
       "  </tbody>\n",
       "</table>\n",
       "</div>"
      ],
      "text/plain": [
       "  first_order_month  n_buyers      month     amount  age\n",
       "0        2019-12-01       885 2019-12-01  570422.73    0\n",
       "1        2019-12-01       885 2020-01-01  275734.47    1\n",
       "2        2019-12-01       885 2020-02-01  233390.47    2\n",
       "3        2019-12-01       885 2020-03-01  302367.44    3\n",
       "4        2019-12-01       885 2020-04-01  204034.38    4"
      ]
     },
     "execution_count": 46,
     "metadata": {},
     "output_type": "execute_result"
    }
   ],
   "source": [
    "#Calculamos la edad de la cohorte en lugar del mes del pedido\n",
    "\n",
    "report['age'] = (\n",
    "    report['month'] - report['first_order_month']\n",
    ") / np.timedelta64(1, 'M')\n",
    "report['age'] = report['age'].round().astype('int')\n",
    "\n",
    "report.head()"
   ]
  },
  {
   "cell_type": "code",
   "execution_count": null,
   "metadata": {},
   "outputs": [
    {
     "data": {
      "text/html": [
       "<div>\n",
       "<style scoped>\n",
       "    .dataframe tbody tr th:only-of-type {\n",
       "        vertical-align: middle;\n",
       "    }\n",
       "\n",
       "    .dataframe tbody tr th {\n",
       "        vertical-align: top;\n",
       "    }\n",
       "\n",
       "    .dataframe thead th {\n",
       "        text-align: right;\n",
       "    }\n",
       "</style>\n",
       "<table border=\"1\" class=\"dataframe\">\n",
       "  <thead>\n",
       "    <tr style=\"text-align: right;\">\n",
       "      <th>age</th>\n",
       "      <th>0</th>\n",
       "      <th>1</th>\n",
       "      <th>2</th>\n",
       "      <th>3</th>\n",
       "      <th>4</th>\n",
       "      <th>5</th>\n",
       "      <th>6</th>\n",
       "      <th>7</th>\n",
       "      <th>8</th>\n",
       "      <th>9</th>\n",
       "      <th>10</th>\n",
       "      <th>11</th>\n",
       "      <th>12</th>\n",
       "    </tr>\n",
       "    <tr>\n",
       "      <th>first_order_month</th>\n",
       "      <th></th>\n",
       "      <th></th>\n",
       "      <th></th>\n",
       "      <th></th>\n",
       "      <th></th>\n",
       "      <th></th>\n",
       "      <th></th>\n",
       "      <th></th>\n",
       "      <th></th>\n",
       "      <th></th>\n",
       "      <th></th>\n",
       "      <th></th>\n",
       "      <th></th>\n",
       "    </tr>\n",
       "  </thead>\n",
       "  <tbody>\n",
       "    <tr>\n",
       "      <th>2019-12-01</th>\n",
       "      <td>644.545458</td>\n",
       "      <td>311.564373</td>\n",
       "      <td>263.718045</td>\n",
       "      <td>341.658124</td>\n",
       "      <td>230.547322</td>\n",
       "      <td>379.789480</td>\n",
       "      <td>354.427299</td>\n",
       "      <td>350.626023</td>\n",
       "      <td>374.012508</td>\n",
       "      <td>533.098452</td>\n",
       "      <td>514.665424</td>\n",
       "      <td>578.916475</td>\n",
       "      <td>209.447424</td>\n",
       "    </tr>\n",
       "    <tr>\n",
       "      <th>2020-01-01</th>\n",
       "      <td>701.119520</td>\n",
       "      <td>131.879760</td>\n",
       "      <td>151.455659</td>\n",
       "      <td>171.525396</td>\n",
       "      <td>194.220072</td>\n",
       "      <td>202.552926</td>\n",
       "      <td>168.041607</td>\n",
       "      <td>173.869113</td>\n",
       "      <td>172.351273</td>\n",
       "      <td>267.076019</td>\n",
       "      <td>295.570408</td>\n",
       "      <td>63.280647</td>\n",
       "      <td>NaN</td>\n",
       "    </tr>\n",
       "    <tr>\n",
       "      <th>2020-02-01</th>\n",
       "      <td>415.001553</td>\n",
       "      <td>76.151684</td>\n",
       "      <td>107.801237</td>\n",
       "      <td>126.724711</td>\n",
       "      <td>105.497816</td>\n",
       "      <td>89.883342</td>\n",
       "      <td>130.720289</td>\n",
       "      <td>163.928421</td>\n",
       "      <td>145.371947</td>\n",
       "      <td>170.233842</td>\n",
       "      <td>27.895316</td>\n",
       "      <td>NaN</td>\n",
       "      <td>NaN</td>\n",
       "    </tr>\n",
       "    <tr>\n",
       "      <th>2020-03-01</th>\n",
       "      <td>441.636438</td>\n",
       "      <td>66.460929</td>\n",
       "      <td>130.438960</td>\n",
       "      <td>94.555487</td>\n",
       "      <td>113.700088</td>\n",
       "      <td>88.412235</td>\n",
       "      <td>143.416261</td>\n",
       "      <td>156.025708</td>\n",
       "      <td>156.742522</td>\n",
       "      <td>28.232522</td>\n",
       "      <td>NaN</td>\n",
       "      <td>NaN</td>\n",
       "      <td>NaN</td>\n",
       "    </tr>\n",
       "    <tr>\n",
       "      <th>2020-04-01</th>\n",
       "      <td>406.030170</td>\n",
       "      <td>97.995300</td>\n",
       "      <td>83.428567</td>\n",
       "      <td>80.942633</td>\n",
       "      <td>87.510533</td>\n",
       "      <td>100.344133</td>\n",
       "      <td>95.019667</td>\n",
       "      <td>113.365367</td>\n",
       "      <td>21.106667</td>\n",
       "      <td>NaN</td>\n",
       "      <td>NaN</td>\n",
       "      <td>NaN</td>\n",
       "      <td>NaN</td>\n",
       "    </tr>\n",
       "    <tr>\n",
       "      <th>2020-05-01</th>\n",
       "      <td>435.701761</td>\n",
       "      <td>65.639789</td>\n",
       "      <td>70.970880</td>\n",
       "      <td>67.472430</td>\n",
       "      <td>97.720493</td>\n",
       "      <td>115.758239</td>\n",
       "      <td>116.789930</td>\n",
       "      <td>630.930387</td>\n",
       "      <td>NaN</td>\n",
       "      <td>NaN</td>\n",
       "      <td>NaN</td>\n",
       "      <td>NaN</td>\n",
       "      <td>NaN</td>\n",
       "    </tr>\n",
       "    <tr>\n",
       "      <th>2020-06-01</th>\n",
       "      <td>559.565289</td>\n",
       "      <td>60.902851</td>\n",
       "      <td>58.282521</td>\n",
       "      <td>127.680000</td>\n",
       "      <td>110.206198</td>\n",
       "      <td>175.748306</td>\n",
       "      <td>33.649669</td>\n",
       "      <td>NaN</td>\n",
       "      <td>NaN</td>\n",
       "      <td>NaN</td>\n",
       "      <td>NaN</td>\n",
       "      <td>NaN</td>\n",
       "      <td>NaN</td>\n",
       "    </tr>\n",
       "    <tr>\n",
       "      <th>2020-07-01</th>\n",
       "      <td>392.874473</td>\n",
       "      <td>62.711011</td>\n",
       "      <td>82.384947</td>\n",
       "      <td>92.510266</td>\n",
       "      <td>101.897979</td>\n",
       "      <td>32.131383</td>\n",
       "      <td>NaN</td>\n",
       "      <td>NaN</td>\n",
       "      <td>NaN</td>\n",
       "      <td>NaN</td>\n",
       "      <td>NaN</td>\n",
       "      <td>NaN</td>\n",
       "      <td>NaN</td>\n",
       "    </tr>\n",
       "    <tr>\n",
       "      <th>2020-08-01</th>\n",
       "      <td>471.012663</td>\n",
       "      <td>123.868402</td>\n",
       "      <td>209.813491</td>\n",
       "      <td>263.240533</td>\n",
       "      <td>90.440000</td>\n",
       "      <td>NaN</td>\n",
       "      <td>NaN</td>\n",
       "      <td>NaN</td>\n",
       "      <td>NaN</td>\n",
       "      <td>NaN</td>\n",
       "      <td>NaN</td>\n",
       "      <td>NaN</td>\n",
       "      <td>NaN</td>\n",
       "    </tr>\n",
       "    <tr>\n",
       "      <th>2020-09-01</th>\n",
       "      <td>517.505321</td>\n",
       "      <td>95.990468</td>\n",
       "      <td>123.407860</td>\n",
       "      <td>41.135552</td>\n",
       "      <td>NaN</td>\n",
       "      <td>NaN</td>\n",
       "      <td>NaN</td>\n",
       "      <td>NaN</td>\n",
       "      <td>NaN</td>\n",
       "      <td>NaN</td>\n",
       "      <td>NaN</td>\n",
       "      <td>NaN</td>\n",
       "      <td>NaN</td>\n",
       "    </tr>\n",
       "    <tr>\n",
       "      <th>2020-10-01</th>\n",
       "      <td>484.427905</td>\n",
       "      <td>110.869832</td>\n",
       "      <td>35.104134</td>\n",
       "      <td>NaN</td>\n",
       "      <td>NaN</td>\n",
       "      <td>NaN</td>\n",
       "      <td>NaN</td>\n",
       "      <td>NaN</td>\n",
       "      <td>NaN</td>\n",
       "      <td>NaN</td>\n",
       "      <td>NaN</td>\n",
       "      <td>NaN</td>\n",
       "      <td>NaN</td>\n",
       "    </tr>\n",
       "    <tr>\n",
       "      <th>2020-11-01</th>\n",
       "      <td>417.072006</td>\n",
       "      <td>46.985617</td>\n",
       "      <td>NaN</td>\n",
       "      <td>NaN</td>\n",
       "      <td>NaN</td>\n",
       "      <td>NaN</td>\n",
       "      <td>NaN</td>\n",
       "      <td>NaN</td>\n",
       "      <td>NaN</td>\n",
       "      <td>NaN</td>\n",
       "      <td>NaN</td>\n",
       "      <td>NaN</td>\n",
       "      <td>NaN</td>\n",
       "    </tr>\n",
       "    <tr>\n",
       "      <th>2020-12-01</th>\n",
       "      <td>658.669756</td>\n",
       "      <td>NaN</td>\n",
       "      <td>NaN</td>\n",
       "      <td>NaN</td>\n",
       "      <td>NaN</td>\n",
       "      <td>NaN</td>\n",
       "      <td>NaN</td>\n",
       "      <td>NaN</td>\n",
       "      <td>NaN</td>\n",
       "      <td>NaN</td>\n",
       "      <td>NaN</td>\n",
       "      <td>NaN</td>\n",
       "      <td>NaN</td>\n",
       "    </tr>\n",
       "  </tbody>\n",
       "</table>\n",
       "</div>"
      ],
      "text/plain": [
       "age                        0           1           2           3           4   \\\n",
       "first_order_month                                                               \n",
       "2019-12-01         644.545458  311.564373  263.718045  341.658124  230.547322   \n",
       "2020-01-01         701.119520  131.879760  151.455659  171.525396  194.220072   \n",
       "2020-02-01         415.001553   76.151684  107.801237  126.724711  105.497816   \n",
       "2020-03-01         441.636438   66.460929  130.438960   94.555487  113.700088   \n",
       "2020-04-01         406.030170   97.995300   83.428567   80.942633   87.510533   \n",
       "2020-05-01         435.701761   65.639789   70.970880   67.472430   97.720493   \n",
       "2020-06-01         559.565289   60.902851   58.282521  127.680000  110.206198   \n",
       "2020-07-01         392.874473   62.711011   82.384947   92.510266  101.897979   \n",
       "2020-08-01         471.012663  123.868402  209.813491  263.240533   90.440000   \n",
       "2020-09-01         517.505321   95.990468  123.407860   41.135552         NaN   \n",
       "2020-10-01         484.427905  110.869832   35.104134         NaN         NaN   \n",
       "2020-11-01         417.072006   46.985617         NaN         NaN         NaN   \n",
       "2020-12-01         658.669756         NaN         NaN         NaN         NaN   \n",
       "\n",
       "age                        5           6           7           8           9   \\\n",
       "first_order_month                                                               \n",
       "2019-12-01         379.789480  354.427299  350.626023  374.012508  533.098452   \n",
       "2020-01-01         202.552926  168.041607  173.869113  172.351273  267.076019   \n",
       "2020-02-01          89.883342  130.720289  163.928421  145.371947  170.233842   \n",
       "2020-03-01          88.412235  143.416261  156.025708  156.742522   28.232522   \n",
       "2020-04-01         100.344133   95.019667  113.365367   21.106667         NaN   \n",
       "2020-05-01         115.758239  116.789930  630.930387         NaN         NaN   \n",
       "2020-06-01         175.748306   33.649669         NaN         NaN         NaN   \n",
       "2020-07-01          32.131383         NaN         NaN         NaN         NaN   \n",
       "2020-08-01                NaN         NaN         NaN         NaN         NaN   \n",
       "2020-09-01                NaN         NaN         NaN         NaN         NaN   \n",
       "2020-10-01                NaN         NaN         NaN         NaN         NaN   \n",
       "2020-11-01                NaN         NaN         NaN         NaN         NaN   \n",
       "2020-12-01                NaN         NaN         NaN         NaN         NaN   \n",
       "\n",
       "age                        10          11          12  \n",
       "first_order_month                                      \n",
       "2019-12-01         514.665424  578.916475  209.447424  \n",
       "2020-01-01         295.570408   63.280647         NaN  \n",
       "2020-02-01          27.895316         NaN         NaN  \n",
       "2020-03-01                NaN         NaN         NaN  \n",
       "2020-04-01                NaN         NaN         NaN  \n",
       "2020-05-01                NaN         NaN         NaN  \n",
       "2020-06-01                NaN         NaN         NaN  \n",
       "2020-07-01                NaN         NaN         NaN  \n",
       "2020-08-01                NaN         NaN         NaN  \n",
       "2020-09-01                NaN         NaN         NaN  \n",
       "2020-10-01                NaN         NaN         NaN  \n",
       "2020-11-01                NaN         NaN         NaN  \n",
       "2020-12-01                NaN         NaN         NaN  "
      ]
     },
     "execution_count": 48,
     "metadata": {},
     "output_type": "execute_result"
    }
   ],
   "source": [
    "#Visualizaremos las cohortes como una tabla dinámica para aclarar las cosas\n",
    "\n",
    "report['ltv']=report['amount'] / report['n_buyers']\n",
    "output = report.pivot_table(index='first_order_month', columns='age', values='ltv')\n",
    "\n",
    "\n",
    "output\n"
   ]
  },
  {
   "cell_type": "markdown",
   "metadata": {},
   "source": [
    "Observando nuestra tabla pivote, nos damos cuenta que el primer mes en el que nuestros clientes realizan su primera compra, es en realidad, el mes más importante del cliclo de vida del cliente. Vemos que a partir del segundo mes, los ingresos por cliente fluctuan bastante, probablemente el periodo entre compras se vuelve más largo. Habrá que analizar los productos con mayor rotación."
   ]
  },
  {
   "cell_type": "code",
   "execution_count": null,
   "metadata": {},
   "outputs": [
    {
     "data": {
      "text/html": [
       "<div>\n",
       "<style scoped>\n",
       "    .dataframe tbody tr th:only-of-type {\n",
       "        vertical-align: middle;\n",
       "    }\n",
       "\n",
       "    .dataframe tbody tr th {\n",
       "        vertical-align: top;\n",
       "    }\n",
       "\n",
       "    .dataframe thead th {\n",
       "        text-align: right;\n",
       "    }\n",
       "</style>\n",
       "<table border=\"1\" class=\"dataframe\">\n",
       "  <thead>\n",
       "    <tr style=\"text-align: right;\">\n",
       "      <th>age</th>\n",
       "      <th>0</th>\n",
       "      <th>1</th>\n",
       "      <th>2</th>\n",
       "      <th>3</th>\n",
       "      <th>4</th>\n",
       "      <th>5</th>\n",
       "      <th>6</th>\n",
       "      <th>7</th>\n",
       "      <th>8</th>\n",
       "      <th>9</th>\n",
       "      <th>10</th>\n",
       "      <th>11</th>\n",
       "      <th>12</th>\n",
       "    </tr>\n",
       "    <tr>\n",
       "      <th>first_order_month</th>\n",
       "      <th></th>\n",
       "      <th></th>\n",
       "      <th></th>\n",
       "      <th></th>\n",
       "      <th></th>\n",
       "      <th></th>\n",
       "      <th></th>\n",
       "      <th></th>\n",
       "      <th></th>\n",
       "      <th></th>\n",
       "      <th></th>\n",
       "      <th></th>\n",
       "      <th></th>\n",
       "    </tr>\n",
       "  </thead>\n",
       "  <tbody>\n",
       "    <tr>\n",
       "      <th>2019-12-01</th>\n",
       "      <td>644.55</td>\n",
       "      <td>956.11</td>\n",
       "      <td>1219.83</td>\n",
       "      <td>1561.49</td>\n",
       "      <td>1792.03</td>\n",
       "      <td>2171.82</td>\n",
       "      <td>2526.25</td>\n",
       "      <td>2876.88</td>\n",
       "      <td>3250.89</td>\n",
       "      <td>3783.99</td>\n",
       "      <td>4298.65</td>\n",
       "      <td>4877.57</td>\n",
       "      <td>5087.02</td>\n",
       "    </tr>\n",
       "    <tr>\n",
       "      <th>2020-01-01</th>\n",
       "      <td>701.12</td>\n",
       "      <td>833.0</td>\n",
       "      <td>984.45</td>\n",
       "      <td>1155.98</td>\n",
       "      <td>1350.2</td>\n",
       "      <td>1552.75</td>\n",
       "      <td>1720.79</td>\n",
       "      <td>1894.66</td>\n",
       "      <td>2067.02</td>\n",
       "      <td>2334.09</td>\n",
       "      <td>2629.66</td>\n",
       "      <td>2692.94</td>\n",
       "      <td></td>\n",
       "    </tr>\n",
       "    <tr>\n",
       "      <th>2020-02-01</th>\n",
       "      <td>415.00</td>\n",
       "      <td>491.15</td>\n",
       "      <td>598.95</td>\n",
       "      <td>725.68</td>\n",
       "      <td>831.18</td>\n",
       "      <td>921.06</td>\n",
       "      <td>1051.78</td>\n",
       "      <td>1215.71</td>\n",
       "      <td>1361.08</td>\n",
       "      <td>1531.31</td>\n",
       "      <td>1559.21</td>\n",
       "      <td></td>\n",
       "      <td></td>\n",
       "    </tr>\n",
       "    <tr>\n",
       "      <th>2020-03-01</th>\n",
       "      <td>441.64</td>\n",
       "      <td>508.1</td>\n",
       "      <td>638.54</td>\n",
       "      <td>733.09</td>\n",
       "      <td>846.79</td>\n",
       "      <td>935.2</td>\n",
       "      <td>1078.62</td>\n",
       "      <td>1234.65</td>\n",
       "      <td>1391.39</td>\n",
       "      <td>1419.62</td>\n",
       "      <td></td>\n",
       "      <td></td>\n",
       "      <td></td>\n",
       "    </tr>\n",
       "    <tr>\n",
       "      <th>2020-04-01</th>\n",
       "      <td>406.03</td>\n",
       "      <td>504.03</td>\n",
       "      <td>587.45</td>\n",
       "      <td>668.4</td>\n",
       "      <td>755.91</td>\n",
       "      <td>856.25</td>\n",
       "      <td>951.27</td>\n",
       "      <td>1064.64</td>\n",
       "      <td>1085.74</td>\n",
       "      <td></td>\n",
       "      <td></td>\n",
       "      <td></td>\n",
       "      <td></td>\n",
       "    </tr>\n",
       "    <tr>\n",
       "      <th>2020-05-01</th>\n",
       "      <td>435.70</td>\n",
       "      <td>501.34</td>\n",
       "      <td>572.31</td>\n",
       "      <td>639.78</td>\n",
       "      <td>737.51</td>\n",
       "      <td>853.26</td>\n",
       "      <td>970.05</td>\n",
       "      <td>1600.98</td>\n",
       "      <td></td>\n",
       "      <td></td>\n",
       "      <td></td>\n",
       "      <td></td>\n",
       "      <td></td>\n",
       "    </tr>\n",
       "    <tr>\n",
       "      <th>2020-06-01</th>\n",
       "      <td>559.57</td>\n",
       "      <td>620.47</td>\n",
       "      <td>678.75</td>\n",
       "      <td>806.43</td>\n",
       "      <td>916.64</td>\n",
       "      <td>1092.39</td>\n",
       "      <td>1126.03</td>\n",
       "      <td></td>\n",
       "      <td></td>\n",
       "      <td></td>\n",
       "      <td></td>\n",
       "      <td></td>\n",
       "      <td></td>\n",
       "    </tr>\n",
       "    <tr>\n",
       "      <th>2020-07-01</th>\n",
       "      <td>392.87</td>\n",
       "      <td>455.59</td>\n",
       "      <td>537.97</td>\n",
       "      <td>630.48</td>\n",
       "      <td>732.38</td>\n",
       "      <td>764.51</td>\n",
       "      <td></td>\n",
       "      <td></td>\n",
       "      <td></td>\n",
       "      <td></td>\n",
       "      <td></td>\n",
       "      <td></td>\n",
       "      <td></td>\n",
       "    </tr>\n",
       "    <tr>\n",
       "      <th>2020-08-01</th>\n",
       "      <td>471.01</td>\n",
       "      <td>594.88</td>\n",
       "      <td>804.69</td>\n",
       "      <td>1067.94</td>\n",
       "      <td>1158.38</td>\n",
       "      <td></td>\n",
       "      <td></td>\n",
       "      <td></td>\n",
       "      <td></td>\n",
       "      <td></td>\n",
       "      <td></td>\n",
       "      <td></td>\n",
       "      <td></td>\n",
       "    </tr>\n",
       "    <tr>\n",
       "      <th>2020-09-01</th>\n",
       "      <td>517.51</td>\n",
       "      <td>613.5</td>\n",
       "      <td>736.9</td>\n",
       "      <td>778.04</td>\n",
       "      <td></td>\n",
       "      <td></td>\n",
       "      <td></td>\n",
       "      <td></td>\n",
       "      <td></td>\n",
       "      <td></td>\n",
       "      <td></td>\n",
       "      <td></td>\n",
       "      <td></td>\n",
       "    </tr>\n",
       "    <tr>\n",
       "      <th>2020-10-01</th>\n",
       "      <td>484.43</td>\n",
       "      <td>595.3</td>\n",
       "      <td>630.4</td>\n",
       "      <td></td>\n",
       "      <td></td>\n",
       "      <td></td>\n",
       "      <td></td>\n",
       "      <td></td>\n",
       "      <td></td>\n",
       "      <td></td>\n",
       "      <td></td>\n",
       "      <td></td>\n",
       "      <td></td>\n",
       "    </tr>\n",
       "    <tr>\n",
       "      <th>2020-11-01</th>\n",
       "      <td>417.07</td>\n",
       "      <td>464.06</td>\n",
       "      <td></td>\n",
       "      <td></td>\n",
       "      <td></td>\n",
       "      <td></td>\n",
       "      <td></td>\n",
       "      <td></td>\n",
       "      <td></td>\n",
       "      <td></td>\n",
       "      <td></td>\n",
       "      <td></td>\n",
       "      <td></td>\n",
       "    </tr>\n",
       "    <tr>\n",
       "      <th>2020-12-01</th>\n",
       "      <td>658.67</td>\n",
       "      <td></td>\n",
       "      <td></td>\n",
       "      <td></td>\n",
       "      <td></td>\n",
       "      <td></td>\n",
       "      <td></td>\n",
       "      <td></td>\n",
       "      <td></td>\n",
       "      <td></td>\n",
       "      <td></td>\n",
       "      <td></td>\n",
       "      <td></td>\n",
       "    </tr>\n",
       "  </tbody>\n",
       "</table>\n",
       "</div>"
      ],
      "text/plain": [
       "age                    0       1        2        3        4        5   \\\n",
       "first_order_month                                                       \n",
       "2019-12-01         644.55  956.11  1219.83  1561.49  1792.03  2171.82   \n",
       "2020-01-01         701.12   833.0   984.45  1155.98   1350.2  1552.75   \n",
       "2020-02-01         415.00  491.15   598.95   725.68   831.18   921.06   \n",
       "2020-03-01         441.64   508.1   638.54   733.09   846.79    935.2   \n",
       "2020-04-01         406.03  504.03   587.45    668.4   755.91   856.25   \n",
       "2020-05-01         435.70  501.34   572.31   639.78   737.51   853.26   \n",
       "2020-06-01         559.57  620.47   678.75   806.43   916.64  1092.39   \n",
       "2020-07-01         392.87  455.59   537.97   630.48   732.38   764.51   \n",
       "2020-08-01         471.01  594.88   804.69  1067.94  1158.38            \n",
       "2020-09-01         517.51   613.5    736.9   778.04                     \n",
       "2020-10-01         484.43   595.3    630.4                              \n",
       "2020-11-01         417.07  464.06                                       \n",
       "2020-12-01         658.67                                               \n",
       "\n",
       "age                     6        7        8        9        10       11  \\\n",
       "first_order_month                                                         \n",
       "2019-12-01         2526.25  2876.88  3250.89  3783.99  4298.65  4877.57   \n",
       "2020-01-01         1720.79  1894.66  2067.02  2334.09  2629.66  2692.94   \n",
       "2020-02-01         1051.78  1215.71  1361.08  1531.31  1559.21            \n",
       "2020-03-01         1078.62  1234.65  1391.39  1419.62                     \n",
       "2020-04-01          951.27  1064.64  1085.74                              \n",
       "2020-05-01          970.05  1600.98                                       \n",
       "2020-06-01         1126.03                                                \n",
       "2020-07-01                                                                \n",
       "2020-08-01                                                                \n",
       "2020-09-01                                                                \n",
       "2020-10-01                                                                \n",
       "2020-11-01                                                                \n",
       "2020-12-01                                                                \n",
       "\n",
       "age                     12  \n",
       "first_order_month           \n",
       "2019-12-01         5087.02  \n",
       "2020-01-01                  \n",
       "2020-02-01                  \n",
       "2020-03-01                  \n",
       "2020-04-01                  \n",
       "2020-05-01                  \n",
       "2020-06-01                  \n",
       "2020-07-01                  \n",
       "2020-08-01                  \n",
       "2020-09-01                  \n",
       "2020-10-01                  \n",
       "2020-11-01                  \n",
       "2020-12-01                  "
      ]
     },
     "execution_count": 49,
     "metadata": {},
     "output_type": "execute_result"
    }
   ],
   "source": [
    "output.cumsum(axis=1).round(2).fillna('')"
   ]
  },
  {
   "cell_type": "code",
   "execution_count": null,
   "metadata": {},
   "outputs": [],
   "source": []
  },
  {
   "cell_type": "code",
   "execution_count": null,
   "metadata": {},
   "outputs": [],
   "source": []
  },
  {
   "cell_type": "code",
   "execution_count": null,
   "metadata": {},
   "outputs": [],
   "source": []
  },
  {
   "cell_type": "code",
   "execution_count": null,
   "metadata": {},
   "outputs": [],
   "source": []
  },
  {
   "cell_type": "code",
   "execution_count": null,
   "metadata": {},
   "outputs": [],
   "source": []
  }
 ],
 "metadata": {
  "ExecuteTimeLog": [
   {
    "duration": 670,
    "start_time": "2024-07-03T16:26:26.410Z"
   },
   {
    "duration": 420,
    "start_time": "2024-07-03T16:26:42.499Z"
   },
   {
    "duration": 714,
    "start_time": "2024-07-03T16:26:49.920Z"
   },
   {
    "duration": 1064,
    "start_time": "2024-07-03T16:26:50.638Z"
   },
   {
    "duration": 0,
    "start_time": "2024-07-03T16:26:51.707Z"
   },
   {
    "duration": 0,
    "start_time": "2024-07-03T16:26:51.711Z"
   },
   {
    "duration": 0,
    "start_time": "2024-07-03T16:26:51.714Z"
   },
   {
    "duration": 0,
    "start_time": "2024-07-03T16:26:51.716Z"
   },
   {
    "duration": 0,
    "start_time": "2024-07-03T16:26:51.731Z"
   },
   {
    "duration": 0,
    "start_time": "2024-07-03T16:26:51.732Z"
   },
   {
    "duration": 1,
    "start_time": "2024-07-03T16:26:51.734Z"
   },
   {
    "duration": 0,
    "start_time": "2024-07-03T16:26:51.736Z"
   },
   {
    "duration": 0,
    "start_time": "2024-07-03T16:26:51.739Z"
   },
   {
    "duration": 0,
    "start_time": "2024-07-03T16:26:51.741Z"
   },
   {
    "duration": 0,
    "start_time": "2024-07-03T16:26:51.742Z"
   },
   {
    "duration": 0,
    "start_time": "2024-07-03T16:26:51.744Z"
   },
   {
    "duration": 0,
    "start_time": "2024-07-03T16:26:51.746Z"
   },
   {
    "duration": 0,
    "start_time": "2024-07-03T16:26:51.748Z"
   },
   {
    "duration": 0,
    "start_time": "2024-07-03T16:26:51.749Z"
   },
   {
    "duration": 0,
    "start_time": "2024-07-03T16:26:51.756Z"
   },
   {
    "duration": 0,
    "start_time": "2024-07-03T16:26:51.758Z"
   },
   {
    "duration": 0,
    "start_time": "2024-07-03T16:26:51.759Z"
   },
   {
    "duration": 0,
    "start_time": "2024-07-03T16:26:51.760Z"
   },
   {
    "duration": 0,
    "start_time": "2024-07-03T16:26:51.761Z"
   },
   {
    "duration": 1,
    "start_time": "2024-07-03T16:26:51.762Z"
   },
   {
    "duration": 0,
    "start_time": "2024-07-03T16:26:51.764Z"
   },
   {
    "duration": 656,
    "start_time": "2024-07-03T16:37:14.168Z"
   },
   {
    "duration": 959,
    "start_time": "2024-07-03T16:37:14.828Z"
   },
   {
    "duration": 52,
    "start_time": "2024-07-03T16:37:15.790Z"
   },
   {
    "duration": 137,
    "start_time": "2024-07-03T16:37:15.845Z"
   },
   {
    "duration": 119,
    "start_time": "2024-07-03T16:37:15.986Z"
   },
   {
    "duration": 180,
    "start_time": "2024-07-03T16:37:16.108Z"
   },
   {
    "duration": 105,
    "start_time": "2024-07-03T16:37:16.290Z"
   },
   {
    "duration": 302,
    "start_time": "2024-07-03T16:37:16.397Z"
   },
   {
    "duration": 396,
    "start_time": "2024-07-03T16:37:16.702Z"
   },
   {
    "duration": 35,
    "start_time": "2024-07-03T16:37:17.102Z"
   },
   {
    "duration": 138,
    "start_time": "2024-07-03T16:37:17.141Z"
   },
   {
    "duration": 99,
    "start_time": "2024-07-03T16:37:17.282Z"
   },
   {
    "duration": 438,
    "start_time": "2024-07-03T16:37:17.384Z"
   },
   {
    "duration": 24,
    "start_time": "2024-07-03T16:37:17.830Z"
   },
   {
    "duration": 107,
    "start_time": "2024-07-03T16:37:17.857Z"
   },
   {
    "duration": 69,
    "start_time": "2024-07-03T16:37:17.967Z"
   },
   {
    "duration": 102,
    "start_time": "2024-07-03T16:37:18.038Z"
   },
   {
    "duration": 52,
    "start_time": "2024-07-03T16:37:18.143Z"
   },
   {
    "duration": 98,
    "start_time": "2024-07-03T16:37:18.198Z"
   },
   {
    "duration": 136,
    "start_time": "2024-07-03T16:37:18.299Z"
   },
   {
    "duration": 20,
    "start_time": "2024-07-03T16:37:18.437Z"
   },
   {
    "duration": 101,
    "start_time": "2024-07-03T16:37:18.460Z"
   },
   {
    "duration": 127,
    "start_time": "2024-07-03T16:37:18.564Z"
   },
   {
    "duration": 1198,
    "start_time": "2024-07-03T16:37:18.694Z"
   },
   {
    "duration": 698,
    "start_time": "2024-07-03T16:38:22.751Z"
   },
   {
    "duration": 804,
    "start_time": "2024-07-03T16:38:23.452Z"
   },
   {
    "duration": 42,
    "start_time": "2024-07-03T16:38:24.259Z"
   },
   {
    "duration": 160,
    "start_time": "2024-07-03T16:38:24.306Z"
   },
   {
    "duration": 133,
    "start_time": "2024-07-03T16:38:24.470Z"
   },
   {
    "duration": 187,
    "start_time": "2024-07-03T16:38:24.605Z"
   },
   {
    "duration": 148,
    "start_time": "2024-07-03T16:38:24.795Z"
   },
   {
    "duration": 372,
    "start_time": "2024-07-03T16:38:24.947Z"
   },
   {
    "duration": 500,
    "start_time": "2024-07-03T16:38:25.331Z"
   },
   {
    "duration": 26,
    "start_time": "2024-07-03T16:38:25.837Z"
   },
   {
    "duration": 198,
    "start_time": "2024-07-03T16:38:25.866Z"
   },
   {
    "duration": 115,
    "start_time": "2024-07-03T16:38:26.068Z"
   },
   {
    "duration": 449,
    "start_time": "2024-07-03T16:38:26.187Z"
   },
   {
    "duration": 18,
    "start_time": "2024-07-03T16:38:26.641Z"
   },
   {
    "duration": 94,
    "start_time": "2024-07-03T16:38:26.662Z"
   },
   {
    "duration": 72,
    "start_time": "2024-07-03T16:38:26.760Z"
   },
   {
    "duration": 100,
    "start_time": "2024-07-03T16:38:26.839Z"
   },
   {
    "duration": 63,
    "start_time": "2024-07-03T16:38:26.943Z"
   },
   {
    "duration": 99,
    "start_time": "2024-07-03T16:38:27.031Z"
   },
   {
    "duration": 134,
    "start_time": "2024-07-03T16:38:27.136Z"
   },
   {
    "duration": 21,
    "start_time": "2024-07-03T16:38:27.272Z"
   },
   {
    "duration": 92,
    "start_time": "2024-07-03T16:38:27.296Z"
   },
   {
    "duration": 174,
    "start_time": "2024-07-03T16:38:27.395Z"
   },
   {
    "duration": 68989,
    "start_time": "2024-07-03T16:38:27.572Z"
   },
   {
    "duration": 17,
    "start_time": "2024-07-03T16:40:41.585Z"
   },
   {
    "duration": 72496,
    "start_time": "2024-07-03T16:41:06.743Z"
   },
   {
    "duration": 373,
    "start_time": "2024-07-03T16:44:15.605Z"
   },
   {
    "duration": 9,
    "start_time": "2024-07-03T16:44:30.665Z"
   },
   {
    "duration": 2047,
    "start_time": "2024-07-03T16:44:39.587Z"
   },
   {
    "duration": 317,
    "start_time": "2024-07-03T16:44:57.954Z"
   },
   {
    "duration": 3,
    "start_time": "2024-07-03T16:47:37.066Z"
   },
   {
    "duration": 7,
    "start_time": "2024-07-03T16:53:59.575Z"
   },
   {
    "duration": 131,
    "start_time": "2024-07-03T16:58:12.788Z"
   },
   {
    "duration": 32,
    "start_time": "2024-07-03T17:00:07.484Z"
   },
   {
    "duration": 100,
    "start_time": "2024-07-03T17:00:20.732Z"
   },
   {
    "duration": 208,
    "start_time": "2024-07-03T17:09:29.378Z"
   },
   {
    "duration": 265,
    "start_time": "2024-07-03T17:09:32.132Z"
   },
   {
    "duration": 97,
    "start_time": "2024-07-03T17:09:50.036Z"
   },
   {
    "duration": 431,
    "start_time": "2024-07-03T17:10:04.481Z"
   },
   {
    "duration": 23,
    "start_time": "2024-07-03T17:17:54.430Z"
   },
   {
    "duration": 51,
    "start_time": "2024-07-03T17:22:40.514Z"
   },
   {
    "duration": 28,
    "start_time": "2024-07-03T17:23:14.566Z"
   },
   {
    "duration": 78,
    "start_time": "2024-07-03T17:23:24.083Z"
   },
   {
    "duration": 32,
    "start_time": "2024-07-03T17:25:28.324Z"
   },
   {
    "duration": 469,
    "start_time": "2024-07-03T17:25:36.948Z"
   },
   {
    "duration": 85,
    "start_time": "2024-07-03T17:28:31.649Z"
   },
   {
    "duration": 55,
    "start_time": "2024-07-03T17:28:48.562Z"
   },
   {
    "duration": 63,
    "start_time": "2024-07-03T17:52:11.025Z"
   },
   {
    "duration": 5,
    "start_time": "2024-07-03T17:52:32.498Z"
   },
   {
    "duration": 3,
    "start_time": "2024-07-03T17:58:51.686Z"
   },
   {
    "duration": 4,
    "start_time": "2024-07-03T17:59:40.330Z"
   },
   {
    "duration": 27,
    "start_time": "2024-07-03T23:12:44.311Z"
   },
   {
    "duration": 646,
    "start_time": "2024-07-03T23:12:47.846Z"
   },
   {
    "duration": 115,
    "start_time": "2024-07-03T23:13:23.677Z"
   },
   {
    "duration": 21,
    "start_time": "2024-07-03T23:19:08.199Z"
   },
   {
    "duration": 62,
    "start_time": "2024-07-03T23:19:21.712Z"
   },
   {
    "duration": 333,
    "start_time": "2024-07-03T23:22:23.205Z"
   },
   {
    "duration": 5,
    "start_time": "2024-07-03T23:22:26.368Z"
   },
   {
    "duration": 236,
    "start_time": "2024-07-03T23:22:47.429Z"
   },
   {
    "duration": 271,
    "start_time": "2024-07-03T23:23:00.452Z"
   },
   {
    "duration": 26,
    "start_time": "2024-07-03T23:23:02.813Z"
   },
   {
    "duration": 5,
    "start_time": "2024-07-03T23:24:00.584Z"
   },
   {
    "duration": 270,
    "start_time": "2024-07-03T23:24:16.443Z"
   },
   {
    "duration": 7,
    "start_time": "2024-07-03T23:24:16.994Z"
   },
   {
    "duration": 5,
    "start_time": "2024-07-03T23:25:06.206Z"
   },
   {
    "duration": 150,
    "start_time": "2024-07-03T23:26:39.022Z"
   },
   {
    "duration": 8,
    "start_time": "2024-07-03T23:26:39.936Z"
   },
   {
    "duration": 5,
    "start_time": "2024-07-03T23:26:41.041Z"
   },
   {
    "duration": 51,
    "start_time": "2024-07-03T23:42:31.771Z"
   },
   {
    "duration": 51,
    "start_time": "2024-07-03T23:42:38.229Z"
   },
   {
    "duration": 13513,
    "start_time": "2024-07-03T23:43:05.791Z"
   },
   {
    "duration": 607,
    "start_time": "2024-07-03T23:43:39.193Z"
   },
   {
    "duration": 6,
    "start_time": "2024-07-03T23:43:59.140Z"
   },
   {
    "duration": 22,
    "start_time": "2024-07-03T23:44:07.241Z"
   },
   {
    "duration": 51,
    "start_time": "2024-07-03T23:44:13.419Z"
   },
   {
    "duration": 66,
    "start_time": "2024-07-03T23:47:24.987Z"
   },
   {
    "duration": 48,
    "start_time": "2024-07-03T23:50:49.774Z"
   },
   {
    "duration": 5,
    "start_time": "2024-07-03T23:51:36.120Z"
   },
   {
    "duration": 11,
    "start_time": "2024-07-03T23:51:44.222Z"
   },
   {
    "duration": 654,
    "start_time": "2024-07-03T23:54:12.083Z"
   },
   {
    "duration": 819,
    "start_time": "2024-07-03T23:54:12.741Z"
   },
   {
    "duration": 46,
    "start_time": "2024-07-03T23:54:13.564Z"
   },
   {
    "duration": 130,
    "start_time": "2024-07-03T23:54:13.631Z"
   },
   {
    "duration": 123,
    "start_time": "2024-07-03T23:54:13.765Z"
   },
   {
    "duration": 178,
    "start_time": "2024-07-03T23:54:13.891Z"
   },
   {
    "duration": 104,
    "start_time": "2024-07-03T23:54:14.072Z"
   },
   {
    "duration": 293,
    "start_time": "2024-07-03T23:54:14.178Z"
   },
   {
    "duration": 382,
    "start_time": "2024-07-03T23:54:14.474Z"
   },
   {
    "duration": 23,
    "start_time": "2024-07-03T23:54:14.863Z"
   },
   {
    "duration": 153,
    "start_time": "2024-07-03T23:54:14.890Z"
   },
   {
    "duration": 101,
    "start_time": "2024-07-03T23:54:15.046Z"
   },
   {
    "duration": 446,
    "start_time": "2024-07-03T23:54:15.150Z"
   },
   {
    "duration": 34,
    "start_time": "2024-07-03T23:54:15.598Z"
   },
   {
    "duration": 70,
    "start_time": "2024-07-03T23:54:15.634Z"
   },
   {
    "duration": 73,
    "start_time": "2024-07-03T23:54:15.708Z"
   },
   {
    "duration": 108,
    "start_time": "2024-07-03T23:54:15.783Z"
   },
   {
    "duration": 61,
    "start_time": "2024-07-03T23:54:15.894Z"
   },
   {
    "duration": 96,
    "start_time": "2024-07-03T23:54:15.958Z"
   },
   {
    "duration": 144,
    "start_time": "2024-07-03T23:54:16.057Z"
   },
   {
    "duration": 33,
    "start_time": "2024-07-03T23:54:16.204Z"
   },
   {
    "duration": 92,
    "start_time": "2024-07-03T23:54:16.240Z"
   },
   {
    "duration": 146,
    "start_time": "2024-07-03T23:54:16.335Z"
   },
   {
    "duration": 16,
    "start_time": "2024-07-03T23:54:16.486Z"
   },
   {
    "duration": 362,
    "start_time": "2024-07-03T23:54:16.505Z"
   },
   {
    "duration": 6,
    "start_time": "2024-07-03T23:54:16.870Z"
   },
   {
    "duration": 18,
    "start_time": "2024-07-03T23:54:16.879Z"
   },
   {
    "duration": 82,
    "start_time": "2024-07-03T23:54:16.905Z"
   },
   {
    "duration": 201,
    "start_time": "2024-07-03T23:54:16.990Z"
   },
   {
    "duration": 40,
    "start_time": "2024-07-03T23:54:17.194Z"
   },
   {
    "duration": 94,
    "start_time": "2024-07-03T23:54:17.236Z"
   },
   {
    "duration": 85,
    "start_time": "2024-07-03T23:54:17.333Z"
   },
   {
    "duration": 381,
    "start_time": "2024-07-03T23:54:17.431Z"
   },
   {
    "duration": 214,
    "start_time": "2024-07-03T23:54:17.816Z"
   },
   {
    "duration": 8,
    "start_time": "2024-07-03T23:54:18.033Z"
   },
   {
    "duration": 6,
    "start_time": "2024-07-03T23:54:18.044Z"
   },
   {
    "duration": 477,
    "start_time": "2024-07-03T23:54:18.053Z"
   },
   {
    "duration": 68,
    "start_time": "2024-07-03T23:54:18.534Z"
   },
   {
    "duration": 70,
    "start_time": "2024-07-03T23:54:18.605Z"
   },
   {
    "duration": 12,
    "start_time": "2024-07-03T23:54:18.678Z"
   },
   {
    "duration": 1449,
    "start_time": "2024-07-03T23:54:18.694Z"
   },
   {
    "duration": 294004,
    "start_time": "2024-07-03T23:54:43.114Z"
   },
   {
    "duration": 3,
    "start_time": "2024-07-04T00:03:46.386Z"
   },
   {
    "duration": 68,
    "start_time": "2024-07-04T00:04:44.868Z"
   },
   {
    "duration": 75,
    "start_time": "2024-07-04T00:07:35.064Z"
   },
   {
    "duration": 299,
    "start_time": "2024-07-04T00:08:14.134Z"
   },
   {
    "duration": 17,
    "start_time": "2024-07-04T00:08:38.640Z"
   },
   {
    "duration": 187,
    "start_time": "2024-07-04T00:09:39.831Z"
   },
   {
    "duration": 73,
    "start_time": "2024-07-04T00:20:55.648Z"
   },
   {
    "duration": 41,
    "start_time": "2024-07-04T00:21:13.091Z"
   },
   {
    "duration": 18,
    "start_time": "2024-07-04T00:22:37.175Z"
   },
   {
    "duration": 191,
    "start_time": "2024-07-04T00:27:58.628Z"
   },
   {
    "duration": 18,
    "start_time": "2024-07-04T00:29:02.801Z"
   },
   {
    "duration": 846,
    "start_time": "2024-07-04T00:29:15.943Z"
   },
   {
    "duration": 56,
    "start_time": "2024-07-04T00:29:48.455Z"
   },
   {
    "duration": 54,
    "start_time": "2024-07-04T00:30:13.834Z"
   },
   {
    "duration": 231,
    "start_time": "2024-07-04T00:32:01.460Z"
   },
   {
    "duration": 232,
    "start_time": "2024-07-04T00:32:05.326Z"
   },
   {
    "duration": 240,
    "start_time": "2024-07-04T00:33:08.629Z"
   },
   {
    "duration": 92,
    "start_time": "2024-07-04T00:34:21.747Z"
   },
   {
    "duration": 63,
    "start_time": "2024-07-04T00:34:26.500Z"
   },
   {
    "duration": 20,
    "start_time": "2024-07-04T00:34:28.453Z"
   },
   {
    "duration": 255,
    "start_time": "2024-07-04T00:34:33.922Z"
   },
   {
    "duration": 651,
    "start_time": "2024-07-04T00:35:30.431Z"
   },
   {
    "duration": 0,
    "start_time": "2024-07-04T00:35:31.086Z"
   },
   {
    "duration": 251,
    "start_time": "2024-07-04T00:35:34.173Z"
   },
   {
    "duration": 19,
    "start_time": "2024-07-04T00:38:04.103Z"
   },
   {
    "duration": 679,
    "start_time": "2024-07-04T00:38:16.726Z"
   },
   {
    "duration": 824,
    "start_time": "2024-07-04T00:38:17.408Z"
   },
   {
    "duration": 43,
    "start_time": "2024-07-04T00:38:18.235Z"
   },
   {
    "duration": 144,
    "start_time": "2024-07-04T00:38:18.280Z"
   },
   {
    "duration": 135,
    "start_time": "2024-07-04T00:38:18.434Z"
   },
   {
    "duration": 176,
    "start_time": "2024-07-04T00:38:18.573Z"
   },
   {
    "duration": 105,
    "start_time": "2024-07-04T00:38:18.752Z"
   },
   {
    "duration": 284,
    "start_time": "2024-07-04T00:38:18.860Z"
   },
   {
    "duration": 383,
    "start_time": "2024-07-04T00:38:19.147Z"
   },
   {
    "duration": 23,
    "start_time": "2024-07-04T00:38:19.533Z"
   },
   {
    "duration": 148,
    "start_time": "2024-07-04T00:38:19.559Z"
   },
   {
    "duration": 101,
    "start_time": "2024-07-04T00:38:19.713Z"
   },
   {
    "duration": 443,
    "start_time": "2024-07-04T00:38:19.817Z"
   },
   {
    "duration": 18,
    "start_time": "2024-07-04T00:38:20.267Z"
   },
   {
    "duration": 96,
    "start_time": "2024-07-04T00:38:20.287Z"
   },
   {
    "duration": 74,
    "start_time": "2024-07-04T00:38:20.386Z"
   },
   {
    "duration": 105,
    "start_time": "2024-07-04T00:38:20.463Z"
   },
   {
    "duration": 73,
    "start_time": "2024-07-04T00:38:20.571Z"
   },
   {
    "duration": 110,
    "start_time": "2024-07-04T00:38:20.647Z"
   },
   {
    "duration": 130,
    "start_time": "2024-07-04T00:38:20.760Z"
   },
   {
    "duration": 37,
    "start_time": "2024-07-04T00:38:20.893Z"
   },
   {
    "duration": 70,
    "start_time": "2024-07-04T00:38:20.933Z"
   },
   {
    "duration": 141,
    "start_time": "2024-07-04T00:38:21.006Z"
   },
   {
    "duration": 14,
    "start_time": "2024-07-04T00:38:21.150Z"
   },
   {
    "duration": 364,
    "start_time": "2024-07-04T00:38:21.167Z"
   },
   {
    "duration": 5,
    "start_time": "2024-07-04T00:38:21.535Z"
   },
   {
    "duration": 17,
    "start_time": "2024-07-04T00:38:21.543Z"
   },
   {
    "duration": 100,
    "start_time": "2024-07-04T00:38:21.564Z"
   },
   {
    "duration": 213,
    "start_time": "2024-07-04T00:38:21.668Z"
   },
   {
    "duration": 31,
    "start_time": "2024-07-04T00:38:21.884Z"
   },
   {
    "duration": 102,
    "start_time": "2024-07-04T00:38:21.931Z"
   },
   {
    "duration": 93,
    "start_time": "2024-07-04T00:38:22.040Z"
   },
   {
    "duration": 413,
    "start_time": "2024-07-04T00:38:22.139Z"
   },
   {
    "duration": 216,
    "start_time": "2024-07-04T00:38:22.555Z"
   },
   {
    "duration": 9,
    "start_time": "2024-07-04T00:38:22.774Z"
   },
   {
    "duration": 6,
    "start_time": "2024-07-04T00:38:22.786Z"
   },
   {
    "duration": 443,
    "start_time": "2024-07-04T00:38:22.795Z"
   },
   {
    "duration": 63,
    "start_time": "2024-07-04T00:38:23.241Z"
   },
   {
    "duration": 66,
    "start_time": "2024-07-04T00:38:23.307Z"
   },
   {
    "duration": 83,
    "start_time": "2024-07-04T00:38:23.375Z"
   },
   {
    "duration": 91,
    "start_time": "2024-07-04T00:38:23.468Z"
   },
   {
    "duration": 16,
    "start_time": "2024-07-04T00:38:23.562Z"
   },
   {
    "duration": 278,
    "start_time": "2024-07-04T00:38:23.581Z"
   },
   {
    "duration": 32,
    "start_time": "2024-07-04T00:38:23.862Z"
   },
   {
    "duration": 41,
    "start_time": "2024-07-04T00:38:23.897Z"
   },
   {
    "duration": 16,
    "start_time": "2024-07-04T00:38:23.941Z"
   },
   {
    "duration": 21,
    "start_time": "2024-07-04T00:38:23.960Z"
   },
   {
    "duration": 36,
    "start_time": "2024-07-04T00:38:48.627Z"
   },
   {
    "duration": 32,
    "start_time": "2024-07-04T00:45:56.719Z"
   }
  ],
  "kernelspec": {
   "display_name": "Python 3 (ipykernel)",
   "language": "python",
   "name": "python3"
  },
  "language_info": {
   "codemirror_mode": {
    "name": "ipython",
    "version": 3
   },
   "file_extension": ".py",
   "mimetype": "text/x-python",
   "name": "python",
   "nbconvert_exporter": "python",
   "pygments_lexer": "ipython3",
   "version": "3.11.3"
  },
  "toc": {
   "base_numbering": 1,
   "nav_menu": {},
   "number_sections": true,
   "sideBar": true,
   "skip_h1_title": true,
   "title_cell": "Table of Contents",
   "title_sidebar": "Contents",
   "toc_cell": false,
   "toc_position": {},
   "toc_section_display": true,
   "toc_window_display": false
  }
 },
 "nbformat": 4,
 "nbformat_minor": 2
}
